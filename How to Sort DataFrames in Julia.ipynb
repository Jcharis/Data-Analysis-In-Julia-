{
 "cells": [
  {
   "cell_type": "markdown",
   "metadata": {},
   "source": [
    "## Data Analysis In Julia With DataFrames\n",
    "### Sorting\n",
    "+ sort()\n",
    "+ sort!()\n",
    "+ - sort() = returns a sorted copy of array leaving array itself unmodified."
   ]
  },
  {
   "cell_type": "code",
   "execution_count": 32,
   "metadata": {},
   "outputs": [],
   "source": [
    "using DataFrames"
   ]
  },
  {
   "cell_type": "code",
   "execution_count": 33,
   "metadata": {},
   "outputs": [
    {
     "data": {
      "text/plain": [
       "8-element Array{Int64,1}:\n",
       "  1\n",
       " 30\n",
       "  2\n",
       " 10\n",
       "  7\n",
       "  4\n",
       "  9\n",
       "  5"
      ]
     },
     "execution_count": 33,
     "metadata": {},
     "output_type": "execute_result"
    }
   ],
   "source": [
    "# Sort and Sort!()\n",
    "arr = [1,30,2,10,7,4,9,5]"
   ]
  },
  {
   "cell_type": "code",
   "execution_count": 34,
   "metadata": {},
   "outputs": [
    {
     "data": {
      "text/plain": [
       "8-element Array{Int64,1}:\n",
       "  1\n",
       "  2\n",
       "  4\n",
       "  5\n",
       "  7\n",
       "  9\n",
       " 10\n",
       " 30"
      ]
     },
     "execution_count": 34,
     "metadata": {},
     "output_type": "execute_result"
    }
   ],
   "source": [
    "sort(arr)"
   ]
  },
  {
   "cell_type": "code",
   "execution_count": 35,
   "metadata": {},
   "outputs": [
    {
     "data": {
      "text/plain": [
       "8-element Array{Int64,1}:\n",
       "  1\n",
       " 30\n",
       "  2\n",
       " 10\n",
       "  7\n",
       "  4\n",
       "  9\n",
       "  5"
      ]
     },
     "execution_count": 35,
     "metadata": {},
     "output_type": "execute_result"
    }
   ],
   "source": [
    "# unmodified array\n",
    "arr"
   ]
  },
  {
   "cell_type": "code",
   "execution_count": 36,
   "metadata": {},
   "outputs": [
    {
     "data": {
      "text/plain": [
       "8-element Array{Int64,1}:\n",
       "  1\n",
       "  2\n",
       "  4\n",
       "  5\n",
       "  7\n",
       "  9\n",
       " 10\n",
       " 30"
      ]
     },
     "execution_count": 36,
     "metadata": {},
     "output_type": "execute_result"
    }
   ],
   "source": [
    "sort!(arr)"
   ]
  },
  {
   "cell_type": "code",
   "execution_count": 37,
   "metadata": {},
   "outputs": [
    {
     "data": {
      "text/plain": [
       "8-element Array{Int64,1}:\n",
       "  1\n",
       "  2\n",
       "  4\n",
       "  5\n",
       "  7\n",
       "  9\n",
       " 10\n",
       " 30"
      ]
     },
     "execution_count": 37,
     "metadata": {},
     "output_type": "execute_result"
    }
   ],
   "source": [
    "# modified array\n",
    "arr"
   ]
  },
  {
   "cell_type": "markdown",
   "metadata": {},
   "source": [
    "#### Sorting With Dataset"
   ]
  },
  {
   "cell_type": "code",
   "execution_count": null,
   "metadata": {},
   "outputs": [],
   "source": [
    "# Load Our Data Set\n",
    "# https://archive.ics.uci.edu/ml/datasets/bank+marketing\n",
    "# modified"
   ]
  },
  {
   "cell_type": "code",
   "execution_count": 38,
   "metadata": {},
   "outputs": [
    {
     "data": {
      "text/html": [
       "<table class=\"data-frame\"><thead><tr><th></th><th>age</th><th>job</th><th>marital</th><th>education</th><th>balance</th><th>loan</th><th>contact</th><th>day</th><th>month</th><th>poutcome</th><th>y</th></tr></thead><tbody><tr><th>1</th><td>48</td><td>admin.</td><td>divorced</td><td>secondary</td><td>4099</td><td>no</td><td>cellular</td><td>2</td><td>apr</td><td>unknown</td><td>yes</td></tr><tr><th>2</th><td>53</td><td>admin.</td><td>married</td><td>secondary</td><td>459</td><td>no</td><td>cellular</td><td>5</td><td>apr</td><td>unknown</td><td>yes</td></tr><tr><th>3</th><td>47</td><td>admin.</td><td>single</td><td>secondary</td><td>1544</td><td>no</td><td>cellular</td><td>6</td><td>apr</td><td>failure</td><td>no</td></tr><tr><th>4</th><td>40</td><td>admin.</td><td>single</td><td>secondary</td><td>462</td><td>yes</td><td>cellular</td><td>6</td><td>apr</td><td>other</td><td>no</td></tr><tr><th>5</th><td>36</td><td>admin.</td><td>divorced</td><td>secondary</td><td>356</td><td>no</td><td>cellular</td><td>7</td><td>apr</td><td>failure</td><td>no</td></tr><tr><th>6</th><td>25</td><td>admin.</td><td>single</td><td>tertiary</td><td>1420</td><td>no</td><td>cellular</td><td>8</td><td>apr</td><td>unknown</td><td>no</td></tr><tr><th>7</th><td>59</td><td>admin.</td><td>married</td><td>secondary</td><td>817</td><td>no</td><td>cellular</td><td>9</td><td>apr</td><td>unknown</td><td>no</td></tr><tr><th>8</th><td>49</td><td>admin.</td><td>married</td><td>secondary</td><td>197</td><td>no</td><td>cellular</td><td>13</td><td>apr</td><td>failure</td><td>yes</td></tr><tr><th>9</th><td>41</td><td>admin.</td><td>married</td><td>secondary</td><td>5110</td><td>no</td><td>cellular</td><td>13</td><td>apr</td><td>unknown</td><td>no</td></tr><tr><th>10</th><td>34</td><td>admin.</td><td>married</td><td>secondary</td><td>1499</td><td>no</td><td>cellular</td><td>13</td><td>apr</td><td>failure</td><td>no</td></tr><tr><th>11</th><td>34</td><td>admin.</td><td>single</td><td>secondary</td><td>852</td><td>no</td><td>cellular</td><td>14</td><td>apr</td><td>unknown</td><td>no</td></tr><tr><th>12</th><td>37</td><td>admin.</td><td>single</td><td>secondary</td><td>0</td><td>no</td><td>cellular</td><td>16</td><td>apr</td><td>unknown</td><td>no</td></tr><tr><th>13</th><td>33</td><td>admin.</td><td>divorced</td><td>secondary</td><td>818</td><td>yes</td><td>cellular</td><td>16</td><td>apr</td><td>unknown</td><td>no</td></tr><tr><th>14</th><td>31</td><td>admin.</td><td>single</td><td>secondary</td><td>68</td><td>no</td><td>cellular</td><td>16</td><td>apr</td><td>unknown</td><td>no</td></tr><tr><th>15</th><td>55</td><td>admin.</td><td>married</td><td>secondary</td><td>865</td><td>no</td><td>cellular</td><td>17</td><td>apr</td><td>failure</td><td>no</td></tr><tr><th>16</th><td>50</td><td>admin.</td><td>divorced</td><td>secondary</td><td>1111</td><td>no</td><td>cellular</td><td>17</td><td>apr</td><td>unknown</td><td>no</td></tr><tr><th>17</th><td>43</td><td>admin.</td><td>married</td><td>secondary</td><td>264</td><td>no</td><td>cellular</td><td>17</td><td>apr</td><td>unknown</td><td>no</td></tr><tr><th>18</th><td>39</td><td>admin.</td><td>married</td><td>secondary</td><td>260</td><td>no</td><td>cellular</td><td>17</td><td>apr</td><td>failure</td><td>no</td></tr><tr><th>19</th><td>38</td><td>admin.</td><td>married</td><td>secondary</td><td>424</td><td>no</td><td>cellular</td><td>17</td><td>apr</td><td>unknown</td><td>no</td></tr><tr><th>20</th><td>35</td><td>admin.</td><td>divorced</td><td>secondary</td><td>-402</td><td>no</td><td>cellular</td><td>17</td><td>apr</td><td>unknown</td><td>no</td></tr><tr><th>21</th><td>34</td><td>admin.</td><td>single</td><td>secondary</td><td>846</td><td>no</td><td>cellular</td><td>17</td><td>apr</td><td>unknown</td><td>no</td></tr><tr><th>22</th><td>32</td><td>admin.</td><td>married</td><td>secondary</td><td>923</td><td>no</td><td>cellular</td><td>17</td><td>apr</td><td>unknown</td><td>no</td></tr><tr><th>23</th><td>31</td><td>admin.</td><td>single</td><td>secondary</td><td>223</td><td>no</td><td>cellular</td><td>17</td><td>apr</td><td>success</td><td>no</td></tr><tr><th>24</th><td>31</td><td>admin.</td><td>married</td><td>secondary</td><td>314</td><td>no</td><td>cellular</td><td>17</td><td>apr</td><td>unknown</td><td>no</td></tr><tr><th>25</th><td>29</td><td>admin.</td><td>single</td><td>secondary</td><td>3432</td><td>no</td><td>cellular</td><td>17</td><td>apr</td><td>unknown</td><td>no</td></tr><tr><th>26</th><td>53</td><td>admin.</td><td>married</td><td>secondary</td><td>225</td><td>no</td><td>cellular</td><td>20</td><td>apr</td><td>failure</td><td>no</td></tr><tr><th>27</th><td>46</td><td>admin.</td><td>married</td><td>secondary</td><td>0</td><td>yes</td><td>cellular</td><td>20</td><td>apr</td><td>failure</td><td>no</td></tr><tr><th>28</th><td>38</td><td>admin.</td><td>married</td><td>primary</td><td>3913</td><td>no</td><td>cellular</td><td>20</td><td>apr</td><td>failure</td><td>no</td></tr><tr><th>29</th><td>37</td><td>admin.</td><td>single</td><td>tertiary</td><td>2317</td><td>no</td><td>cellular</td><td>20</td><td>apr</td><td>failure</td><td>no</td></tr><tr><th>30</th><td>37</td><td>admin.</td><td>single</td><td>secondary</td><td>-296</td><td>no</td><td>cellular</td><td>20</td><td>apr</td><td>unknown</td><td>no</td></tr><tr><th>&vellip;</th><td>&vellip;</td><td>&vellip;</td><td>&vellip;</td><td>&vellip;</td><td>&vellip;</td><td>&vellip;</td><td>&vellip;</td><td>&vellip;</td><td>&vellip;</td><td>&vellip;</td><td>&vellip;</td></tr></tbody></table>"
      ],
      "text/plain": [
       "4521×11 DataFrames.DataFrame\n",
       "│ Row  │ age │ job       │ marital    │ education   │ balance │ loan  │\n",
       "├──────┼─────┼───────────┼────────────┼─────────────┼─────────┼───────┤\n",
       "│ 1    │ 48  │ \"admin.\"  │ \"divorced\" │ \"secondary\" │ 4099    │ \"no\"  │\n",
       "│ 2    │ 53  │ \"admin.\"  │ \"married\"  │ \"secondary\" │ 459     │ \"no\"  │\n",
       "│ 3    │ 47  │ \"admin.\"  │ \"single\"   │ \"secondary\" │ 1544    │ \"no\"  │\n",
       "│ 4    │ 40  │ \"admin.\"  │ \"single\"   │ \"secondary\" │ 462     │ \"yes\" │\n",
       "│ 5    │ 36  │ \"admin.\"  │ \"divorced\" │ \"secondary\" │ 356     │ \"no\"  │\n",
       "│ 6    │ 25  │ \"admin.\"  │ \"single\"   │ \"tertiary\"  │ 1420    │ \"no\"  │\n",
       "│ 7    │ 59  │ \"admin.\"  │ \"married\"  │ \"secondary\" │ 817     │ \"no\"  │\n",
       "│ 8    │ 49  │ \"admin.\"  │ \"married\"  │ \"secondary\" │ 197     │ \"no\"  │\n",
       "│ 9    │ 41  │ \"admin.\"  │ \"married\"  │ \"secondary\" │ 5110    │ \"no\"  │\n",
       "│ 10   │ 34  │ \"admin.\"  │ \"married\"  │ \"secondary\" │ 1499    │ \"no\"  │\n",
       "│ 11   │ 34  │ \"admin.\"  │ \"single\"   │ \"secondary\" │ 852     │ \"no\"  │\n",
       "⋮\n",
       "│ 4510 │ 52  │ \"unknown\" │ \"married\"  │ \"unknown\"   │ 1317    │ \"no\"  │\n",
       "│ 4511 │ 43  │ \"unknown\" │ \"married\"  │ \"tertiary\"  │ 1937    │ \"no\"  │\n",
       "│ 4512 │ 56  │ \"unknown\" │ \"married\"  │ \"unknown\"   │ 0       │ \"no\"  │\n",
       "│ 4513 │ 54  │ \"unknown\" │ \"married\"  │ \"unknown\"   │ 2508    │ \"no\"  │\n",
       "│ 4514 │ 62  │ \"unknown\" │ \"married\"  │ \"secondary\" │ 367     │ \"no\"  │\n",
       "│ 4515 │ 54  │ \"unknown\" │ \"married\"  │ \"secondary\" │ 1157    │ \"no\"  │\n",
       "│ 4516 │ 54  │ \"unknown\" │ \"married\"  │ \"secondary\" │ 2206    │ \"no\"  │\n",
       "│ 4517 │ 43  │ \"unknown\" │ \"single\"   │ \"tertiary\"  │ 2731    │ \"no\"  │\n",
       "│ 4518 │ 54  │ \"unknown\" │ \"married\"  │ \"unknown\"   │ 895     │ \"no\"  │\n",
       "│ 4519 │ 53  │ \"unknown\" │ \"married\"  │ \"primary\"   │ 732     │ \"no\"  │\n",
       "│ 4520 │ 55  │ \"unknown\" │ \"married\"  │ \"primary\"   │ 159     │ \"no\"  │\n",
       "│ 4521 │ 38  │ \"unknown\" │ \"single\"   │ \"tertiary\"  │ 0       │ \"no\"  │\n",
       "\n",
       "│ Row  │ contact     │ day │ month │ poutcome  │ y     │\n",
       "├──────┼─────────────┼─────┼───────┼───────────┼───────┤\n",
       "│ 1    │ \"cellular\"  │ 2   │ \"apr\" │ \"unknown\" │ \"yes\" │\n",
       "│ 2    │ \"cellular\"  │ 5   │ \"apr\" │ \"unknown\" │ \"yes\" │\n",
       "│ 3    │ \"cellular\"  │ 6   │ \"apr\" │ \"failure\" │ \"no\"  │\n",
       "│ 4    │ \"cellular\"  │ 6   │ \"apr\" │ \"other\"   │ \"no\"  │\n",
       "│ 5    │ \"cellular\"  │ 7   │ \"apr\" │ \"failure\" │ \"no\"  │\n",
       "│ 6    │ \"cellular\"  │ 8   │ \"apr\" │ \"unknown\" │ \"no\"  │\n",
       "│ 7    │ \"cellular\"  │ 9   │ \"apr\" │ \"unknown\" │ \"no\"  │\n",
       "│ 8    │ \"cellular\"  │ 13  │ \"apr\" │ \"failure\" │ \"yes\" │\n",
       "│ 9    │ \"cellular\"  │ 13  │ \"apr\" │ \"unknown\" │ \"no\"  │\n",
       "│ 10   │ \"cellular\"  │ 13  │ \"apr\" │ \"failure\" │ \"no\"  │\n",
       "│ 11   │ \"cellular\"  │ 14  │ \"apr\" │ \"unknown\" │ \"no\"  │\n",
       "⋮\n",
       "│ 4510 │ \"unknown\"   │ 12  │ \"jun\" │ \"unknown\" │ \"no\"  │\n",
       "│ 4511 │ \"unknown\"   │ 19  │ \"jun\" │ \"unknown\" │ \"no\"  │\n",
       "│ 4512 │ \"unknown\"   │ 20  │ \"jun\" │ \"unknown\" │ \"no\"  │\n",
       "│ 4513 │ \"unknown\"   │ 20  │ \"jun\" │ \"unknown\" │ \"no\"  │\n",
       "│ 4514 │ \"telephone\" │ 2   │ \"mar\" │ \"unknown\" │ \"no\"  │\n",
       "│ 4515 │ \"cellular\"  │ 26  │ \"may\" │ \"unknown\" │ \"no\"  │\n",
       "│ 4516 │ \"cellular\"  │ 12  │ \"nov\" │ \"other\"   │ \"yes\" │\n",
       "│ 4517 │ \"cellular\"  │ 21  │ \"nov\" │ \"unknown\" │ \"no\"  │\n",
       "│ 4518 │ \"cellular\"  │ 7   │ \"oct\" │ \"unknown\" │ \"yes\" │\n",
       "│ 4519 │ \"cellular\"  │ 27  │ \"oct\" │ \"unknown\" │ \"yes\" │\n",
       "│ 4520 │ \"unknown\"   │ 4   │ \"sep\" │ \"unknown\" │ \"no\"  │\n",
       "│ 4521 │ \"cellular\"  │ 11  │ \"sep\" │ \"success\" │ \"yes\" │"
      ]
     },
     "execution_count": 38,
     "metadata": {},
     "output_type": "execute_result"
    }
   ],
   "source": [
    "df = readtable(\"newbank_data.csv\")"
   ]
  },
  {
   "cell_type": "code",
   "execution_count": 39,
   "metadata": {},
   "outputs": [
    {
     "data": {
      "text/html": [
       "<table class=\"data-frame\"><thead><tr><th></th><th>age</th><th>job</th><th>marital</th><th>education</th><th>balance</th><th>loan</th><th>contact</th><th>day</th><th>month</th><th>poutcome</th><th>y</th></tr></thead><tbody><tr><th>1</th><td>48</td><td>admin.</td><td>divorced</td><td>secondary</td><td>4099</td><td>no</td><td>cellular</td><td>2</td><td>apr</td><td>unknown</td><td>yes</td></tr><tr><th>2</th><td>53</td><td>admin.</td><td>married</td><td>secondary</td><td>459</td><td>no</td><td>cellular</td><td>5</td><td>apr</td><td>unknown</td><td>yes</td></tr><tr><th>3</th><td>47</td><td>admin.</td><td>single</td><td>secondary</td><td>1544</td><td>no</td><td>cellular</td><td>6</td><td>apr</td><td>failure</td><td>no</td></tr><tr><th>4</th><td>40</td><td>admin.</td><td>single</td><td>secondary</td><td>462</td><td>yes</td><td>cellular</td><td>6</td><td>apr</td><td>other</td><td>no</td></tr><tr><th>5</th><td>36</td><td>admin.</td><td>divorced</td><td>secondary</td><td>356</td><td>no</td><td>cellular</td><td>7</td><td>apr</td><td>failure</td><td>no</td></tr></tbody></table>"
      ],
      "text/plain": [
       "5×11 DataFrames.DataFrame\n",
       "│ Row │ age │ job      │ marital    │ education   │ balance │ loan  │\n",
       "├─────┼─────┼──────────┼────────────┼─────────────┼─────────┼───────┤\n",
       "│ 1   │ 48  │ \"admin.\" │ \"divorced\" │ \"secondary\" │ 4099    │ \"no\"  │\n",
       "│ 2   │ 53  │ \"admin.\" │ \"married\"  │ \"secondary\" │ 459     │ \"no\"  │\n",
       "│ 3   │ 47  │ \"admin.\" │ \"single\"   │ \"secondary\" │ 1544    │ \"no\"  │\n",
       "│ 4   │ 40  │ \"admin.\" │ \"single\"   │ \"secondary\" │ 462     │ \"yes\" │\n",
       "│ 5   │ 36  │ \"admin.\" │ \"divorced\" │ \"secondary\" │ 356     │ \"no\"  │\n",
       "\n",
       "│ Row │ contact    │ day │ month │ poutcome  │ y     │\n",
       "├─────┼────────────┼─────┼───────┼───────────┼───────┤\n",
       "│ 1   │ \"cellular\" │ 2   │ \"apr\" │ \"unknown\" │ \"yes\" │\n",
       "│ 2   │ \"cellular\" │ 5   │ \"apr\" │ \"unknown\" │ \"yes\" │\n",
       "│ 3   │ \"cellular\" │ 6   │ \"apr\" │ \"failure\" │ \"no\"  │\n",
       "│ 4   │ \"cellular\" │ 6   │ \"apr\" │ \"other\"   │ \"no\"  │\n",
       "│ 5   │ \"cellular\" │ 7   │ \"apr\" │ \"failure\" │ \"no\"  │"
      ]
     },
     "execution_count": 39,
     "metadata": {},
     "output_type": "execute_result"
    }
   ],
   "source": [
    "head(df,5)"
   ]
  },
  {
   "cell_type": "code",
   "execution_count": 40,
   "metadata": {},
   "outputs": [
    {
     "data": {
      "text/plain": [
       "11-element Array{Symbol,1}:\n",
       " :age      \n",
       " :job      \n",
       " :marital  \n",
       " :education\n",
       " :balance  \n",
       " :loan     \n",
       " :contact  \n",
       " :day      \n",
       " :month    \n",
       " :poutcome \n",
       " :y        "
      ]
     },
     "execution_count": 40,
     "metadata": {},
     "output_type": "execute_result"
    }
   ],
   "source": [
    "names(df)"
   ]
  },
  {
   "cell_type": "markdown",
   "metadata": {},
   "source": [
    "#### Sorting"
   ]
  },
  {
   "cell_type": "code",
   "execution_count": null,
   "metadata": {},
   "outputs": [],
   "source": [
    "# sort!() Default\n",
    "# By default it sort by first column and in ascending order\n",
    "# sort!(DataFrame,cols = [:columns],kwargs)"
   ]
  },
  {
   "cell_type": "code",
   "execution_count": 41,
   "metadata": {},
   "outputs": [
    {
     "data": {
      "text/html": [
       "<table class=\"data-frame\"><thead><tr><th></th><th>age</th><th>job</th><th>marital</th><th>education</th><th>balance</th><th>loan</th><th>contact</th><th>day</th><th>month</th><th>poutcome</th><th>y</th></tr></thead><tbody><tr><th>1</th><td>19</td><td>student</td><td>single</td><td>primary</td><td>103</td><td>no</td><td>cellular</td><td>10</td><td>jul</td><td>unknown</td><td>yes</td></tr><tr><th>2</th><td>19</td><td>student</td><td>single</td><td>secondary</td><td>302</td><td>no</td><td>cellular</td><td>16</td><td>jul</td><td>unknown</td><td>yes</td></tr><tr><th>3</th><td>19</td><td>student</td><td>single</td><td>unknown</td><td>0</td><td>no</td><td>cellular</td><td>11</td><td>feb</td><td>unknown</td><td>no</td></tr><tr><th>4</th><td>19</td><td>student</td><td>single</td><td>unknown</td><td>1169</td><td>no</td><td>cellular</td><td>6</td><td>feb</td><td>unknown</td><td>no</td></tr><tr><th>5</th><td>20</td><td>student</td><td>single</td><td>secondary</td><td>291</td><td>no</td><td>telephone</td><td>11</td><td>may</td><td>failure</td><td>no</td></tr><tr><th>6</th><td>20</td><td>student</td><td>single</td><td>secondary</td><td>502</td><td>no</td><td>cellular</td><td>30</td><td>apr</td><td>unknown</td><td>yes</td></tr><tr><th>7</th><td>20</td><td>student</td><td>single</td><td>secondary</td><td>1191</td><td>no</td><td>cellular</td><td>12</td><td>feb</td><td>unknown</td><td>no</td></tr><tr><th>8</th><td>21</td><td>services</td><td>single</td><td>secondary</td><td>361</td><td>no</td><td>telephone</td><td>5</td><td>jun</td><td>other</td><td>no</td></tr><tr><th>9</th><td>21</td><td>services</td><td>single</td><td>secondary</td><td>1903</td><td>no</td><td>unknown</td><td>29</td><td>may</td><td>unknown</td><td>no</td></tr><tr><th>10</th><td>21</td><td>student</td><td>single</td><td>secondary</td><td>6</td><td>no</td><td>unknown</td><td>9</td><td>may</td><td>unknown</td><td>no</td></tr><tr><th>11</th><td>21</td><td>student</td><td>single</td><td>secondary</td><td>681</td><td>no</td><td>unknown</td><td>20</td><td>aug</td><td>unknown</td><td>no</td></tr><tr><th>12</th><td>21</td><td>student</td><td>single</td><td>secondary</td><td>2488</td><td>no</td><td>cellular</td><td>30</td><td>jun</td><td>success</td><td>yes</td></tr><tr><th>13</th><td>21</td><td>student</td><td>single</td><td>secondary</td><td>6844</td><td>no</td><td>cellular</td><td>14</td><td>aug</td><td>other</td><td>no</td></tr><tr><th>14</th><td>21</td><td>student</td><td>single</td><td>unknown</td><td>137</td><td>no</td><td>unknown</td><td>12</td><td>may</td><td>unknown</td><td>no</td></tr><tr><th>15</th><td>22</td><td>admin.</td><td>single</td><td>secondary</td><td>4111</td><td>yes</td><td>cellular</td><td>19</td><td>aug</td><td>unknown</td><td>no</td></tr><tr><th>16</th><td>22</td><td>student</td><td>single</td><td>primary</td><td>3472</td><td>no</td><td>cellular</td><td>20</td><td>oct</td><td>failure</td><td>yes</td></tr><tr><th>17</th><td>22</td><td>student</td><td>single</td><td>secondary</td><td>246</td><td>no</td><td>telephone</td><td>12</td><td>may</td><td>unknown</td><td>no</td></tr><tr><th>18</th><td>22</td><td>student</td><td>single</td><td>secondary</td><td>2488</td><td>no</td><td>cellular</td><td>8</td><td>nov</td><td>other</td><td>yes</td></tr><tr><th>19</th><td>22</td><td>student</td><td>single</td><td>tertiary</td><td>691</td><td>no</td><td>cellular</td><td>19</td><td>aug</td><td>unknown</td><td>yes</td></tr><tr><th>20</th><td>22</td><td>student</td><td>single</td><td>tertiary</td><td>1161</td><td>yes</td><td>cellular</td><td>16</td><td>jun</td><td>unknown</td><td>no</td></tr><tr><th>21</th><td>22</td><td>student</td><td>single</td><td>unknown</td><td>47</td><td>no</td><td>cellular</td><td>3</td><td>jul</td><td>unknown</td><td>no</td></tr><tr><th>22</th><td>22</td><td>student</td><td>single</td><td>unknown</td><td>549</td><td>no</td><td>cellular</td><td>2</td><td>sep</td><td>unknown</td><td>no</td></tr><tr><th>23</th><td>22</td><td>technician</td><td>single</td><td>secondary</td><td>333</td><td>yes</td><td>telephone</td><td>12</td><td>nov</td><td>unknown</td><td>no</td></tr><tr><th>24</th><td>23</td><td>admin.</td><td>single</td><td>secondary</td><td>5</td><td>no</td><td>unknown</td><td>12</td><td>may</td><td>unknown</td><td>no</td></tr><tr><th>25</th><td>23</td><td>admin.</td><td>single</td><td>secondary</td><td>589</td><td>no</td><td>cellular</td><td>6</td><td>may</td><td>unknown</td><td>no</td></tr><tr><th>26</th><td>23</td><td>blue-collar</td><td>married</td><td>primary</td><td>1158</td><td>no</td><td>cellular</td><td>16</td><td>apr</td><td>unknown</td><td>no</td></tr><tr><th>27</th><td>23</td><td>blue-collar</td><td>single</td><td>primary</td><td>8627</td><td>no</td><td>cellular</td><td>15</td><td>may</td><td>failure</td><td>no</td></tr><tr><th>28</th><td>23</td><td>blue-collar</td><td>single</td><td>primary</td><td>8627</td><td>no</td><td>unknown</td><td>3</td><td>jun</td><td>unknown</td><td>no</td></tr><tr><th>29</th><td>23</td><td>blue-collar</td><td>single</td><td>unknown</td><td>817</td><td>no</td><td>cellular</td><td>18</td><td>may</td><td>unknown</td><td>no</td></tr><tr><th>30</th><td>23</td><td>entrepreneur</td><td>single</td><td>primary</td><td>4</td><td>no</td><td>unknown</td><td>13</td><td>may</td><td>unknown</td><td>yes</td></tr><tr><th>&vellip;</th><td>&vellip;</td><td>&vellip;</td><td>&vellip;</td><td>&vellip;</td><td>&vellip;</td><td>&vellip;</td><td>&vellip;</td><td>&vellip;</td><td>&vellip;</td><td>&vellip;</td><td>&vellip;</td></tr></tbody></table>"
      ],
      "text/plain": [
       "4521×11 DataFrames.DataFrame\n",
       "│ Row  │ age │ job        │ marital    │ education   │ balance │ loan │\n",
       "├──────┼─────┼────────────┼────────────┼─────────────┼─────────┼──────┤\n",
       "│ 1    │ 19  │ \"student\"  │ \"single\"   │ \"primary\"   │ 103     │ \"no\" │\n",
       "│ 2    │ 19  │ \"student\"  │ \"single\"   │ \"secondary\" │ 302     │ \"no\" │\n",
       "│ 3    │ 19  │ \"student\"  │ \"single\"   │ \"unknown\"   │ 0       │ \"no\" │\n",
       "│ 4    │ 19  │ \"student\"  │ \"single\"   │ \"unknown\"   │ 1169    │ \"no\" │\n",
       "│ 5    │ 20  │ \"student\"  │ \"single\"   │ \"secondary\" │ 291     │ \"no\" │\n",
       "│ 6    │ 20  │ \"student\"  │ \"single\"   │ \"secondary\" │ 502     │ \"no\" │\n",
       "│ 7    │ 20  │ \"student\"  │ \"single\"   │ \"secondary\" │ 1191    │ \"no\" │\n",
       "│ 8    │ 21  │ \"services\" │ \"single\"   │ \"secondary\" │ 361     │ \"no\" │\n",
       "│ 9    │ 21  │ \"services\" │ \"single\"   │ \"secondary\" │ 1903    │ \"no\" │\n",
       "│ 10   │ 21  │ \"student\"  │ \"single\"   │ \"secondary\" │ 6       │ \"no\" │\n",
       "│ 11   │ 21  │ \"student\"  │ \"single\"   │ \"secondary\" │ 681     │ \"no\" │\n",
       "⋮\n",
       "│ 4510 │ 80  │ \"retired\"  │ \"married\"  │ \"primary\"   │ 1548    │ \"no\" │\n",
       "│ 4511 │ 80  │ \"retired\"  │ \"married\"  │ \"secondary\" │ 462     │ \"no\" │\n",
       "│ 4512 │ 80  │ \"retired\"  │ \"married\"  │ \"secondary\" │ 8304    │ \"no\" │\n",
       "│ 4513 │ 80  │ \"retired\"  │ \"married\"  │ \"secondary\" │ 8304    │ \"no\" │\n",
       "│ 4514 │ 81  │ \"retired\"  │ \"married\"  │ \"secondary\" │ 1       │ \"no\" │\n",
       "│ 4515 │ 83  │ \"retired\"  │ \"divorced\" │ \"primary\"   │ 0       │ \"no\" │\n",
       "│ 4516 │ 83  │ \"retired\"  │ \"divorced\" │ \"primary\"   │ 1097    │ \"no\" │\n",
       "│ 4517 │ 83  │ \"retired\"  │ \"married\"  │ \"primary\"   │ 425     │ \"no\" │\n",
       "│ 4518 │ 83  │ \"retired\"  │ \"married\"  │ \"secondary\" │ 0       │ \"no\" │\n",
       "│ 4519 │ 84  │ \"retired\"  │ \"divorced\" │ \"primary\"   │ 639     │ \"no\" │\n",
       "│ 4520 │ 86  │ \"retired\"  │ \"married\"  │ \"secondary\" │ 1503    │ \"no\" │\n",
       "│ 4521 │ 87  │ \"retired\"  │ \"married\"  │ \"primary\"   │ 230     │ \"no\" │\n",
       "\n",
       "│ Row  │ contact     │ day │ month │ poutcome  │ y     │\n",
       "├──────┼─────────────┼─────┼───────┼───────────┼───────┤\n",
       "│ 1    │ \"cellular\"  │ 10  │ \"jul\" │ \"unknown\" │ \"yes\" │\n",
       "│ 2    │ \"cellular\"  │ 16  │ \"jul\" │ \"unknown\" │ \"yes\" │\n",
       "│ 3    │ \"cellular\"  │ 11  │ \"feb\" │ \"unknown\" │ \"no\"  │\n",
       "│ 4    │ \"cellular\"  │ 6   │ \"feb\" │ \"unknown\" │ \"no\"  │\n",
       "│ 5    │ \"telephone\" │ 11  │ \"may\" │ \"failure\" │ \"no\"  │\n",
       "│ 6    │ \"cellular\"  │ 30  │ \"apr\" │ \"unknown\" │ \"yes\" │\n",
       "│ 7    │ \"cellular\"  │ 12  │ \"feb\" │ \"unknown\" │ \"no\"  │\n",
       "│ 8    │ \"telephone\" │ 5   │ \"jun\" │ \"other\"   │ \"no\"  │\n",
       "│ 9    │ \"unknown\"   │ 29  │ \"may\" │ \"unknown\" │ \"no\"  │\n",
       "│ 10   │ \"unknown\"   │ 9   │ \"may\" │ \"unknown\" │ \"no\"  │\n",
       "│ 11   │ \"unknown\"   │ 20  │ \"aug\" │ \"unknown\" │ \"no\"  │\n",
       "⋮\n",
       "│ 4510 │ \"cellular\"  │ 6   │ \"aug\" │ \"unknown\" │ \"no\"  │\n",
       "│ 4511 │ \"cellular\"  │ 7   │ \"dec\" │ \"unknown\" │ \"no\"  │\n",
       "│ 4512 │ \"telephone\" │ 6   │ \"apr\" │ \"success\" │ \"no\"  │\n",
       "│ 4513 │ \"telephone\" │ 9   │ \"jun\" │ \"failure\" │ \"yes\" │\n",
       "│ 4514 │ \"cellular\"  │ 19  │ \"aug\" │ \"unknown\" │ \"no\"  │\n",
       "│ 4515 │ \"telephone\" │ 31  │ \"may\" │ \"success\" │ \"no\"  │\n",
       "│ 4516 │ \"telephone\" │ 5   │ \"mar\" │ \"unknown\" │ \"yes\" │\n",
       "│ 4517 │ \"telephone\" │ 22  │ \"jun\" │ \"failure\" │ \"yes\" │\n",
       "│ 4518 │ \"cellular\"  │ 18  │ \"mar\" │ \"unknown\" │ \"no\"  │\n",
       "│ 4519 │ \"telephone\" │ 18  │ \"may\" │ \"unknown\" │ \"yes\" │\n",
       "│ 4520 │ \"telephone\" │ 18  │ \"mar\" │ \"other\"   │ \"no\"  │\n",
       "│ 4521 │ \"cellular\"  │ 30  │ \"oct\" │ \"unknown\" │ \"yes\" │"
      ]
     },
     "execution_count": 41,
     "metadata": {},
     "output_type": "execute_result"
    }
   ],
   "source": [
    "sort!(df)"
   ]
  },
  {
   "cell_type": "code",
   "execution_count": 44,
   "metadata": {},
   "outputs": [
    {
     "data": {
      "text/html": [
       "<table class=\"data-frame\"><thead><tr><th></th><th>age</th><th>job</th><th>marital</th><th>education</th><th>balance</th><th>loan</th><th>contact</th><th>day</th><th>month</th><th>poutcome</th><th>y</th></tr></thead><tbody><tr><th>1</th><td>19</td><td>student</td><td>single</td><td>unknown</td><td>0</td><td>no</td><td>cellular</td><td>11</td><td>feb</td><td>unknown</td><td>no</td></tr><tr><th>2</th><td>19</td><td>student</td><td>single</td><td>primary</td><td>103</td><td>no</td><td>cellular</td><td>10</td><td>jul</td><td>unknown</td><td>yes</td></tr><tr><th>3</th><td>19</td><td>student</td><td>single</td><td>secondary</td><td>302</td><td>no</td><td>cellular</td><td>16</td><td>jul</td><td>unknown</td><td>yes</td></tr><tr><th>4</th><td>19</td><td>student</td><td>single</td><td>unknown</td><td>1169</td><td>no</td><td>cellular</td><td>6</td><td>feb</td><td>unknown</td><td>no</td></tr><tr><th>5</th><td>20</td><td>student</td><td>single</td><td>secondary</td><td>291</td><td>no</td><td>telephone</td><td>11</td><td>may</td><td>failure</td><td>no</td></tr><tr><th>6</th><td>20</td><td>student</td><td>single</td><td>secondary</td><td>502</td><td>no</td><td>cellular</td><td>30</td><td>apr</td><td>unknown</td><td>yes</td></tr><tr><th>7</th><td>20</td><td>student</td><td>single</td><td>secondary</td><td>1191</td><td>no</td><td>cellular</td><td>12</td><td>feb</td><td>unknown</td><td>no</td></tr><tr><th>8</th><td>21</td><td>student</td><td>single</td><td>secondary</td><td>6</td><td>no</td><td>unknown</td><td>9</td><td>may</td><td>unknown</td><td>no</td></tr><tr><th>9</th><td>21</td><td>student</td><td>single</td><td>unknown</td><td>137</td><td>no</td><td>unknown</td><td>12</td><td>may</td><td>unknown</td><td>no</td></tr><tr><th>10</th><td>21</td><td>services</td><td>single</td><td>secondary</td><td>361</td><td>no</td><td>telephone</td><td>5</td><td>jun</td><td>other</td><td>no</td></tr><tr><th>11</th><td>21</td><td>student</td><td>single</td><td>secondary</td><td>681</td><td>no</td><td>unknown</td><td>20</td><td>aug</td><td>unknown</td><td>no</td></tr><tr><th>12</th><td>21</td><td>services</td><td>single</td><td>secondary</td><td>1903</td><td>no</td><td>unknown</td><td>29</td><td>may</td><td>unknown</td><td>no</td></tr><tr><th>13</th><td>21</td><td>student</td><td>single</td><td>secondary</td><td>2488</td><td>no</td><td>cellular</td><td>30</td><td>jun</td><td>success</td><td>yes</td></tr><tr><th>14</th><td>21</td><td>student</td><td>single</td><td>secondary</td><td>6844</td><td>no</td><td>cellular</td><td>14</td><td>aug</td><td>other</td><td>no</td></tr><tr><th>15</th><td>22</td><td>student</td><td>single</td><td>unknown</td><td>47</td><td>no</td><td>cellular</td><td>3</td><td>jul</td><td>unknown</td><td>no</td></tr><tr><th>16</th><td>22</td><td>student</td><td>single</td><td>secondary</td><td>246</td><td>no</td><td>telephone</td><td>12</td><td>may</td><td>unknown</td><td>no</td></tr><tr><th>17</th><td>22</td><td>technician</td><td>single</td><td>secondary</td><td>333</td><td>yes</td><td>telephone</td><td>12</td><td>nov</td><td>unknown</td><td>no</td></tr><tr><th>18</th><td>22</td><td>student</td><td>single</td><td>unknown</td><td>549</td><td>no</td><td>cellular</td><td>2</td><td>sep</td><td>unknown</td><td>no</td></tr><tr><th>19</th><td>22</td><td>student</td><td>single</td><td>tertiary</td><td>691</td><td>no</td><td>cellular</td><td>19</td><td>aug</td><td>unknown</td><td>yes</td></tr><tr><th>20</th><td>22</td><td>student</td><td>single</td><td>tertiary</td><td>1161</td><td>yes</td><td>cellular</td><td>16</td><td>jun</td><td>unknown</td><td>no</td></tr><tr><th>21</th><td>22</td><td>student</td><td>single</td><td>secondary</td><td>2488</td><td>no</td><td>cellular</td><td>8</td><td>nov</td><td>other</td><td>yes</td></tr><tr><th>22</th><td>22</td><td>student</td><td>single</td><td>primary</td><td>3472</td><td>no</td><td>cellular</td><td>20</td><td>oct</td><td>failure</td><td>yes</td></tr><tr><th>23</th><td>22</td><td>admin.</td><td>single</td><td>secondary</td><td>4111</td><td>yes</td><td>cellular</td><td>19</td><td>aug</td><td>unknown</td><td>no</td></tr><tr><th>24</th><td>23</td><td>technician</td><td>single</td><td>secondary</td><td>-306</td><td>no</td><td>unknown</td><td>4</td><td>jun</td><td>unknown</td><td>no</td></tr><tr><th>25</th><td>23</td><td>student</td><td>married</td><td>tertiary</td><td>-230</td><td>no</td><td>cellular</td><td>18</td><td>may</td><td>unknown</td><td>no</td></tr><tr><th>26</th><td>23</td><td>services</td><td>married</td><td>secondary</td><td>-19</td><td>no</td><td>unknown</td><td>20</td><td>jun</td><td>unknown</td><td>no</td></tr><tr><th>27</th><td>23</td><td>entrepreneur</td><td>single</td><td>primary</td><td>4</td><td>no</td><td>unknown</td><td>13</td><td>may</td><td>unknown</td><td>yes</td></tr><tr><th>28</th><td>23</td><td>admin.</td><td>single</td><td>secondary</td><td>5</td><td>no</td><td>unknown</td><td>12</td><td>may</td><td>unknown</td><td>no</td></tr><tr><th>29</th><td>23</td><td>services</td><td>single</td><td>secondary</td><td>250</td><td>no</td><td>cellular</td><td>18</td><td>may</td><td>unknown</td><td>no</td></tr><tr><th>30</th><td>23</td><td>services</td><td>single</td><td>tertiary</td><td>363</td><td>no</td><td>unknown</td><td>30</td><td>may</td><td>unknown</td><td>no</td></tr><tr><th>&vellip;</th><td>&vellip;</td><td>&vellip;</td><td>&vellip;</td><td>&vellip;</td><td>&vellip;</td><td>&vellip;</td><td>&vellip;</td><td>&vellip;</td><td>&vellip;</td><td>&vellip;</td><td>&vellip;</td></tr></tbody></table>"
      ],
      "text/plain": [
       "4521×11 DataFrames.DataFrame\n",
       "│ Row  │ age │ job          │ marital    │ education   │ balance │ loan │\n",
       "├──────┼─────┼──────────────┼────────────┼─────────────┼─────────┼──────┤\n",
       "│ 1    │ 19  │ \"student\"    │ \"single\"   │ \"unknown\"   │ 0       │ \"no\" │\n",
       "│ 2    │ 19  │ \"student\"    │ \"single\"   │ \"primary\"   │ 103     │ \"no\" │\n",
       "│ 3    │ 19  │ \"student\"    │ \"single\"   │ \"secondary\" │ 302     │ \"no\" │\n",
       "│ 4    │ 19  │ \"student\"    │ \"single\"   │ \"unknown\"   │ 1169    │ \"no\" │\n",
       "│ 5    │ 20  │ \"student\"    │ \"single\"   │ \"secondary\" │ 291     │ \"no\" │\n",
       "│ 6    │ 20  │ \"student\"    │ \"single\"   │ \"secondary\" │ 502     │ \"no\" │\n",
       "│ 7    │ 20  │ \"student\"    │ \"single\"   │ \"secondary\" │ 1191    │ \"no\" │\n",
       "│ 8    │ 21  │ \"student\"    │ \"single\"   │ \"secondary\" │ 6       │ \"no\" │\n",
       "│ 9    │ 21  │ \"student\"    │ \"single\"   │ \"unknown\"   │ 137     │ \"no\" │\n",
       "│ 10   │ 21  │ \"services\"   │ \"single\"   │ \"secondary\" │ 361     │ \"no\" │\n",
       "│ 11   │ 21  │ \"student\"    │ \"single\"   │ \"secondary\" │ 681     │ \"no\" │\n",
       "⋮\n",
       "│ 4510 │ 80  │ \"retired\"    │ \"married\"  │ \"primary\"   │ 1548    │ \"no\" │\n",
       "│ 4511 │ 80  │ \"management\" │ \"married\"  │ \"primary\"   │ 6483    │ \"no\" │\n",
       "│ 4512 │ 80  │ \"retired\"    │ \"married\"  │ \"secondary\" │ 8304    │ \"no\" │\n",
       "│ 4513 │ 80  │ \"retired\"    │ \"married\"  │ \"secondary\" │ 8304    │ \"no\" │\n",
       "│ 4514 │ 81  │ \"retired\"    │ \"married\"  │ \"secondary\" │ 1       │ \"no\" │\n",
       "│ 4515 │ 83  │ \"retired\"    │ \"divorced\" │ \"primary\"   │ 0       │ \"no\" │\n",
       "│ 4516 │ 83  │ \"retired\"    │ \"married\"  │ \"secondary\" │ 0       │ \"no\" │\n",
       "│ 4517 │ 83  │ \"retired\"    │ \"married\"  │ \"primary\"   │ 425     │ \"no\" │\n",
       "│ 4518 │ 83  │ \"retired\"    │ \"divorced\" │ \"primary\"   │ 1097    │ \"no\" │\n",
       "│ 4519 │ 84  │ \"retired\"    │ \"divorced\" │ \"primary\"   │ 639     │ \"no\" │\n",
       "│ 4520 │ 86  │ \"retired\"    │ \"married\"  │ \"secondary\" │ 1503    │ \"no\" │\n",
       "│ 4521 │ 87  │ \"retired\"    │ \"married\"  │ \"primary\"   │ 230     │ \"no\" │\n",
       "\n",
       "│ Row  │ contact     │ day │ month │ poutcome  │ y     │\n",
       "├──────┼─────────────┼─────┼───────┼───────────┼───────┤\n",
       "│ 1    │ \"cellular\"  │ 11  │ \"feb\" │ \"unknown\" │ \"no\"  │\n",
       "│ 2    │ \"cellular\"  │ 10  │ \"jul\" │ \"unknown\" │ \"yes\" │\n",
       "│ 3    │ \"cellular\"  │ 16  │ \"jul\" │ \"unknown\" │ \"yes\" │\n",
       "│ 4    │ \"cellular\"  │ 6   │ \"feb\" │ \"unknown\" │ \"no\"  │\n",
       "│ 5    │ \"telephone\" │ 11  │ \"may\" │ \"failure\" │ \"no\"  │\n",
       "│ 6    │ \"cellular\"  │ 30  │ \"apr\" │ \"unknown\" │ \"yes\" │\n",
       "│ 7    │ \"cellular\"  │ 12  │ \"feb\" │ \"unknown\" │ \"no\"  │\n",
       "│ 8    │ \"unknown\"   │ 9   │ \"may\" │ \"unknown\" │ \"no\"  │\n",
       "│ 9    │ \"unknown\"   │ 12  │ \"may\" │ \"unknown\" │ \"no\"  │\n",
       "│ 10   │ \"telephone\" │ 5   │ \"jun\" │ \"other\"   │ \"no\"  │\n",
       "│ 11   │ \"unknown\"   │ 20  │ \"aug\" │ \"unknown\" │ \"no\"  │\n",
       "⋮\n",
       "│ 4510 │ \"cellular\"  │ 6   │ \"aug\" │ \"unknown\" │ \"no\"  │\n",
       "│ 4511 │ \"telephone\" │ 19  │ \"oct\" │ \"unknown\" │ \"no\"  │\n",
       "│ 4512 │ \"telephone\" │ 6   │ \"apr\" │ \"success\" │ \"no\"  │\n",
       "│ 4513 │ \"telephone\" │ 9   │ \"jun\" │ \"failure\" │ \"yes\" │\n",
       "│ 4514 │ \"cellular\"  │ 19  │ \"aug\" │ \"unknown\" │ \"no\"  │\n",
       "│ 4515 │ \"telephone\" │ 31  │ \"may\" │ \"success\" │ \"no\"  │\n",
       "│ 4516 │ \"cellular\"  │ 18  │ \"mar\" │ \"unknown\" │ \"no\"  │\n",
       "│ 4517 │ \"telephone\" │ 22  │ \"jun\" │ \"failure\" │ \"yes\" │\n",
       "│ 4518 │ \"telephone\" │ 5   │ \"mar\" │ \"unknown\" │ \"yes\" │\n",
       "│ 4519 │ \"telephone\" │ 18  │ \"may\" │ \"unknown\" │ \"yes\" │\n",
       "│ 4520 │ \"telephone\" │ 18  │ \"mar\" │ \"other\"   │ \"no\"  │\n",
       "│ 4521 │ \"cellular\"  │ 30  │ \"oct\" │ \"unknown\" │ \"yes\" │"
      ]
     },
     "execution_count": 44,
     "metadata": {},
     "output_type": "execute_result"
    }
   ],
   "source": [
    "sort!(df,cols=[:age])"
   ]
  },
  {
   "cell_type": "code",
   "execution_count": null,
   "metadata": {},
   "outputs": [],
   "source": [
    "# Comparing sort!() with sort!(cols=[:column1])"
   ]
  },
  {
   "cell_type": "code",
   "execution_count": 45,
   "metadata": {},
   "outputs": [
    {
     "data": {
      "text/plain": [
       "true"
      ]
     },
     "execution_count": 45,
     "metadata": {},
     "output_type": "execute_result"
    }
   ],
   "source": [
    "sort!(df) == sort!(df,cols=[:age])"
   ]
  },
  {
   "cell_type": "markdown",
   "metadata": {},
   "source": [
    "#### Sorting By Multiple Columns\n",
    "##### + sort!(DataFrame,cols = [:column1,:column2])"
   ]
  },
  {
   "cell_type": "code",
   "execution_count": 47,
   "metadata": {},
   "outputs": [
    {
     "data": {
      "text/html": [
       "<table class=\"data-frame\"><thead><tr><th></th><th>age</th><th>job</th><th>marital</th><th>education</th><th>balance</th><th>loan</th><th>contact</th><th>day</th><th>month</th><th>poutcome</th><th>y</th></tr></thead><tbody><tr><th>1</th><td>19</td><td>student</td><td>single</td><td>unknown</td><td>0</td><td>no</td><td>cellular</td><td>11</td><td>feb</td><td>unknown</td><td>no</td></tr><tr><th>2</th><td>19</td><td>student</td><td>single</td><td>primary</td><td>103</td><td>no</td><td>cellular</td><td>10</td><td>jul</td><td>unknown</td><td>yes</td></tr><tr><th>3</th><td>19</td><td>student</td><td>single</td><td>secondary</td><td>302</td><td>no</td><td>cellular</td><td>16</td><td>jul</td><td>unknown</td><td>yes</td></tr><tr><th>4</th><td>19</td><td>student</td><td>single</td><td>unknown</td><td>1169</td><td>no</td><td>cellular</td><td>6</td><td>feb</td><td>unknown</td><td>no</td></tr><tr><th>5</th><td>20</td><td>student</td><td>single</td><td>secondary</td><td>291</td><td>no</td><td>telephone</td><td>11</td><td>may</td><td>failure</td><td>no</td></tr><tr><th>6</th><td>20</td><td>student</td><td>single</td><td>secondary</td><td>502</td><td>no</td><td>cellular</td><td>30</td><td>apr</td><td>unknown</td><td>yes</td></tr><tr><th>7</th><td>20</td><td>student</td><td>single</td><td>secondary</td><td>1191</td><td>no</td><td>cellular</td><td>12</td><td>feb</td><td>unknown</td><td>no</td></tr><tr><th>8</th><td>21</td><td>student</td><td>single</td><td>secondary</td><td>6</td><td>no</td><td>unknown</td><td>9</td><td>may</td><td>unknown</td><td>no</td></tr><tr><th>9</th><td>21</td><td>student</td><td>single</td><td>unknown</td><td>137</td><td>no</td><td>unknown</td><td>12</td><td>may</td><td>unknown</td><td>no</td></tr><tr><th>10</th><td>21</td><td>services</td><td>single</td><td>secondary</td><td>361</td><td>no</td><td>telephone</td><td>5</td><td>jun</td><td>other</td><td>no</td></tr><tr><th>11</th><td>21</td><td>student</td><td>single</td><td>secondary</td><td>681</td><td>no</td><td>unknown</td><td>20</td><td>aug</td><td>unknown</td><td>no</td></tr><tr><th>12</th><td>21</td><td>services</td><td>single</td><td>secondary</td><td>1903</td><td>no</td><td>unknown</td><td>29</td><td>may</td><td>unknown</td><td>no</td></tr><tr><th>13</th><td>21</td><td>student</td><td>single</td><td>secondary</td><td>2488</td><td>no</td><td>cellular</td><td>30</td><td>jun</td><td>success</td><td>yes</td></tr><tr><th>14</th><td>21</td><td>student</td><td>single</td><td>secondary</td><td>6844</td><td>no</td><td>cellular</td><td>14</td><td>aug</td><td>other</td><td>no</td></tr><tr><th>15</th><td>22</td><td>student</td><td>single</td><td>unknown</td><td>47</td><td>no</td><td>cellular</td><td>3</td><td>jul</td><td>unknown</td><td>no</td></tr><tr><th>16</th><td>22</td><td>student</td><td>single</td><td>secondary</td><td>246</td><td>no</td><td>telephone</td><td>12</td><td>may</td><td>unknown</td><td>no</td></tr><tr><th>17</th><td>22</td><td>technician</td><td>single</td><td>secondary</td><td>333</td><td>yes</td><td>telephone</td><td>12</td><td>nov</td><td>unknown</td><td>no</td></tr><tr><th>18</th><td>22</td><td>student</td><td>single</td><td>unknown</td><td>549</td><td>no</td><td>cellular</td><td>2</td><td>sep</td><td>unknown</td><td>no</td></tr><tr><th>19</th><td>22</td><td>student</td><td>single</td><td>tertiary</td><td>691</td><td>no</td><td>cellular</td><td>19</td><td>aug</td><td>unknown</td><td>yes</td></tr><tr><th>20</th><td>22</td><td>student</td><td>single</td><td>tertiary</td><td>1161</td><td>yes</td><td>cellular</td><td>16</td><td>jun</td><td>unknown</td><td>no</td></tr><tr><th>21</th><td>22</td><td>student</td><td>single</td><td>secondary</td><td>2488</td><td>no</td><td>cellular</td><td>8</td><td>nov</td><td>other</td><td>yes</td></tr><tr><th>22</th><td>22</td><td>student</td><td>single</td><td>primary</td><td>3472</td><td>no</td><td>cellular</td><td>20</td><td>oct</td><td>failure</td><td>yes</td></tr><tr><th>23</th><td>22</td><td>admin.</td><td>single</td><td>secondary</td><td>4111</td><td>yes</td><td>cellular</td><td>19</td><td>aug</td><td>unknown</td><td>no</td></tr><tr><th>24</th><td>23</td><td>technician</td><td>single</td><td>secondary</td><td>-306</td><td>no</td><td>unknown</td><td>4</td><td>jun</td><td>unknown</td><td>no</td></tr><tr><th>25</th><td>23</td><td>student</td><td>married</td><td>tertiary</td><td>-230</td><td>no</td><td>cellular</td><td>18</td><td>may</td><td>unknown</td><td>no</td></tr><tr><th>26</th><td>23</td><td>services</td><td>married</td><td>secondary</td><td>-19</td><td>no</td><td>unknown</td><td>20</td><td>jun</td><td>unknown</td><td>no</td></tr><tr><th>27</th><td>23</td><td>entrepreneur</td><td>single</td><td>primary</td><td>4</td><td>no</td><td>unknown</td><td>13</td><td>may</td><td>unknown</td><td>yes</td></tr><tr><th>28</th><td>23</td><td>admin.</td><td>single</td><td>secondary</td><td>5</td><td>no</td><td>unknown</td><td>12</td><td>may</td><td>unknown</td><td>no</td></tr><tr><th>29</th><td>23</td><td>services</td><td>single</td><td>secondary</td><td>250</td><td>no</td><td>cellular</td><td>18</td><td>may</td><td>unknown</td><td>no</td></tr><tr><th>30</th><td>23</td><td>services</td><td>single</td><td>tertiary</td><td>363</td><td>no</td><td>unknown</td><td>30</td><td>may</td><td>unknown</td><td>no</td></tr><tr><th>&vellip;</th><td>&vellip;</td><td>&vellip;</td><td>&vellip;</td><td>&vellip;</td><td>&vellip;</td><td>&vellip;</td><td>&vellip;</td><td>&vellip;</td><td>&vellip;</td><td>&vellip;</td><td>&vellip;</td></tr></tbody></table>"
      ],
      "text/plain": [
       "4521×11 DataFrames.DataFrame\n",
       "│ Row  │ age │ job          │ marital    │ education   │ balance │ loan │\n",
       "├──────┼─────┼──────────────┼────────────┼─────────────┼─────────┼──────┤\n",
       "│ 1    │ 19  │ \"student\"    │ \"single\"   │ \"unknown\"   │ 0       │ \"no\" │\n",
       "│ 2    │ 19  │ \"student\"    │ \"single\"   │ \"primary\"   │ 103     │ \"no\" │\n",
       "│ 3    │ 19  │ \"student\"    │ \"single\"   │ \"secondary\" │ 302     │ \"no\" │\n",
       "│ 4    │ 19  │ \"student\"    │ \"single\"   │ \"unknown\"   │ 1169    │ \"no\" │\n",
       "│ 5    │ 20  │ \"student\"    │ \"single\"   │ \"secondary\" │ 291     │ \"no\" │\n",
       "│ 6    │ 20  │ \"student\"    │ \"single\"   │ \"secondary\" │ 502     │ \"no\" │\n",
       "│ 7    │ 20  │ \"student\"    │ \"single\"   │ \"secondary\" │ 1191    │ \"no\" │\n",
       "│ 8    │ 21  │ \"student\"    │ \"single\"   │ \"secondary\" │ 6       │ \"no\" │\n",
       "│ 9    │ 21  │ \"student\"    │ \"single\"   │ \"unknown\"   │ 137     │ \"no\" │\n",
       "│ 10   │ 21  │ \"services\"   │ \"single\"   │ \"secondary\" │ 361     │ \"no\" │\n",
       "│ 11   │ 21  │ \"student\"    │ \"single\"   │ \"secondary\" │ 681     │ \"no\" │\n",
       "⋮\n",
       "│ 4510 │ 80  │ \"retired\"    │ \"married\"  │ \"primary\"   │ 1548    │ \"no\" │\n",
       "│ 4511 │ 80  │ \"management\" │ \"married\"  │ \"primary\"   │ 6483    │ \"no\" │\n",
       "│ 4512 │ 80  │ \"retired\"    │ \"married\"  │ \"secondary\" │ 8304    │ \"no\" │\n",
       "│ 4513 │ 80  │ \"retired\"    │ \"married\"  │ \"secondary\" │ 8304    │ \"no\" │\n",
       "│ 4514 │ 81  │ \"retired\"    │ \"married\"  │ \"secondary\" │ 1       │ \"no\" │\n",
       "│ 4515 │ 83  │ \"retired\"    │ \"divorced\" │ \"primary\"   │ 0       │ \"no\" │\n",
       "│ 4516 │ 83  │ \"retired\"    │ \"married\"  │ \"secondary\" │ 0       │ \"no\" │\n",
       "│ 4517 │ 83  │ \"retired\"    │ \"married\"  │ \"primary\"   │ 425     │ \"no\" │\n",
       "│ 4518 │ 83  │ \"retired\"    │ \"divorced\" │ \"primary\"   │ 1097    │ \"no\" │\n",
       "│ 4519 │ 84  │ \"retired\"    │ \"divorced\" │ \"primary\"   │ 639     │ \"no\" │\n",
       "│ 4520 │ 86  │ \"retired\"    │ \"married\"  │ \"secondary\" │ 1503    │ \"no\" │\n",
       "│ 4521 │ 87  │ \"retired\"    │ \"married\"  │ \"primary\"   │ 230     │ \"no\" │\n",
       "\n",
       "│ Row  │ contact     │ day │ month │ poutcome  │ y     │\n",
       "├──────┼─────────────┼─────┼───────┼───────────┼───────┤\n",
       "│ 1    │ \"cellular\"  │ 11  │ \"feb\" │ \"unknown\" │ \"no\"  │\n",
       "│ 2    │ \"cellular\"  │ 10  │ \"jul\" │ \"unknown\" │ \"yes\" │\n",
       "│ 3    │ \"cellular\"  │ 16  │ \"jul\" │ \"unknown\" │ \"yes\" │\n",
       "│ 4    │ \"cellular\"  │ 6   │ \"feb\" │ \"unknown\" │ \"no\"  │\n",
       "│ 5    │ \"telephone\" │ 11  │ \"may\" │ \"failure\" │ \"no\"  │\n",
       "│ 6    │ \"cellular\"  │ 30  │ \"apr\" │ \"unknown\" │ \"yes\" │\n",
       "│ 7    │ \"cellular\"  │ 12  │ \"feb\" │ \"unknown\" │ \"no\"  │\n",
       "│ 8    │ \"unknown\"   │ 9   │ \"may\" │ \"unknown\" │ \"no\"  │\n",
       "│ 9    │ \"unknown\"   │ 12  │ \"may\" │ \"unknown\" │ \"no\"  │\n",
       "│ 10   │ \"telephone\" │ 5   │ \"jun\" │ \"other\"   │ \"no\"  │\n",
       "│ 11   │ \"unknown\"   │ 20  │ \"aug\" │ \"unknown\" │ \"no\"  │\n",
       "⋮\n",
       "│ 4510 │ \"cellular\"  │ 6   │ \"aug\" │ \"unknown\" │ \"no\"  │\n",
       "│ 4511 │ \"telephone\" │ 19  │ \"oct\" │ \"unknown\" │ \"no\"  │\n",
       "│ 4512 │ \"telephone\" │ 6   │ \"apr\" │ \"success\" │ \"no\"  │\n",
       "│ 4513 │ \"telephone\" │ 9   │ \"jun\" │ \"failure\" │ \"yes\" │\n",
       "│ 4514 │ \"cellular\"  │ 19  │ \"aug\" │ \"unknown\" │ \"no\"  │\n",
       "│ 4515 │ \"telephone\" │ 31  │ \"may\" │ \"success\" │ \"no\"  │\n",
       "│ 4516 │ \"cellular\"  │ 18  │ \"mar\" │ \"unknown\" │ \"no\"  │\n",
       "│ 4517 │ \"telephone\" │ 22  │ \"jun\" │ \"failure\" │ \"yes\" │\n",
       "│ 4518 │ \"telephone\" │ 5   │ \"mar\" │ \"unknown\" │ \"yes\" │\n",
       "│ 4519 │ \"telephone\" │ 18  │ \"may\" │ \"unknown\" │ \"yes\" │\n",
       "│ 4520 │ \"telephone\" │ 18  │ \"mar\" │ \"other\"   │ \"no\"  │\n",
       "│ 4521 │ \"cellular\"  │ 30  │ \"oct\" │ \"unknown\" │ \"yes\" │"
      ]
     },
     "execution_count": 47,
     "metadata": {},
     "output_type": "execute_result"
    }
   ],
   "source": [
    "sort!(df,cols=[:age,:balance,:job])"
   ]
  },
  {
   "cell_type": "code",
   "execution_count": 48,
   "metadata": {},
   "outputs": [
    {
     "data": {
      "text/html": [
       "<table class=\"data-frame\"><thead><tr><th></th><th>age</th><th>job</th><th>marital</th><th>education</th><th>balance</th><th>loan</th><th>contact</th><th>day</th><th>month</th><th>poutcome</th><th>y</th></tr></thead><tbody><tr><th>1</th><td>19</td><td>student</td><td>single</td><td>unknown</td><td>0</td><td>no</td><td>cellular</td><td>11</td><td>feb</td><td>unknown</td><td>no</td></tr><tr><th>2</th><td>19</td><td>student</td><td>single</td><td>primary</td><td>103</td><td>no</td><td>cellular</td><td>10</td><td>jul</td><td>unknown</td><td>yes</td></tr><tr><th>3</th><td>19</td><td>student</td><td>single</td><td>secondary</td><td>302</td><td>no</td><td>cellular</td><td>16</td><td>jul</td><td>unknown</td><td>yes</td></tr><tr><th>4</th><td>19</td><td>student</td><td>single</td><td>unknown</td><td>1169</td><td>no</td><td>cellular</td><td>6</td><td>feb</td><td>unknown</td><td>no</td></tr><tr><th>5</th><td>20</td><td>student</td><td>single</td><td>secondary</td><td>291</td><td>no</td><td>telephone</td><td>11</td><td>may</td><td>failure</td><td>no</td></tr><tr><th>6</th><td>20</td><td>student</td><td>single</td><td>secondary</td><td>502</td><td>no</td><td>cellular</td><td>30</td><td>apr</td><td>unknown</td><td>yes</td></tr><tr><th>7</th><td>20</td><td>student</td><td>single</td><td>secondary</td><td>1191</td><td>no</td><td>cellular</td><td>12</td><td>feb</td><td>unknown</td><td>no</td></tr><tr><th>8</th><td>21</td><td>student</td><td>single</td><td>secondary</td><td>6</td><td>no</td><td>unknown</td><td>9</td><td>may</td><td>unknown</td><td>no</td></tr><tr><th>9</th><td>21</td><td>student</td><td>single</td><td>unknown</td><td>137</td><td>no</td><td>unknown</td><td>12</td><td>may</td><td>unknown</td><td>no</td></tr><tr><th>10</th><td>21</td><td>services</td><td>single</td><td>secondary</td><td>361</td><td>no</td><td>telephone</td><td>5</td><td>jun</td><td>other</td><td>no</td></tr><tr><th>11</th><td>21</td><td>student</td><td>single</td><td>secondary</td><td>681</td><td>no</td><td>unknown</td><td>20</td><td>aug</td><td>unknown</td><td>no</td></tr><tr><th>12</th><td>21</td><td>services</td><td>single</td><td>secondary</td><td>1903</td><td>no</td><td>unknown</td><td>29</td><td>may</td><td>unknown</td><td>no</td></tr><tr><th>13</th><td>21</td><td>student</td><td>single</td><td>secondary</td><td>2488</td><td>no</td><td>cellular</td><td>30</td><td>jun</td><td>success</td><td>yes</td></tr><tr><th>14</th><td>21</td><td>student</td><td>single</td><td>secondary</td><td>6844</td><td>no</td><td>cellular</td><td>14</td><td>aug</td><td>other</td><td>no</td></tr><tr><th>15</th><td>22</td><td>student</td><td>single</td><td>unknown</td><td>47</td><td>no</td><td>cellular</td><td>3</td><td>jul</td><td>unknown</td><td>no</td></tr><tr><th>16</th><td>22</td><td>student</td><td>single</td><td>secondary</td><td>246</td><td>no</td><td>telephone</td><td>12</td><td>may</td><td>unknown</td><td>no</td></tr><tr><th>17</th><td>22</td><td>technician</td><td>single</td><td>secondary</td><td>333</td><td>yes</td><td>telephone</td><td>12</td><td>nov</td><td>unknown</td><td>no</td></tr><tr><th>18</th><td>22</td><td>student</td><td>single</td><td>unknown</td><td>549</td><td>no</td><td>cellular</td><td>2</td><td>sep</td><td>unknown</td><td>no</td></tr><tr><th>19</th><td>22</td><td>student</td><td>single</td><td>tertiary</td><td>691</td><td>no</td><td>cellular</td><td>19</td><td>aug</td><td>unknown</td><td>yes</td></tr><tr><th>20</th><td>22</td><td>student</td><td>single</td><td>tertiary</td><td>1161</td><td>yes</td><td>cellular</td><td>16</td><td>jun</td><td>unknown</td><td>no</td></tr><tr><th>21</th><td>22</td><td>student</td><td>single</td><td>secondary</td><td>2488</td><td>no</td><td>cellular</td><td>8</td><td>nov</td><td>other</td><td>yes</td></tr><tr><th>22</th><td>22</td><td>student</td><td>single</td><td>primary</td><td>3472</td><td>no</td><td>cellular</td><td>20</td><td>oct</td><td>failure</td><td>yes</td></tr><tr><th>23</th><td>22</td><td>admin.</td><td>single</td><td>secondary</td><td>4111</td><td>yes</td><td>cellular</td><td>19</td><td>aug</td><td>unknown</td><td>no</td></tr><tr><th>24</th><td>23</td><td>technician</td><td>single</td><td>secondary</td><td>-306</td><td>no</td><td>unknown</td><td>4</td><td>jun</td><td>unknown</td><td>no</td></tr><tr><th>25</th><td>23</td><td>student</td><td>married</td><td>tertiary</td><td>-230</td><td>no</td><td>cellular</td><td>18</td><td>may</td><td>unknown</td><td>no</td></tr><tr><th>26</th><td>23</td><td>services</td><td>married</td><td>secondary</td><td>-19</td><td>no</td><td>unknown</td><td>20</td><td>jun</td><td>unknown</td><td>no</td></tr><tr><th>27</th><td>23</td><td>entrepreneur</td><td>single</td><td>primary</td><td>4</td><td>no</td><td>unknown</td><td>13</td><td>may</td><td>unknown</td><td>yes</td></tr><tr><th>28</th><td>23</td><td>admin.</td><td>single</td><td>secondary</td><td>5</td><td>no</td><td>unknown</td><td>12</td><td>may</td><td>unknown</td><td>no</td></tr><tr><th>29</th><td>23</td><td>services</td><td>single</td><td>secondary</td><td>250</td><td>no</td><td>cellular</td><td>18</td><td>may</td><td>unknown</td><td>no</td></tr><tr><th>30</th><td>23</td><td>services</td><td>single</td><td>tertiary</td><td>363</td><td>no</td><td>unknown</td><td>30</td><td>may</td><td>unknown</td><td>no</td></tr><tr><th>&vellip;</th><td>&vellip;</td><td>&vellip;</td><td>&vellip;</td><td>&vellip;</td><td>&vellip;</td><td>&vellip;</td><td>&vellip;</td><td>&vellip;</td><td>&vellip;</td><td>&vellip;</td><td>&vellip;</td></tr></tbody></table>"
      ],
      "text/plain": [
       "4521×11 DataFrames.DataFrame\n",
       "│ Row  │ age │ job          │ marital    │ education   │ balance │ loan │\n",
       "├──────┼─────┼──────────────┼────────────┼─────────────┼─────────┼──────┤\n",
       "│ 1    │ 19  │ \"student\"    │ \"single\"   │ \"unknown\"   │ 0       │ \"no\" │\n",
       "│ 2    │ 19  │ \"student\"    │ \"single\"   │ \"primary\"   │ 103     │ \"no\" │\n",
       "│ 3    │ 19  │ \"student\"    │ \"single\"   │ \"secondary\" │ 302     │ \"no\" │\n",
       "│ 4    │ 19  │ \"student\"    │ \"single\"   │ \"unknown\"   │ 1169    │ \"no\" │\n",
       "│ 5    │ 20  │ \"student\"    │ \"single\"   │ \"secondary\" │ 291     │ \"no\" │\n",
       "│ 6    │ 20  │ \"student\"    │ \"single\"   │ \"secondary\" │ 502     │ \"no\" │\n",
       "│ 7    │ 20  │ \"student\"    │ \"single\"   │ \"secondary\" │ 1191    │ \"no\" │\n",
       "│ 8    │ 21  │ \"student\"    │ \"single\"   │ \"secondary\" │ 6       │ \"no\" │\n",
       "│ 9    │ 21  │ \"student\"    │ \"single\"   │ \"unknown\"   │ 137     │ \"no\" │\n",
       "│ 10   │ 21  │ \"services\"   │ \"single\"   │ \"secondary\" │ 361     │ \"no\" │\n",
       "│ 11   │ 21  │ \"student\"    │ \"single\"   │ \"secondary\" │ 681     │ \"no\" │\n",
       "⋮\n",
       "│ 4510 │ 80  │ \"retired\"    │ \"married\"  │ \"primary\"   │ 1548    │ \"no\" │\n",
       "│ 4511 │ 80  │ \"management\" │ \"married\"  │ \"primary\"   │ 6483    │ \"no\" │\n",
       "│ 4512 │ 80  │ \"retired\"    │ \"married\"  │ \"secondary\" │ 8304    │ \"no\" │\n",
       "│ 4513 │ 80  │ \"retired\"    │ \"married\"  │ \"secondary\" │ 8304    │ \"no\" │\n",
       "│ 4514 │ 81  │ \"retired\"    │ \"married\"  │ \"secondary\" │ 1       │ \"no\" │\n",
       "│ 4515 │ 83  │ \"retired\"    │ \"divorced\" │ \"primary\"   │ 0       │ \"no\" │\n",
       "│ 4516 │ 83  │ \"retired\"    │ \"married\"  │ \"secondary\" │ 0       │ \"no\" │\n",
       "│ 4517 │ 83  │ \"retired\"    │ \"married\"  │ \"primary\"   │ 425     │ \"no\" │\n",
       "│ 4518 │ 83  │ \"retired\"    │ \"divorced\" │ \"primary\"   │ 1097    │ \"no\" │\n",
       "│ 4519 │ 84  │ \"retired\"    │ \"divorced\" │ \"primary\"   │ 639     │ \"no\" │\n",
       "│ 4520 │ 86  │ \"retired\"    │ \"married\"  │ \"secondary\" │ 1503    │ \"no\" │\n",
       "│ 4521 │ 87  │ \"retired\"    │ \"married\"  │ \"primary\"   │ 230     │ \"no\" │\n",
       "\n",
       "│ Row  │ contact     │ day │ month │ poutcome  │ y     │\n",
       "├──────┼─────────────┼─────┼───────┼───────────┼───────┤\n",
       "│ 1    │ \"cellular\"  │ 11  │ \"feb\" │ \"unknown\" │ \"no\"  │\n",
       "│ 2    │ \"cellular\"  │ 10  │ \"jul\" │ \"unknown\" │ \"yes\" │\n",
       "│ 3    │ \"cellular\"  │ 16  │ \"jul\" │ \"unknown\" │ \"yes\" │\n",
       "│ 4    │ \"cellular\"  │ 6   │ \"feb\" │ \"unknown\" │ \"no\"  │\n",
       "│ 5    │ \"telephone\" │ 11  │ \"may\" │ \"failure\" │ \"no\"  │\n",
       "│ 6    │ \"cellular\"  │ 30  │ \"apr\" │ \"unknown\" │ \"yes\" │\n",
       "│ 7    │ \"cellular\"  │ 12  │ \"feb\" │ \"unknown\" │ \"no\"  │\n",
       "│ 8    │ \"unknown\"   │ 9   │ \"may\" │ \"unknown\" │ \"no\"  │\n",
       "│ 9    │ \"unknown\"   │ 12  │ \"may\" │ \"unknown\" │ \"no\"  │\n",
       "│ 10   │ \"telephone\" │ 5   │ \"jun\" │ \"other\"   │ \"no\"  │\n",
       "│ 11   │ \"unknown\"   │ 20  │ \"aug\" │ \"unknown\" │ \"no\"  │\n",
       "⋮\n",
       "│ 4510 │ \"cellular\"  │ 6   │ \"aug\" │ \"unknown\" │ \"no\"  │\n",
       "│ 4511 │ \"telephone\" │ 19  │ \"oct\" │ \"unknown\" │ \"no\"  │\n",
       "│ 4512 │ \"telephone\" │ 6   │ \"apr\" │ \"success\" │ \"no\"  │\n",
       "│ 4513 │ \"telephone\" │ 9   │ \"jun\" │ \"failure\" │ \"yes\" │\n",
       "│ 4514 │ \"cellular\"  │ 19  │ \"aug\" │ \"unknown\" │ \"no\"  │\n",
       "│ 4515 │ \"telephone\" │ 31  │ \"may\" │ \"success\" │ \"no\"  │\n",
       "│ 4516 │ \"cellular\"  │ 18  │ \"mar\" │ \"unknown\" │ \"no\"  │\n",
       "│ 4517 │ \"telephone\" │ 22  │ \"jun\" │ \"failure\" │ \"yes\" │\n",
       "│ 4518 │ \"telephone\" │ 5   │ \"mar\" │ \"unknown\" │ \"yes\" │\n",
       "│ 4519 │ \"telephone\" │ 18  │ \"may\" │ \"unknown\" │ \"yes\" │\n",
       "│ 4520 │ \"telephone\" │ 18  │ \"mar\" │ \"other\"   │ \"no\"  │\n",
       "│ 4521 │ \"cellular\"  │ 30  │ \"oct\" │ \"unknown\" │ \"yes\" │"
      ]
     },
     "execution_count": 48,
     "metadata": {},
     "output_type": "execute_result"
    }
   ],
   "source": [
    "# Sorting By Ascending Order \n",
    "# By Default rev = false\n",
    "sort!(df,cols=[:age],rev=false)"
   ]
  },
  {
   "cell_type": "code",
   "execution_count": 49,
   "metadata": {},
   "outputs": [
    {
     "data": {
      "text/html": [
       "<table class=\"data-frame\"><thead><tr><th></th><th>age</th><th>job</th><th>marital</th><th>education</th><th>balance</th><th>loan</th><th>contact</th><th>day</th><th>month</th><th>poutcome</th><th>y</th></tr></thead><tbody><tr><th>1</th><td>87</td><td>retired</td><td>married</td><td>primary</td><td>230</td><td>no</td><td>cellular</td><td>30</td><td>oct</td><td>unknown</td><td>yes</td></tr><tr><th>2</th><td>86</td><td>retired</td><td>married</td><td>secondary</td><td>1503</td><td>no</td><td>telephone</td><td>18</td><td>mar</td><td>other</td><td>no</td></tr><tr><th>3</th><td>84</td><td>retired</td><td>divorced</td><td>primary</td><td>639</td><td>no</td><td>telephone</td><td>18</td><td>may</td><td>unknown</td><td>yes</td></tr><tr><th>4</th><td>83</td><td>retired</td><td>divorced</td><td>primary</td><td>0</td><td>no</td><td>telephone</td><td>31</td><td>may</td><td>success</td><td>no</td></tr><tr><th>5</th><td>83</td><td>retired</td><td>married</td><td>secondary</td><td>0</td><td>no</td><td>cellular</td><td>18</td><td>mar</td><td>unknown</td><td>no</td></tr><tr><th>6</th><td>83</td><td>retired</td><td>married</td><td>primary</td><td>425</td><td>no</td><td>telephone</td><td>22</td><td>jun</td><td>failure</td><td>yes</td></tr><tr><th>7</th><td>83</td><td>retired</td><td>divorced</td><td>primary</td><td>1097</td><td>no</td><td>telephone</td><td>5</td><td>mar</td><td>unknown</td><td>yes</td></tr><tr><th>8</th><td>81</td><td>retired</td><td>married</td><td>secondary</td><td>1</td><td>no</td><td>cellular</td><td>19</td><td>aug</td><td>unknown</td><td>no</td></tr><tr><th>9</th><td>80</td><td>housemaid</td><td>married</td><td>primary</td><td>0</td><td>no</td><td>cellular</td><td>23</td><td>feb</td><td>failure</td><td>yes</td></tr><tr><th>10</th><td>80</td><td>retired</td><td>married</td><td>secondary</td><td>462</td><td>no</td><td>cellular</td><td>7</td><td>dec</td><td>unknown</td><td>no</td></tr><tr><th>11</th><td>80</td><td>retired</td><td>married</td><td>primary</td><td>1548</td><td>no</td><td>cellular</td><td>6</td><td>aug</td><td>unknown</td><td>no</td></tr><tr><th>12</th><td>80</td><td>management</td><td>married</td><td>primary</td><td>6483</td><td>no</td><td>telephone</td><td>19</td><td>oct</td><td>unknown</td><td>no</td></tr><tr><th>13</th><td>80</td><td>retired</td><td>married</td><td>secondary</td><td>8304</td><td>no</td><td>telephone</td><td>6</td><td>apr</td><td>success</td><td>no</td></tr><tr><th>14</th><td>80</td><td>retired</td><td>married</td><td>secondary</td><td>8304</td><td>no</td><td>telephone</td><td>9</td><td>jun</td><td>failure</td><td>yes</td></tr><tr><th>15</th><td>79</td><td>retired</td><td>married</td><td>primary</td><td>429</td><td>no</td><td>telephone</td><td>8</td><td>jul</td><td>unknown</td><td>yes</td></tr><tr><th>16</th><td>79</td><td>retired</td><td>divorced</td><td>unknown</td><td>2628</td><td>no</td><td>telephone</td><td>8</td><td>jul</td><td>failure</td><td>no</td></tr><tr><th>17</th><td>79</td><td>retired</td><td>married</td><td>secondary</td><td>4738</td><td>no</td><td>telephone</td><td>9</td><td>jul</td><td>unknown</td><td>no</td></tr><tr><th>18</th><td>79</td><td>retired</td><td>married</td><td>primary</td><td>8556</td><td>no</td><td>telephone</td><td>18</td><td>jan</td><td>success</td><td>yes</td></tr><tr><th>19</th><td>78</td><td>retired</td><td>married</td><td>tertiary</td><td>226</td><td>no</td><td>telephone</td><td>6</td><td>nov</td><td>unknown</td><td>no</td></tr><tr><th>20</th><td>78</td><td>retired</td><td>divorced</td><td>primary</td><td>229</td><td>no</td><td>telephone</td><td>22</td><td>oct</td><td>unknown</td><td>yes</td></tr><tr><th>21</th><td>78</td><td>housemaid</td><td>married</td><td>secondary</td><td>499</td><td>no</td><td>telephone</td><td>16</td><td>mar</td><td>unknown</td><td>no</td></tr><tr><th>22</th><td>77</td><td>retired</td><td>married</td><td>tertiary</td><td>0</td><td>no</td><td>cellular</td><td>16</td><td>oct</td><td>success</td><td>yes</td></tr><tr><th>23</th><td>77</td><td>retired</td><td>married</td><td>secondary</td><td>610</td><td>no</td><td>cellular</td><td>13</td><td>aug</td><td>unknown</td><td>no</td></tr><tr><th>24</th><td>77</td><td>retired</td><td>married</td><td>primary</td><td>680</td><td>no</td><td>telephone</td><td>24</td><td>feb</td><td>failure</td><td>no</td></tr><tr><th>25</th><td>77</td><td>retired</td><td>married</td><td>primary</td><td>680</td><td>no</td><td>telephone</td><td>27</td><td>nov</td><td>failure</td><td>no</td></tr><tr><th>26</th><td>77</td><td>retired</td><td>divorced</td><td>tertiary</td><td>4659</td><td>no</td><td>cellular</td><td>14</td><td>apr</td><td>unknown</td><td>yes</td></tr><tr><th>27</th><td>77</td><td>retired</td><td>married</td><td>tertiary</td><td>7802</td><td>no</td><td>telephone</td><td>4</td><td>may</td><td>success</td><td>yes</td></tr><tr><th>28</th><td>76</td><td>retired</td><td>divorced</td><td>primary</td><td>86</td><td>no</td><td>cellular</td><td>12</td><td>aug</td><td>unknown</td><td>no</td></tr><tr><th>29</th><td>76</td><td>retired</td><td>married</td><td>primary</td><td>2590</td><td>no</td><td>telephone</td><td>9</td><td>feb</td><td>unknown</td><td>no</td></tr><tr><th>30</th><td>75</td><td>retired</td><td>divorced</td><td>primary</td><td>852</td><td>no</td><td>cellular</td><td>15</td><td>mar</td><td>unknown</td><td>no</td></tr><tr><th>&vellip;</th><td>&vellip;</td><td>&vellip;</td><td>&vellip;</td><td>&vellip;</td><td>&vellip;</td><td>&vellip;</td><td>&vellip;</td><td>&vellip;</td><td>&vellip;</td><td>&vellip;</td><td>&vellip;</td></tr></tbody></table>"
      ],
      "text/plain": [
       "4521×11 DataFrames.DataFrame\n",
       "│ Row  │ age │ job         │ marital    │ education   │ balance │ loan │\n",
       "├──────┼─────┼─────────────┼────────────┼─────────────┼─────────┼──────┤\n",
       "│ 1    │ 87  │ \"retired\"   │ \"married\"  │ \"primary\"   │ 230     │ \"no\" │\n",
       "│ 2    │ 86  │ \"retired\"   │ \"married\"  │ \"secondary\" │ 1503    │ \"no\" │\n",
       "│ 3    │ 84  │ \"retired\"   │ \"divorced\" │ \"primary\"   │ 639     │ \"no\" │\n",
       "│ 4    │ 83  │ \"retired\"   │ \"divorced\" │ \"primary\"   │ 0       │ \"no\" │\n",
       "│ 5    │ 83  │ \"retired\"   │ \"married\"  │ \"secondary\" │ 0       │ \"no\" │\n",
       "│ 6    │ 83  │ \"retired\"   │ \"married\"  │ \"primary\"   │ 425     │ \"no\" │\n",
       "│ 7    │ 83  │ \"retired\"   │ \"divorced\" │ \"primary\"   │ 1097    │ \"no\" │\n",
       "│ 8    │ 81  │ \"retired\"   │ \"married\"  │ \"secondary\" │ 1       │ \"no\" │\n",
       "│ 9    │ 80  │ \"housemaid\" │ \"married\"  │ \"primary\"   │ 0       │ \"no\" │\n",
       "│ 10   │ 80  │ \"retired\"   │ \"married\"  │ \"secondary\" │ 462     │ \"no\" │\n",
       "│ 11   │ 80  │ \"retired\"   │ \"married\"  │ \"primary\"   │ 1548    │ \"no\" │\n",
       "⋮\n",
       "│ 4510 │ 21  │ \"services\"  │ \"single\"   │ \"secondary\" │ 361     │ \"no\" │\n",
       "│ 4511 │ 21  │ \"student\"   │ \"single\"   │ \"secondary\" │ 681     │ \"no\" │\n",
       "│ 4512 │ 21  │ \"services\"  │ \"single\"   │ \"secondary\" │ 1903    │ \"no\" │\n",
       "│ 4513 │ 21  │ \"student\"   │ \"single\"   │ \"secondary\" │ 2488    │ \"no\" │\n",
       "│ 4514 │ 21  │ \"student\"   │ \"single\"   │ \"secondary\" │ 6844    │ \"no\" │\n",
       "│ 4515 │ 20  │ \"student\"   │ \"single\"   │ \"secondary\" │ 291     │ \"no\" │\n",
       "│ 4516 │ 20  │ \"student\"   │ \"single\"   │ \"secondary\" │ 502     │ \"no\" │\n",
       "│ 4517 │ 20  │ \"student\"   │ \"single\"   │ \"secondary\" │ 1191    │ \"no\" │\n",
       "│ 4518 │ 19  │ \"student\"   │ \"single\"   │ \"unknown\"   │ 0       │ \"no\" │\n",
       "│ 4519 │ 19  │ \"student\"   │ \"single\"   │ \"primary\"   │ 103     │ \"no\" │\n",
       "│ 4520 │ 19  │ \"student\"   │ \"single\"   │ \"secondary\" │ 302     │ \"no\" │\n",
       "│ 4521 │ 19  │ \"student\"   │ \"single\"   │ \"unknown\"   │ 1169    │ \"no\" │\n",
       "\n",
       "│ Row  │ contact     │ day │ month │ poutcome  │ y     │\n",
       "├──────┼─────────────┼─────┼───────┼───────────┼───────┤\n",
       "│ 1    │ \"cellular\"  │ 30  │ \"oct\" │ \"unknown\" │ \"yes\" │\n",
       "│ 2    │ \"telephone\" │ 18  │ \"mar\" │ \"other\"   │ \"no\"  │\n",
       "│ 3    │ \"telephone\" │ 18  │ \"may\" │ \"unknown\" │ \"yes\" │\n",
       "│ 4    │ \"telephone\" │ 31  │ \"may\" │ \"success\" │ \"no\"  │\n",
       "│ 5    │ \"cellular\"  │ 18  │ \"mar\" │ \"unknown\" │ \"no\"  │\n",
       "│ 6    │ \"telephone\" │ 22  │ \"jun\" │ \"failure\" │ \"yes\" │\n",
       "│ 7    │ \"telephone\" │ 5   │ \"mar\" │ \"unknown\" │ \"yes\" │\n",
       "│ 8    │ \"cellular\"  │ 19  │ \"aug\" │ \"unknown\" │ \"no\"  │\n",
       "│ 9    │ \"cellular\"  │ 23  │ \"feb\" │ \"failure\" │ \"yes\" │\n",
       "│ 10   │ \"cellular\"  │ 7   │ \"dec\" │ \"unknown\" │ \"no\"  │\n",
       "│ 11   │ \"cellular\"  │ 6   │ \"aug\" │ \"unknown\" │ \"no\"  │\n",
       "⋮\n",
       "│ 4510 │ \"telephone\" │ 5   │ \"jun\" │ \"other\"   │ \"no\"  │\n",
       "│ 4511 │ \"unknown\"   │ 20  │ \"aug\" │ \"unknown\" │ \"no\"  │\n",
       "│ 4512 │ \"unknown\"   │ 29  │ \"may\" │ \"unknown\" │ \"no\"  │\n",
       "│ 4513 │ \"cellular\"  │ 30  │ \"jun\" │ \"success\" │ \"yes\" │\n",
       "│ 4514 │ \"cellular\"  │ 14  │ \"aug\" │ \"other\"   │ \"no\"  │\n",
       "│ 4515 │ \"telephone\" │ 11  │ \"may\" │ \"failure\" │ \"no\"  │\n",
       "│ 4516 │ \"cellular\"  │ 30  │ \"apr\" │ \"unknown\" │ \"yes\" │\n",
       "│ 4517 │ \"cellular\"  │ 12  │ \"feb\" │ \"unknown\" │ \"no\"  │\n",
       "│ 4518 │ \"cellular\"  │ 11  │ \"feb\" │ \"unknown\" │ \"no\"  │\n",
       "│ 4519 │ \"cellular\"  │ 10  │ \"jul\" │ \"unknown\" │ \"yes\" │\n",
       "│ 4520 │ \"cellular\"  │ 16  │ \"jul\" │ \"unknown\" │ \"yes\" │\n",
       "│ 4521 │ \"cellular\"  │ 6   │ \"feb\" │ \"unknown\" │ \"no\"  │"
      ]
     },
     "execution_count": 49,
     "metadata": {},
     "output_type": "execute_result"
    }
   ],
   "source": [
    "# Sorting By Descending Order \n",
    "# By Default rev = false\n",
    "sort!(df,cols =[:age],rev=true)\n"
   ]
  },
  {
   "cell_type": "code",
   "execution_count": null,
   "metadata": {},
   "outputs": [],
   "source": [
    "# Sorting By Order \n",
    "# Specify an ordering for a particular column within a set of columns\n",
    "# sort!(df, cols = [order(:balance,rev = true)])"
   ]
  },
  {
   "cell_type": "code",
   "execution_count": 51,
   "metadata": {},
   "outputs": [
    {
     "data": {
      "text/html": [
       "<table class=\"data-frame\"><thead><tr><th></th><th>age</th><th>job</th><th>marital</th><th>education</th><th>balance</th><th>loan</th><th>contact</th><th>day</th><th>month</th><th>poutcome</th><th>y</th></tr></thead><tbody><tr><th>1</th><td>57</td><td>self-employed</td><td>married</td><td>tertiary</td><td>-3313</td><td>yes</td><td>unknown</td><td>9</td><td>may</td><td>unknown</td><td>no</td></tr><tr><th>2</th><td>51</td><td>entrepreneur</td><td>married</td><td>secondary</td><td>-2082</td><td>yes</td><td>cellular</td><td>28</td><td>jul</td><td>unknown</td><td>no</td></tr><tr><th>3</th><td>44</td><td>management</td><td>married</td><td>secondary</td><td>-1746</td><td>no</td><td>unknown</td><td>20</td><td>jun</td><td>unknown</td><td>no</td></tr><tr><th>4</th><td>49</td><td>technician</td><td>married</td><td>secondary</td><td>-1680</td><td>yes</td><td>unknown</td><td>27</td><td>jun</td><td>unknown</td><td>no</td></tr><tr><th>5</th><td>46</td><td>blue-collar</td><td>married</td><td>secondary</td><td>-1400</td><td>no</td><td>telephone</td><td>6</td><td>may</td><td>failure</td><td>no</td></tr><tr><th>6</th><td>44</td><td>management</td><td>single</td><td>tertiary</td><td>-1313</td><td>yes</td><td>cellular</td><td>15</td><td>may</td><td>unknown</td><td>no</td></tr><tr><th>7</th><td>42</td><td>technician</td><td>married</td><td>secondary</td><td>-1310</td><td>yes</td><td>unknown</td><td>28</td><td>may</td><td>unknown</td><td>no</td></tr><tr><th>8</th><td>52</td><td>management</td><td>married</td><td>tertiary</td><td>-1224</td><td>no</td><td>cellular</td><td>7</td><td>may</td><td>unknown</td><td>no</td></tr><tr><th>9</th><td>40</td><td>management</td><td>married</td><td>tertiary</td><td>-1212</td><td>no</td><td>cellular</td><td>15</td><td>may</td><td>failure</td><td>no</td></tr><tr><th>10</th><td>56</td><td>retired</td><td>married</td><td>secondary</td><td>-1206</td><td>no</td><td>cellular</td><td>15</td><td>jun</td><td>unknown</td><td>yes</td></tr><tr><th>11</th><td>27</td><td>services</td><td>married</td><td>secondary</td><td>-1202</td><td>no</td><td>unknown</td><td>4</td><td>jun</td><td>unknown</td><td>no</td></tr><tr><th>12</th><td>43</td><td>management</td><td>single</td><td>secondary</td><td>-1164</td><td>yes</td><td>cellular</td><td>18</td><td>jul</td><td>unknown</td><td>no</td></tr><tr><th>13</th><td>47</td><td>technician</td><td>divorced</td><td>tertiary</td><td>-1148</td><td>yes</td><td>unknown</td><td>27</td><td>may</td><td>unknown</td><td>no</td></tr><tr><th>14</th><td>32</td><td>technician</td><td>married</td><td>tertiary</td><td>-1053</td><td>no</td><td>cellular</td><td>21</td><td>jul</td><td>unknown</td><td>no</td></tr><tr><th>15</th><td>33</td><td>technician</td><td>married</td><td>tertiary</td><td>-988</td><td>yes</td><td>cellular</td><td>15</td><td>jul</td><td>unknown</td><td>no</td></tr><tr><th>16</th><td>52</td><td>management</td><td>married</td><td>tertiary</td><td>-970</td><td>no</td><td>cellular</td><td>4</td><td>feb</td><td>unknown</td><td>yes</td></tr><tr><th>17</th><td>30</td><td>technician</td><td>single</td><td>tertiary</td><td>-970</td><td>yes</td><td>cellular</td><td>21</td><td>aug</td><td>unknown</td><td>no</td></tr><tr><th>18</th><td>57</td><td>admin.</td><td>married</td><td>secondary</td><td>-967</td><td>no</td><td>telephone</td><td>15</td><td>may</td><td>unknown</td><td>no</td></tr><tr><th>19</th><td>55</td><td>retired</td><td>married</td><td>primary</td><td>-966</td><td>yes</td><td>cellular</td><td>14</td><td>may</td><td>unknown</td><td>no</td></tr><tr><th>20</th><td>47</td><td>technician</td><td>married</td><td>secondary</td><td>-938</td><td>no</td><td>unknown</td><td>28</td><td>may</td><td>unknown</td><td>no</td></tr><tr><th>21</th><td>54</td><td>blue-collar</td><td>married</td><td>secondary</td><td>-932</td><td>no</td><td>unknown</td><td>7</td><td>may</td><td>unknown</td><td>no</td></tr><tr><th>22</th><td>43</td><td>technician</td><td>married</td><td>secondary</td><td>-932</td><td>no</td><td>cellular</td><td>16</td><td>apr</td><td>unknown</td><td>no</td></tr><tr><th>23</th><td>42</td><td>blue-collar</td><td>married</td><td>secondary</td><td>-921</td><td>no</td><td>unknown</td><td>26</td><td>may</td><td>unknown</td><td>no</td></tr><tr><th>24</th><td>53</td><td>services</td><td>divorced</td><td>secondary</td><td>-905</td><td>no</td><td>unknown</td><td>28</td><td>may</td><td>unknown</td><td>no</td></tr><tr><th>25</th><td>51</td><td>management</td><td>married</td><td>tertiary</td><td>-892</td><td>yes</td><td>cellular</td><td>14</td><td>aug</td><td>unknown</td><td>no</td></tr><tr><th>26</th><td>52</td><td>services</td><td>married</td><td>secondary</td><td>-888</td><td>no</td><td>cellular</td><td>16</td><td>jul</td><td>unknown</td><td>no</td></tr><tr><th>27</th><td>26</td><td>blue-collar</td><td>single</td><td>primary</td><td>-887</td><td>no</td><td>cellular</td><td>18</td><td>may</td><td>unknown</td><td>yes</td></tr><tr><th>28</th><td>36</td><td>unemployed</td><td>married</td><td>secondary</td><td>-872</td><td>yes</td><td>cellular</td><td>20</td><td>nov</td><td>failure</td><td>no</td></tr><tr><th>29</th><td>46</td><td>management</td><td>divorced</td><td>secondary</td><td>-852</td><td>yes</td><td>cellular</td><td>29</td><td>aug</td><td>unknown</td><td>no</td></tr><tr><th>30</th><td>32</td><td>entrepreneur</td><td>single</td><td>primary</td><td>-849</td><td>yes</td><td>cellular</td><td>4</td><td>feb</td><td>unknown</td><td>no</td></tr><tr><th>&vellip;</th><td>&vellip;</td><td>&vellip;</td><td>&vellip;</td><td>&vellip;</td><td>&vellip;</td><td>&vellip;</td><td>&vellip;</td><td>&vellip;</td><td>&vellip;</td><td>&vellip;</td><td>&vellip;</td></tr></tbody></table>"
      ],
      "text/plain": [
       "4521×11 DataFrames.DataFrame\n",
       "│ Row  │ age │ job             │ marital    │ education   │ balance │ loan  │\n",
       "├──────┼─────┼─────────────────┼────────────┼─────────────┼─────────┼───────┤\n",
       "│ 1    │ 57  │ \"self-employed\" │ \"married\"  │ \"tertiary\"  │ -3313   │ \"yes\" │\n",
       "│ 2    │ 51  │ \"entrepreneur\"  │ \"married\"  │ \"secondary\" │ -2082   │ \"yes\" │\n",
       "│ 3    │ 44  │ \"management\"    │ \"married\"  │ \"secondary\" │ -1746   │ \"no\"  │\n",
       "│ 4    │ 49  │ \"technician\"    │ \"married\"  │ \"secondary\" │ -1680   │ \"yes\" │\n",
       "│ 5    │ 46  │ \"blue-collar\"   │ \"married\"  │ \"secondary\" │ -1400   │ \"no\"  │\n",
       "│ 6    │ 44  │ \"management\"    │ \"single\"   │ \"tertiary\"  │ -1313   │ \"yes\" │\n",
       "│ 7    │ 42  │ \"technician\"    │ \"married\"  │ \"secondary\" │ -1310   │ \"yes\" │\n",
       "│ 8    │ 52  │ \"management\"    │ \"married\"  │ \"tertiary\"  │ -1224   │ \"no\"  │\n",
       "│ 9    │ 40  │ \"management\"    │ \"married\"  │ \"tertiary\"  │ -1212   │ \"no\"  │\n",
       "│ 10   │ 56  │ \"retired\"       │ \"married\"  │ \"secondary\" │ -1206   │ \"no\"  │\n",
       "│ 11   │ 27  │ \"services\"      │ \"married\"  │ \"secondary\" │ -1202   │ \"no\"  │\n",
       "⋮\n",
       "│ 4510 │ 37  │ \"management\"    │ \"married\"  │ \"primary\"   │ 22856   │ \"no\"  │\n",
       "│ 4511 │ 33  │ \"housemaid\"     │ \"single\"   │ \"tertiary\"  │ 23663   │ \"no\"  │\n",
       "│ 4512 │ 49  │ \"retired\"       │ \"single\"   │ \"primary\"   │ 25824   │ \"no\"  │\n",
       "│ 4513 │ 54  │ \"management\"    │ \"divorced\" │ \"tertiary\"  │ 26306   │ \"no\"  │\n",
       "│ 4514 │ 50  │ \"services\"      │ \"married\"  │ \"secondary\" │ 26394   │ \"no\"  │\n",
       "│ 4515 │ 75  │ \"retired\"       │ \"married\"  │ \"secondary\" │ 26452   │ \"no\"  │\n",
       "│ 4516 │ 31  │ \"housemaid\"     │ \"single\"   │ \"primary\"   │ 26965   │ \"no\"  │\n",
       "│ 4517 │ 57  │ \"technician\"    │ \"married\"  │ \"tertiary\"  │ 27069   │ \"yes\" │\n",
       "│ 4518 │ 36  │ \"management\"    │ \"married\"  │ \"tertiary\"  │ 27359   │ \"no\"  │\n",
       "│ 4519 │ 43  │ \"technician\"    │ \"single\"   │ \"tertiary\"  │ 27733   │ \"no\"  │\n",
       "│ 4520 │ 42  │ \"entrepreneur\"  │ \"married\"  │ \"tertiary\"  │ 42045   │ \"no\"  │\n",
       "│ 4521 │ 60  │ \"retired\"       │ \"married\"  │ \"primary\"   │ 71188   │ \"no\"  │\n",
       "\n",
       "│ Row  │ contact     │ day │ month │ poutcome  │ y     │\n",
       "├──────┼─────────────┼─────┼───────┼───────────┼───────┤\n",
       "│ 1    │ \"unknown\"   │ 9   │ \"may\" │ \"unknown\" │ \"no\"  │\n",
       "│ 2    │ \"cellular\"  │ 28  │ \"jul\" │ \"unknown\" │ \"no\"  │\n",
       "│ 3    │ \"unknown\"   │ 20  │ \"jun\" │ \"unknown\" │ \"no\"  │\n",
       "│ 4    │ \"unknown\"   │ 27  │ \"jun\" │ \"unknown\" │ \"no\"  │\n",
       "│ 5    │ \"telephone\" │ 6   │ \"may\" │ \"failure\" │ \"no\"  │\n",
       "│ 6    │ \"cellular\"  │ 15  │ \"may\" │ \"unknown\" │ \"no\"  │\n",
       "│ 7    │ \"unknown\"   │ 28  │ \"may\" │ \"unknown\" │ \"no\"  │\n",
       "│ 8    │ \"cellular\"  │ 7   │ \"may\" │ \"unknown\" │ \"no\"  │\n",
       "│ 9    │ \"cellular\"  │ 15  │ \"may\" │ \"failure\" │ \"no\"  │\n",
       "│ 10   │ \"cellular\"  │ 15  │ \"jun\" │ \"unknown\" │ \"yes\" │\n",
       "│ 11   │ \"unknown\"   │ 4   │ \"jun\" │ \"unknown\" │ \"no\"  │\n",
       "⋮\n",
       "│ 4510 │ \"cellular\"  │ 2   │ \"jul\" │ \"failure\" │ \"no\"  │\n",
       "│ 4511 │ \"cellular\"  │ 16  │ \"apr\" │ \"failure\" │ \"no\"  │\n",
       "│ 4512 │ \"unknown\"   │ 17  │ \"jun\" │ \"unknown\" │ \"no\"  │\n",
       "│ 4513 │ \"cellular\"  │ 11  │ \"feb\" │ \"failure\" │ \"no\"  │\n",
       "│ 4514 │ \"cellular\"  │ 25  │ \"aug\" │ \"unknown\" │ \"no\"  │\n",
       "│ 4515 │ \"telephone\" │ 15  │ \"jul\" │ \"unknown\" │ \"no\"  │\n",
       "│ 4516 │ \"cellular\"  │ 21  │ \"apr\" │ \"unknown\" │ \"yes\" │\n",
       "│ 4517 │ \"unknown\"   │ 20  │ \"jun\" │ \"unknown\" │ \"no\"  │\n",
       "│ 4518 │ \"unknown\"   │ 3   │ \"jun\" │ \"unknown\" │ \"no\"  │\n",
       "│ 4519 │ \"unknown\"   │ 3   │ \"jun\" │ \"unknown\" │ \"no\"  │\n",
       "│ 4520 │ \"cellular\"  │ 8   │ \"aug\" │ \"unknown\" │ \"no\"  │\n",
       "│ 4521 │ \"cellular\"  │ 6   │ \"oct\" │ \"unknown\" │ \"no\"  │"
      ]
     },
     "execution_count": 51,
     "metadata": {},
     "output_type": "execute_result"
    }
   ],
   "source": [
    "sort!(df, cols = [order(:balance,rev = false)])"
   ]
  },
  {
   "cell_type": "code",
   "execution_count": 58,
   "metadata": {},
   "outputs": [
    {
     "data": {
      "text/html": [
       "<table class=\"data-frame\"><thead><tr><th></th><th>age</th><th>job</th><th>marital</th><th>education</th><th>balance</th><th>loan</th><th>contact</th><th>day</th><th>month</th><th>poutcome</th><th>y</th></tr></thead><tbody><tr><th>1</th><td>87</td><td>retired</td><td>married</td><td>primary</td><td>230</td><td>no</td><td>cellular</td><td>30</td><td>oct</td><td>unknown</td><td>yes</td></tr><tr><th>2</th><td>86</td><td>retired</td><td>married</td><td>secondary</td><td>1503</td><td>no</td><td>telephone</td><td>18</td><td>mar</td><td>other</td><td>no</td></tr><tr><th>3</th><td>84</td><td>retired</td><td>divorced</td><td>primary</td><td>639</td><td>no</td><td>telephone</td><td>18</td><td>may</td><td>unknown</td><td>yes</td></tr><tr><th>4</th><td>83</td><td>retired</td><td>divorced</td><td>primary</td><td>1097</td><td>no</td><td>telephone</td><td>5</td><td>mar</td><td>unknown</td><td>yes</td></tr><tr><th>5</th><td>83</td><td>retired</td><td>married</td><td>secondary</td><td>0</td><td>no</td><td>cellular</td><td>18</td><td>mar</td><td>unknown</td><td>no</td></tr><tr><th>6</th><td>83</td><td>retired</td><td>married</td><td>primary</td><td>425</td><td>no</td><td>telephone</td><td>22</td><td>jun</td><td>failure</td><td>yes</td></tr><tr><th>7</th><td>83</td><td>retired</td><td>divorced</td><td>primary</td><td>0</td><td>no</td><td>telephone</td><td>31</td><td>may</td><td>success</td><td>no</td></tr><tr><th>8</th><td>81</td><td>retired</td><td>married</td><td>secondary</td><td>1</td><td>no</td><td>cellular</td><td>19</td><td>aug</td><td>unknown</td><td>no</td></tr><tr><th>9</th><td>80</td><td>housemaid</td><td>married</td><td>primary</td><td>0</td><td>no</td><td>cellular</td><td>23</td><td>feb</td><td>failure</td><td>yes</td></tr><tr><th>10</th><td>80</td><td>management</td><td>married</td><td>primary</td><td>6483</td><td>no</td><td>telephone</td><td>19</td><td>oct</td><td>unknown</td><td>no</td></tr><tr><th>11</th><td>80</td><td>retired</td><td>married</td><td>secondary</td><td>8304</td><td>no</td><td>telephone</td><td>6</td><td>apr</td><td>success</td><td>no</td></tr><tr><th>12</th><td>80</td><td>retired</td><td>married</td><td>primary</td><td>1548</td><td>no</td><td>cellular</td><td>6</td><td>aug</td><td>unknown</td><td>no</td></tr><tr><th>13</th><td>80</td><td>retired</td><td>married</td><td>secondary</td><td>462</td><td>no</td><td>cellular</td><td>7</td><td>dec</td><td>unknown</td><td>no</td></tr><tr><th>14</th><td>80</td><td>retired</td><td>married</td><td>secondary</td><td>8304</td><td>no</td><td>telephone</td><td>9</td><td>jun</td><td>failure</td><td>yes</td></tr><tr><th>15</th><td>79</td><td>retired</td><td>divorced</td><td>unknown</td><td>2628</td><td>no</td><td>telephone</td><td>8</td><td>jul</td><td>failure</td><td>no</td></tr><tr><th>16</th><td>79</td><td>retired</td><td>married</td><td>primary</td><td>429</td><td>no</td><td>telephone</td><td>8</td><td>jul</td><td>unknown</td><td>yes</td></tr><tr><th>17</th><td>79</td><td>retired</td><td>married</td><td>secondary</td><td>4738</td><td>no</td><td>telephone</td><td>9</td><td>jul</td><td>unknown</td><td>no</td></tr><tr><th>18</th><td>79</td><td>retired</td><td>married</td><td>primary</td><td>8556</td><td>no</td><td>telephone</td><td>18</td><td>jan</td><td>success</td><td>yes</td></tr><tr><th>19</th><td>78</td><td>housemaid</td><td>married</td><td>secondary</td><td>499</td><td>no</td><td>telephone</td><td>16</td><td>mar</td><td>unknown</td><td>no</td></tr><tr><th>20</th><td>78</td><td>retired</td><td>married</td><td>tertiary</td><td>226</td><td>no</td><td>telephone</td><td>6</td><td>nov</td><td>unknown</td><td>no</td></tr><tr><th>21</th><td>78</td><td>retired</td><td>divorced</td><td>primary</td><td>229</td><td>no</td><td>telephone</td><td>22</td><td>oct</td><td>unknown</td><td>yes</td></tr><tr><th>22</th><td>77</td><td>retired</td><td>married</td><td>tertiary</td><td>7802</td><td>no</td><td>telephone</td><td>4</td><td>may</td><td>success</td><td>yes</td></tr><tr><th>23</th><td>77</td><td>retired</td><td>married</td><td>secondary</td><td>610</td><td>no</td><td>cellular</td><td>13</td><td>aug</td><td>unknown</td><td>no</td></tr><tr><th>24</th><td>77</td><td>retired</td><td>divorced</td><td>tertiary</td><td>4659</td><td>no</td><td>cellular</td><td>14</td><td>apr</td><td>unknown</td><td>yes</td></tr><tr><th>25</th><td>77</td><td>retired</td><td>married</td><td>tertiary</td><td>0</td><td>no</td><td>cellular</td><td>16</td><td>oct</td><td>success</td><td>yes</td></tr><tr><th>26</th><td>77</td><td>retired</td><td>married</td><td>primary</td><td>680</td><td>no</td><td>telephone</td><td>24</td><td>feb</td><td>failure</td><td>no</td></tr><tr><th>27</th><td>77</td><td>retired</td><td>married</td><td>primary</td><td>680</td><td>no</td><td>telephone</td><td>27</td><td>nov</td><td>failure</td><td>no</td></tr><tr><th>28</th><td>76</td><td>retired</td><td>married</td><td>primary</td><td>2590</td><td>no</td><td>telephone</td><td>9</td><td>feb</td><td>unknown</td><td>no</td></tr><tr><th>29</th><td>76</td><td>retired</td><td>divorced</td><td>primary</td><td>86</td><td>no</td><td>cellular</td><td>12</td><td>aug</td><td>unknown</td><td>no</td></tr><tr><th>30</th><td>75</td><td>blue-collar</td><td>married</td><td>secondary</td><td>6053</td><td>no</td><td>cellular</td><td>11</td><td>feb</td><td>failure</td><td>no</td></tr><tr><th>&vellip;</th><td>&vellip;</td><td>&vellip;</td><td>&vellip;</td><td>&vellip;</td><td>&vellip;</td><td>&vellip;</td><td>&vellip;</td><td>&vellip;</td><td>&vellip;</td><td>&vellip;</td><td>&vellip;</td></tr></tbody></table>"
      ],
      "text/plain": [
       "4521×11 DataFrames.DataFrame\n",
       "│ Row  │ age │ job          │ marital    │ education   │ balance │ loan │\n",
       "├──────┼─────┼──────────────┼────────────┼─────────────┼─────────┼──────┤\n",
       "│ 1    │ 87  │ \"retired\"    │ \"married\"  │ \"primary\"   │ 230     │ \"no\" │\n",
       "│ 2    │ 86  │ \"retired\"    │ \"married\"  │ \"secondary\" │ 1503    │ \"no\" │\n",
       "│ 3    │ 84  │ \"retired\"    │ \"divorced\" │ \"primary\"   │ 639     │ \"no\" │\n",
       "│ 4    │ 83  │ \"retired\"    │ \"divorced\" │ \"primary\"   │ 1097    │ \"no\" │\n",
       "│ 5    │ 83  │ \"retired\"    │ \"married\"  │ \"secondary\" │ 0       │ \"no\" │\n",
       "│ 6    │ 83  │ \"retired\"    │ \"married\"  │ \"primary\"   │ 425     │ \"no\" │\n",
       "│ 7    │ 83  │ \"retired\"    │ \"divorced\" │ \"primary\"   │ 0       │ \"no\" │\n",
       "│ 8    │ 81  │ \"retired\"    │ \"married\"  │ \"secondary\" │ 1       │ \"no\" │\n",
       "│ 9    │ 80  │ \"housemaid\"  │ \"married\"  │ \"primary\"   │ 0       │ \"no\" │\n",
       "│ 10   │ 80  │ \"management\" │ \"married\"  │ \"primary\"   │ 6483    │ \"no\" │\n",
       "│ 11   │ 80  │ \"retired\"    │ \"married\"  │ \"secondary\" │ 8304    │ \"no\" │\n",
       "⋮\n",
       "│ 4510 │ 21  │ \"student\"    │ \"single\"   │ \"secondary\" │ 6       │ \"no\" │\n",
       "│ 4511 │ 21  │ \"student\"    │ \"single\"   │ \"unknown\"   │ 137     │ \"no\" │\n",
       "│ 4512 │ 21  │ \"student\"    │ \"single\"   │ \"secondary\" │ 6844    │ \"no\" │\n",
       "│ 4513 │ 21  │ \"student\"    │ \"single\"   │ \"secondary\" │ 681     │ \"no\" │\n",
       "│ 4514 │ 21  │ \"student\"    │ \"single\"   │ \"secondary\" │ 2488    │ \"no\" │\n",
       "│ 4515 │ 20  │ \"student\"    │ \"single\"   │ \"secondary\" │ 291     │ \"no\" │\n",
       "│ 4516 │ 20  │ \"student\"    │ \"single\"   │ \"secondary\" │ 1191    │ \"no\" │\n",
       "│ 4517 │ 20  │ \"student\"    │ \"single\"   │ \"secondary\" │ 502     │ \"no\" │\n",
       "│ 4518 │ 19  │ \"student\"    │ \"single\"   │ \"unknown\"   │ 1169    │ \"no\" │\n",
       "│ 4519 │ 19  │ \"student\"    │ \"single\"   │ \"primary\"   │ 103     │ \"no\" │\n",
       "│ 4520 │ 19  │ \"student\"    │ \"single\"   │ \"unknown\"   │ 0       │ \"no\" │\n",
       "│ 4521 │ 19  │ \"student\"    │ \"single\"   │ \"secondary\" │ 302     │ \"no\" │\n",
       "\n",
       "│ Row  │ contact     │ day │ month │ poutcome  │ y     │\n",
       "├──────┼─────────────┼─────┼───────┼───────────┼───────┤\n",
       "│ 1    │ \"cellular\"  │ 30  │ \"oct\" │ \"unknown\" │ \"yes\" │\n",
       "│ 2    │ \"telephone\" │ 18  │ \"mar\" │ \"other\"   │ \"no\"  │\n",
       "│ 3    │ \"telephone\" │ 18  │ \"may\" │ \"unknown\" │ \"yes\" │\n",
       "│ 4    │ \"telephone\" │ 5   │ \"mar\" │ \"unknown\" │ \"yes\" │\n",
       "│ 5    │ \"cellular\"  │ 18  │ \"mar\" │ \"unknown\" │ \"no\"  │\n",
       "│ 6    │ \"telephone\" │ 22  │ \"jun\" │ \"failure\" │ \"yes\" │\n",
       "│ 7    │ \"telephone\" │ 31  │ \"may\" │ \"success\" │ \"no\"  │\n",
       "│ 8    │ \"cellular\"  │ 19  │ \"aug\" │ \"unknown\" │ \"no\"  │\n",
       "│ 9    │ \"cellular\"  │ 23  │ \"feb\" │ \"failure\" │ \"yes\" │\n",
       "│ 10   │ \"telephone\" │ 19  │ \"oct\" │ \"unknown\" │ \"no\"  │\n",
       "│ 11   │ \"telephone\" │ 6   │ \"apr\" │ \"success\" │ \"no\"  │\n",
       "⋮\n",
       "│ 4510 │ \"unknown\"   │ 9   │ \"may\" │ \"unknown\" │ \"no\"  │\n",
       "│ 4511 │ \"unknown\"   │ 12  │ \"may\" │ \"unknown\" │ \"no\"  │\n",
       "│ 4512 │ \"cellular\"  │ 14  │ \"aug\" │ \"other\"   │ \"no\"  │\n",
       "│ 4513 │ \"unknown\"   │ 20  │ \"aug\" │ \"unknown\" │ \"no\"  │\n",
       "│ 4514 │ \"cellular\"  │ 30  │ \"jun\" │ \"success\" │ \"yes\" │\n",
       "│ 4515 │ \"telephone\" │ 11  │ \"may\" │ \"failure\" │ \"no\"  │\n",
       "│ 4516 │ \"cellular\"  │ 12  │ \"feb\" │ \"unknown\" │ \"no\"  │\n",
       "│ 4517 │ \"cellular\"  │ 30  │ \"apr\" │ \"unknown\" │ \"yes\" │\n",
       "│ 4518 │ \"cellular\"  │ 6   │ \"feb\" │ \"unknown\" │ \"no\"  │\n",
       "│ 4519 │ \"cellular\"  │ 10  │ \"jul\" │ \"unknown\" │ \"yes\" │\n",
       "│ 4520 │ \"cellular\"  │ 11  │ \"feb\" │ \"unknown\" │ \"no\"  │\n",
       "│ 4521 │ \"cellular\"  │ 16  │ \"jul\" │ \"unknown\" │ \"yes\" │"
      ]
     },
     "execution_count": 58,
     "metadata": {},
     "output_type": "execute_result"
    }
   ],
   "source": [
    "sort!(df,cols =[:age,:job,:day],\n",
    "rev=(true,false,false))"
   ]
  },
  {
   "cell_type": "code",
   "execution_count": null,
   "metadata": {},
   "outputs": [],
   "source": [
    "# THANKS \n",
    "#J-Secur1ty\n",
    "#@JCharisTech\n",
    "#Jesus saves"
   ]
  }
 ],
 "metadata": {
  "kernelspec": {
   "display_name": "Julia 0.6.1",
   "language": "julia",
   "name": "julia-0.6"
  },
  "language_info": {
   "file_extension": ".jl",
   "mimetype": "application/julia",
   "name": "julia",
   "version": "0.6.1"
  }
 },
 "nbformat": 4,
 "nbformat_minor": 2
}
