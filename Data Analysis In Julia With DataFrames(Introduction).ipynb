{
 "cells": [
  {
   "cell_type": "markdown",
   "metadata": {},
   "source": [
    "## DATA ANALYSIS IN JULIA WITH DATAFRAMES #1 \n",
    "### Introduction To DataFrames.jl\n",
    "### Packages\n",
    "+ Pkg.add(\"DataFrames\")\n",
    "+ Pkg.add(\"Requests\")"
   ]
  },
  {
   "cell_type": "code",
   "execution_count": null,
   "metadata": {},
   "outputs": [],
   "source": [
    "using DataFrames,Requests"
   ]
  },
  {
   "cell_type": "code",
   "execution_count": 2,
   "metadata": {},
   "outputs": [
    {
     "name": "stdout",
     "output_type": "stream",
     "text": [
      "                             &      0 bytes  Base.#&\n",
      "                     @csv2_str      0 bytes  DataFrames.#@csv2_str\n",
      "                      @csv_str      0 bytes  DataFrames.#@csv_str\n",
      "                         @data      0 bytes  DataArrays.#@data\n",
      "                      @formula      0 bytes  DataFrames.#@formula\n",
      "                        @pdata      0 bytes  DataArrays.#@pdata\n",
      "                      @tsv_str      0 bytes  DataFrames.#@tsv_str\n",
      "                      @wsv_str      0 bytes  DataFrames.#@wsv_str\n",
      "                           AIC      0 bytes  StatsBase.#AIC\n",
      "                          AICc      0 bytes  StatsBase.#AICc\n",
      "             AbstractContrasts     92 bytes  DataType\n",
      "             AbstractDataArray     80 bytes  UnionAll\n",
      "             AbstractDataFrame     92 bytes  DataType\n",
      "            AbstractDataMatrix     40 bytes  UnionAll\n",
      "            AbstractDataVector     40 bytes  UnionAll\n",
      "             AbstractHistogram    120 bytes  UnionAll\n",
      "               AbstractWeights    120 bytes  UnionAll\n",
      "               AnalyticWeights    120 bytes  UnionAll\n",
      "                           BIC      0 bytes  StatsBase.#BIC\n",
      "                     CoefTable    176 bytes  DataType\n",
      "               ContrastsCoding    176 bytes  DataType\n",
      "          ConvergenceException     40 bytes  UnionAll\n",
      "                     DataArray     80 bytes  UnionAll\n",
      "                    DataArrays  20615 KB     Module\n",
      "                     DataFrame    164 bytes  DataType\n",
      "                  DataFrameRow     40 bytes  UnionAll\n",
      "                    DataFrames  20920 KB     Module\n",
      "                    DataMatrix     40 bytes  UnionAll\n",
      "                    DataVector     40 bytes  UnionAll\n",
      "                   DummyCoding    124 bytes  DataType\n",
      "                    EachDropNA     40 bytes  UnionAll\n",
      "                    EachFailNA     40 bytes  UnionAll\n",
      "                 EachReplaceNA     80 bytes  UnionAll\n",
      "                 EffectsCoding    124 bytes  DataType\n",
      "                      FastPerm    120 bytes  UnionAll\n",
      "                       Formula    188 bytes  DataType\n",
      "              FrequencyWeights    120 bytes  UnionAll\n",
      "                  GroupApplied    164 bytes  DataType\n",
      "              GroupedDataFrame    200 bytes  DataType\n",
      "                 HelmertCoding    124 bytes  DataType\n",
      "                     Histogram    120 bytes  UnionAll\n",
      "                        L1dist      0 bytes  StatsBase.#L1dist\n",
      "                        L2dist      0 bytes  StatsBase.#L2dist\n",
      "                      Linfdist      0 bytes  StatsBase.#Linfdist\n",
      "                    ModelFrame    188 bytes  DataType\n",
      "                   ModelMatrix     80 bytes  UnionAll\n",
      "                            NA #=ERROR: unable to show value=#\n",
      "                   NAException    112 bytes  DataType\n",
      "                        NAtype     92 bytes  DataType\n",
      "               PooledDataArray    120 bytes  UnionAll\n",
      "              PooledDataMatrix     80 bytes  UnionAll\n",
      "                PooledDataVecs      0 bytes  DataArrays.#PooledDataVecs\n",
      "              PooledDataVector     80 bytes  UnionAll\n",
      "            ProbabilityWeights    120 bytes  UnionAll\n",
      "                            R2      0 bytes  StatsBase.#R2\n",
      "               RegressionModel     92 bytes  DataType\n",
      "                            R²      0 bytes  StatsBase.#R²\n",
      "              StatisticalModel     92 bytes  DataType\n",
      "                     StatsBase    675 KB     Module\n",
      "                  SubDataFrame     40 bytes  UnionAll\n",
      "                       Weights    120 bytes  UnionAll\n",
      "                      _moment2      0 bytes  StatsBase.#_moment2\n",
      "                      _moment3      0 bytes  StatsBase.#_moment3\n",
      "                      _moment4      0 bytes  StatsBase.#_moment4\n",
      "                      _momentk      0 bytes  StatsBase.#_momentk\n",
      "                    addcounts!      0 bytes  StatsBase.#addcounts!\n",
      "                         adjR2      0 bytes  StatsBase.#adjR2\n",
      "                         adjR²      0 bytes  StatsBase.#adjR²\n",
      "                         adjr2      0 bytes  StatsBase.#adjr2\n",
      "                         adjr²      0 bytes  StatsBase.#adjr2\n",
      "                     aggregate      0 bytes  DataFrames.#aggregate\n",
      "                           aic      0 bytes  StatsBase.#aic\n",
      "                          aicc      0 bytes  StatsBase.#aicc\n",
      "                         allna      0 bytes  DataArrays.#allna\n",
      "                         anyna      0 bytes  DataArrays.#anyna\n",
      "                       autocor      0 bytes  StatsBase.#autocor\n",
      "                      autocor!      0 bytes  StatsBase.#autocor!\n",
      "                       autocov      0 bytes  StatsBase.#autocov\n",
      "                      autocov!      0 bytes  StatsBase.#autocov!\n",
      "                      aweights      0 bytes  StatsBase.#aweights\n",
      "                           bic      0 bytes  StatsBase.#bic\n",
      "                            by      0 bytes  DataFrames.#by\n",
      "                          coef      0 bytes  StatsBase.#coef\n",
      "                     coefnames      0 bytes  DataFrames.#coefnames\n",
      "                     coeftable      0 bytes  StatsBase.#coeftable\n",
      "                       colwise      0 bytes  DataFrames.#colwise\n",
      "                       combine      0 bytes  DataFrames.#combine\n",
      "                       compact      0 bytes  DataArrays.#compact\n",
      "                   competerank      0 bytes  StatsBase.#competerank\n",
      "                complete_cases      0 bytes  DataFrames.#complete_cases\n",
      "               complete_cases!      0 bytes  DataFrames.#complete_cases!\n",
      "                 completecases      0 bytes  DataFrames.#completecases\n",
      "                completecases!      0 bytes  DataFrames.#completecases!\n",
      "                       confint      0 bytes  StatsBase.#confint\n",
      "                       cor2cov      0 bytes  StatsBase.#cor2cov\n",
      "                    corkendall      0 bytes  StatsBase.#corkendall\n",
      "                   corspearman      0 bytes  StatsBase.#corspearman\n",
      "                       counteq      0 bytes  StatsBase.#counteq\n",
      "                      countmap      0 bytes  StatsBase.#countmap\n",
      "                       countne      0 bytes  StatsBase.#countne\n",
      "                        counts      0 bytes  StatsBase.#counts\n",
      "                       cov2cor      0 bytes  StatsBase.#cov2cor\n",
      "                      crosscor      0 bytes  StatsBase.#crosscor\n",
      "                     crosscor!      0 bytes  StatsBase.#crosscor!\n",
      "                      crosscov      0 bytes  StatsBase.#crosscov\n",
      "                     crosscov!      0 bytes  StatsBase.#crosscov!\n",
      "                  crossentropy      0 bytes  StatsBase.#crossentropy\n",
      "                           cut      0 bytes  DataArrays.#cut\n",
      "                          data      0 bytes  DataArrays.#data\n",
      "                   deleterows!      0 bytes  DataFrames.#deleterows!\n",
      "                     denserank      0 bytes  StatsBase.#denserank\n",
      "                      describe      0 bytes  StatsBase.#describe\n",
      "                      deviance      0 bytes  StatsBase.#deviance\n",
      "                            df      0 bytes  StatsBase.#df\n",
      "                   df_residual      0 bytes  StatsBase.#df_residual\n",
      "                           dof      0 bytes  StatsBase.#dof\n",
      "                  dof_residual      0 bytes  StatsBase.#dof_residual\n",
      "                        dropna      0 bytes  DataArrays.#dropna\n",
      "                   each_dropna      0 bytes  DataArrays.#each_dropna\n",
      "                   each_failna      0 bytes  DataArrays.#each_failna\n",
      "                each_replacena      0 bytes  DataArrays.#each_replacena\n",
      "                       eachcol      0 bytes  DataFrames.#eachcol\n",
      "                       eachrow      0 bytes  DataFrames.#eachrow\n",
      "                          ecdf      0 bytes  StatsBase.#ecdf\n",
      "                       eltypes      0 bytes  DataFrames.#eltypes\n",
      "                       entropy      0 bytes  StatsBase.#entropy\n",
      "                        findat      0 bytes  StatsBase.#findat\n",
      "                           fit      0 bytes  StatsBase.#fit\n",
      "                          fit!      0 bytes  StatsBase.#fit!\n",
      "                        fitted      0 bytes  StatsBase.#fitted\n",
      "                      fweights      0 bytes  StatsBase.#fweights\n",
      "                       genmean      0 bytes  StatsBase.#genmean\n",
      "                       geomean      0 bytes  StatsBase.#geomean\n",
      "                    getpoolidx      0 bytes  DataArrays.#getpoolidx\n",
      "                        gkldiv      0 bytes  StatsBase.#gkldiv\n",
      "                            gl      0 bytes  DataArrays.#gl\n",
      "                       groupby      0 bytes  DataFrames.#groupby\n",
      "                      harmmean      0 bytes  StatsBase.#harmmean\n",
      "                          head      0 bytes  DataFrames.#head\n",
      "                      indexmap      0 bytes  StatsBase.#indexmap\n",
      "                  indicatormat      0 bytes  StatsBase.#indicatormat\n",
      "                       insert!      0 bytes  Base.#insert!\n",
      "                   inverse_rle      0 bytes  StatsBase.#inverse_rle\n",
      "                           iqr      0 bytes  StatsBase.#iqr\n",
      "                          isna      0 bytes  DataArrays.#isna\n",
      "                          keys      0 bytes  Base.#keys\n",
      "                  kldivergence      0 bytes  StatsBase.#kldivergence\n",
      "                      kurtosis      0 bytes  StatsBase.#kurtosis\n",
      "                        levels      0 bytes  DataArrays.#levels\n",
      "                     levelsmap      0 bytes  StatsBase.#levelsmap\n",
      "                 loglikelihood      0 bytes  StatsBase.#loglikelihood\n",
      "                           mad      0 bytes  StatsBase.#mad\n",
      "                         maxad      0 bytes  StatsBase.#maxad\n",
      "                  mean_and_cov      0 bytes  StatsBase.#mean_and_cov\n",
      "                  mean_and_std      0 bytes  StatsBase.#mean_and_std\n",
      "                  mean_and_var      0 bytes  StatsBase.#mean_and_var\n",
      "                        meanad      0 bytes  StatsBase.#meanad\n",
      "                          melt      0 bytes  DataFrames.#melt\n",
      "                        meltdf      0 bytes  DataFrames.#meltdf\n",
      "                        middle      0 bytes  Base.#middle\n",
      "                     midpoints      0 bytes  Base.#midpoints\n",
      "                          mode      0 bytes  StatsBase.#mode\n",
      "                model_response      0 bytes  StatsBase.#model_response\n",
      "                         modes      0 bytes  StatsBase.#modes\n",
      "                        moment      0 bytes  StatsBase.#moment\n",
      "                           msd      0 bytes  StatsBase.#msd\n",
      "                        names!      0 bytes  DataFrames.#names!\n",
      "                          ncol      0 bytes  DataFrames.#ncol\n",
      "                          nobs      0 bytes  StatsBase.#nobs\n",
      "                     nonunique      0 bytes  DataFrames.#nonunique\n",
      "                     nquantile      0 bytes  StatsBase.#nquantile\n",
      "                          nrow      0 bytes  DataFrames.#nrow\n",
      "                     nullable!      0 bytes  DataFrames.#nullable!\n",
      "                  nulldeviance      0 bytes  StatsBase.#nulldeviance\n",
      "             nullloglikelihood      0 bytes  StatsBase.#nullloglikelihood\n",
      "                         order      0 bytes  DataFrames.#order\n",
      "                   ordinalrank      0 bytes  StatsBase.#ordinalrank\n",
      "                          pacf      0 bytes  StatsBase.#pacf\n",
      "                         pacf!      0 bytes  StatsBase.#pacf!\n",
      "                         padNA      0 bytes  DataArrays.#padNA\n",
      "                         padna      0 bytes  DataArrays.#padna\n",
      "                         pdata      0 bytes  DataArrays.#pdata\n",
      "                    percentile      0 bytes  StatsBase.#percentile\n",
      "                          pool      0 bytes  DataFrames.#pool\n",
      "                         pool!      0 bytes  DataFrames.#pool!\n",
      "                       predict      0 bytes  StatsBase.#predict\n",
      "                      predict!      0 bytes  StatsBase.#predict!\n",
      "                    printtable      0 bytes  DataFrames.#printtable\n",
      "                 proportionmap      0 bytes  StatsBase.#proportionmap\n",
      "                   proportions      0 bytes  StatsBase.#proportions\n",
      "                          psnr      0 bytes  StatsBase.#psnr\n",
      "                      pweights      0 bytes  StatsBase.#pweights\n",
      "                            r2      0 bytes  StatsBase.#r2\n",
      "                         randi      0 bytes  StatsBase.#randi\n",
      "                      read_rda      0 bytes  DataFrames.#read_rda\n",
      "                     readtable      0 bytes  DataFrames.#readtable\n",
      "                        rename      0 bytes  DataFrames.#rename\n",
      "                       rename!      0 bytes  DataFrames.#rename!\n",
      "                  renyientropy      0 bytes  StatsBase.#renyientropy\n",
      "                       reorder      0 bytes  DataArrays.#reorder\n",
      "                      replace!      0 bytes  DataArrays.#replace!\n",
      "                     residuals      0 bytes  StatsBase.#residuals\n",
      "                           rle      0 bytes  StatsBase.#rle\n",
      "                          rmsd      0 bytes  StatsBase.#rmsd\n",
      "                            r²      0 bytes  StatsBase.#r2\n",
      "                        sample      0 bytes  StatsBase.#sample\n",
      "                       sample!      0 bytes  StatsBase.#sample!\n",
      "                    samplepair      0 bytes  StatsBase.#samplepair\n",
      "                    scattermat      0 bytes  StatsBase.#scattermat\n",
      "                           sem      0 bytes  StatsBase.#sem\n",
      "                 setcontrasts!      0 bytes  DataFrames.#setcontrasts!\n",
      "                     setlevels      0 bytes  DataArrays.#setlevels\n",
      "                    setlevels!      0 bytes  DataArrays.#setlevels!\n",
      "                      showcols      0 bytes  DataFrames.#showcols\n",
      "                      skewness      0 bytes  StatsBase.#skewness\n",
      "                          span      0 bytes  StatsBase.#span\n",
      "                      sqL2dist      0 bytes  StatsBase.#sqL2dist\n",
      "                         stack      0 bytes  DataFrames.#stack\n",
      "                       stackdf      0 bytes  DataFrames.#stackdf\n",
      "                        stderr      0 bytes  StatsBase.#stderr\n",
      "                          stdm      0 bytes  Base.#stdm\n",
      "                  summarystats      0 bytes  StatsBase.#summarystats\n",
      "                          tail      0 bytes  DataFrames.#tail\n",
      "                      tiedrank      0 bytes  StatsBase.#tiedrank\n",
      "                          trim      0 bytes  StatsBase.#trim\n",
      "                         trim!      0 bytes  StatsBase.#trim!\n",
      "                      trimmean      0 bytes  StatsBase.#trimmean\n",
      "                       trimvar      0 bytes  StatsBase.#trimvar\n",
      "                       unique!      0 bytes  DataFrames.#unique!\n",
      "                       unstack      0 bytes  DataFrames.#unstack\n",
      "                        values      0 bytes  Base.#values\n",
      "                     variation      0 bytes  StatsBase.#variation\n",
      "                          varm      0 bytes  Base.#varm\n",
      "                          vcov      0 bytes  StatsBase.#vcov\n",
      "                       weights      0 bytes  StatsBase.#weights\n",
      "                        winsor      0 bytes  StatsBase.#winsor\n",
      "                       winsor!      0 bytes  StatsBase.#winsor!\n",
      "                         wmean      0 bytes  StatsBase.#wmean\n",
      "                       wmedian      0 bytes  StatsBase.#wmedian\n",
      "                     wquantile      0 bytes  StatsBase.#wquantile\n",
      "                    writetable      0 bytes  DataFrames.#writetable\n",
      "                       wsample      0 bytes  StatsBase.#wsample\n",
      "                      wsample!      0 bytes  StatsBase.#wsample!\n",
      "                          wsum      0 bytes  StatsBase.#wsum\n",
      "                         wsum!      0 bytes  StatsBase.#wsum!\n",
      "                           xor      0 bytes  Base.#xor\n",
      "                        zscore      0 bytes  StatsBase.#zscore\n",
      "                       zscore!      0 bytes  StatsBase.#zscore!\n",
      "                             |      0 bytes  Base.#|\n"
     ]
    }
   ],
   "source": [
    "# Functionalities of DataFrames\n",
    "whos(DataFrames)"
   ]
  },
  {
   "cell_type": "markdown",
   "metadata": {},
   "source": [
    "### Reading Dataframes"
   ]
  },
  {
   "cell_type": "code",
   "execution_count": 3,
   "metadata": {},
   "outputs": [
    {
     "data": {
      "text/html": [
       "<table class=\"data-frame\"><thead><tr><th></th><th>sepal_length</th><th>sepal_width</th><th>petal_length</th><th>petal_width</th><th>species</th></tr></thead><tbody><tr><th>1</th><td>5.1</td><td>3.5</td><td>1.4</td><td>0.2</td><td>setosa</td></tr><tr><th>2</th><td>4.9</td><td>3.0</td><td>1.4</td><td>0.2</td><td>setosa</td></tr><tr><th>3</th><td>4.7</td><td>3.2</td><td>1.3</td><td>0.2</td><td>setosa</td></tr><tr><th>4</th><td>4.6</td><td>3.1</td><td>1.5</td><td>0.2</td><td>setosa</td></tr><tr><th>5</th><td>5.0</td><td>3.6</td><td>1.4</td><td>0.2</td><td>setosa</td></tr><tr><th>6</th><td>5.4</td><td>3.9</td><td>1.7</td><td>0.4</td><td>setosa</td></tr><tr><th>7</th><td>4.6</td><td>3.4</td><td>1.4</td><td>0.3</td><td>setosa</td></tr><tr><th>8</th><td>5.0</td><td>3.4</td><td>1.5</td><td>0.2</td><td>setosa</td></tr><tr><th>9</th><td>4.4</td><td>2.9</td><td>1.4</td><td>0.2</td><td>setosa</td></tr><tr><th>10</th><td>4.9</td><td>3.1</td><td>1.5</td><td>0.1</td><td>setosa</td></tr><tr><th>11</th><td>5.4</td><td>3.7</td><td>1.5</td><td>0.2</td><td>setosa</td></tr><tr><th>12</th><td>4.8</td><td>3.4</td><td>1.6</td><td>0.2</td><td>setosa</td></tr><tr><th>13</th><td>4.8</td><td>3.0</td><td>1.4</td><td>0.1</td><td>setosa</td></tr><tr><th>14</th><td>4.3</td><td>3.0</td><td>1.1</td><td>0.1</td><td>setosa</td></tr><tr><th>15</th><td>5.8</td><td>4.0</td><td>1.2</td><td>0.2</td><td>setosa</td></tr><tr><th>16</th><td>5.7</td><td>4.4</td><td>1.5</td><td>0.4</td><td>setosa</td></tr><tr><th>17</th><td>5.4</td><td>3.9</td><td>1.3</td><td>0.4</td><td>setosa</td></tr><tr><th>18</th><td>5.1</td><td>3.5</td><td>1.4</td><td>0.3</td><td>setosa</td></tr><tr><th>19</th><td>5.7</td><td>3.8</td><td>1.7</td><td>0.3</td><td>setosa</td></tr><tr><th>20</th><td>5.1</td><td>3.8</td><td>1.5</td><td>0.3</td><td>setosa</td></tr><tr><th>21</th><td>5.4</td><td>3.4</td><td>1.7</td><td>0.2</td><td>setosa</td></tr><tr><th>22</th><td>5.1</td><td>3.7</td><td>1.5</td><td>0.4</td><td>setosa</td></tr><tr><th>23</th><td>4.6</td><td>3.6</td><td>1.0</td><td>0.2</td><td>setosa</td></tr><tr><th>24</th><td>5.1</td><td>3.3</td><td>1.7</td><td>0.5</td><td>setosa</td></tr><tr><th>25</th><td>4.8</td><td>3.4</td><td>1.9</td><td>0.2</td><td>setosa</td></tr><tr><th>26</th><td>5.0</td><td>3.0</td><td>1.6</td><td>0.2</td><td>setosa</td></tr><tr><th>27</th><td>5.0</td><td>3.4</td><td>1.6</td><td>0.4</td><td>setosa</td></tr><tr><th>28</th><td>5.2</td><td>3.5</td><td>1.5</td><td>0.2</td><td>setosa</td></tr><tr><th>29</th><td>5.2</td><td>3.4</td><td>1.4</td><td>0.2</td><td>setosa</td></tr><tr><th>30</th><td>4.7</td><td>3.2</td><td>1.6</td><td>0.2</td><td>setosa</td></tr><tr><th>&vellip;</th><td>&vellip;</td><td>&vellip;</td><td>&vellip;</td><td>&vellip;</td><td>&vellip;</td></tr></tbody></table>"
      ],
      "text/plain": [
       "150×5 DataFrames.DataFrame\n",
       "│ Row │ sepal_length │ sepal_width │ petal_length │ petal_width │ species     │\n",
       "├─────┼──────────────┼─────────────┼──────────────┼─────────────┼─────────────┤\n",
       "│ 1   │ 5.1          │ 3.5         │ 1.4          │ 0.2         │ \"setosa\"    │\n",
       "│ 2   │ 4.9          │ 3.0         │ 1.4          │ 0.2         │ \"setosa\"    │\n",
       "│ 3   │ 4.7          │ 3.2         │ 1.3          │ 0.2         │ \"setosa\"    │\n",
       "│ 4   │ 4.6          │ 3.1         │ 1.5          │ 0.2         │ \"setosa\"    │\n",
       "│ 5   │ 5.0          │ 3.6         │ 1.4          │ 0.2         │ \"setosa\"    │\n",
       "│ 6   │ 5.4          │ 3.9         │ 1.7          │ 0.4         │ \"setosa\"    │\n",
       "│ 7   │ 4.6          │ 3.4         │ 1.4          │ 0.3         │ \"setosa\"    │\n",
       "│ 8   │ 5.0          │ 3.4         │ 1.5          │ 0.2         │ \"setosa\"    │\n",
       "│ 9   │ 4.4          │ 2.9         │ 1.4          │ 0.2         │ \"setosa\"    │\n",
       "│ 10  │ 4.9          │ 3.1         │ 1.5          │ 0.1         │ \"setosa\"    │\n",
       "│ 11  │ 5.4          │ 3.7         │ 1.5          │ 0.2         │ \"setosa\"    │\n",
       "⋮\n",
       "│ 139 │ 6.0          │ 3.0         │ 4.8          │ 1.8         │ \"virginica\" │\n",
       "│ 140 │ 6.9          │ 3.1         │ 5.4          │ 2.1         │ \"virginica\" │\n",
       "│ 141 │ 6.7          │ 3.1         │ 5.6          │ 2.4         │ \"virginica\" │\n",
       "│ 142 │ 6.9          │ 3.1         │ 5.1          │ 2.3         │ \"virginica\" │\n",
       "│ 143 │ 5.8          │ 2.7         │ 5.1          │ 1.9         │ \"virginica\" │\n",
       "│ 144 │ 6.8          │ 3.2         │ 5.9          │ 2.3         │ \"virginica\" │\n",
       "│ 145 │ 6.7          │ 3.3         │ 5.7          │ 2.5         │ \"virginica\" │\n",
       "│ 146 │ 6.7          │ 3.0         │ 5.2          │ 2.3         │ \"virginica\" │\n",
       "│ 147 │ 6.3          │ 2.5         │ 5.0          │ 1.9         │ \"virginica\" │\n",
       "│ 148 │ 6.5          │ 3.0         │ 5.2          │ 2.0         │ \"virginica\" │\n",
       "│ 149 │ 6.2          │ 3.4         │ 5.4          │ 2.3         │ \"virginica\" │\n",
       "│ 150 │ 5.9          │ 3.0         │ 5.1          │ 1.8         │ \"virginica\" │"
      ]
     },
     "execution_count": 3,
     "metadata": {},
     "output_type": "execute_result"
    }
   ],
   "source": [
    "\n",
    "df = readtable(\"iris.csv\")"
   ]
  },
  {
   "cell_type": "code",
   "execution_count": null,
   "metadata": {},
   "outputs": [],
   "source": [
    "#### Reading With Delimiter /Separator"
   ]
  },
  {
   "cell_type": "code",
   "execution_count": 2,
   "metadata": {},
   "outputs": [
    {
     "data": {
      "text/html": [
       "<table class=\"data-frame\"><thead><tr><th></th><th>x1_24_M_technician_85711</th></tr></thead><tbody><tr><th>1</th><td>2|53|F|other|94043</td></tr><tr><th>2</th><td>3|23|M|writer|32067</td></tr><tr><th>3</th><td>4|24|M|technician|43537</td></tr><tr><th>4</th><td>5|33|F|other|15213</td></tr><tr><th>5</th><td>6|42|M|executive|98101</td></tr><tr><th>6</th><td>7|57|M|administrator|91344</td></tr><tr><th>7</th><td>8|36|M|administrator|05201</td></tr><tr><th>8</th><td>9|29|M|student|01002</td></tr><tr><th>9</th><td>10|53|M|lawyer|90703</td></tr><tr><th>10</th><td>11|39|F|other|30329</td></tr><tr><th>11</th><td>12|28|F|other|06405</td></tr><tr><th>12</th><td>13|47|M|educator|29206</td></tr><tr><th>13</th><td>14|45|M|scientist|55106</td></tr><tr><th>14</th><td>15|49|F|educator|97301</td></tr><tr><th>15</th><td>16|21|M|entertainment|10309</td></tr><tr><th>16</th><td>17|30|M|programmer|06355</td></tr><tr><th>17</th><td>18|35|F|other|37212</td></tr><tr><th>18</th><td>19|40|M|librarian|02138</td></tr><tr><th>19</th><td>20|42|F|homemaker|95660</td></tr><tr><th>20</th><td>21|26|M|writer|30068</td></tr><tr><th>21</th><td>22|25|M|writer|40206</td></tr><tr><th>22</th><td>23|30|F|artist|48197</td></tr><tr><th>23</th><td>24|21|F|artist|94533</td></tr><tr><th>24</th><td>25|39|M|engineer|55107</td></tr><tr><th>25</th><td>26|49|M|engineer|21044</td></tr><tr><th>26</th><td>27|40|F|librarian|30030</td></tr><tr><th>27</th><td>28|32|M|writer|55369</td></tr><tr><th>28</th><td>29|41|M|programmer|94043</td></tr><tr><th>29</th><td>30|7|M|student|55436</td></tr><tr><th>30</th><td>31|24|M|artist|10003</td></tr><tr><th>&vellip;</th><td>&vellip;</td></tr></tbody></table>"
      ],
      "text/plain": [
       "942×1 DataFrames.DataFrame\n",
       "│ Row │ x1_24_M_technician_85711       │\n",
       "├─────┼────────────────────────────────┤\n",
       "│ 1   │ \"2|53|F|other|94043\"           │\n",
       "│ 2   │ \"3|23|M|writer|32067\"          │\n",
       "│ 3   │ \"4|24|M|technician|43537\"      │\n",
       "│ 4   │ \"5|33|F|other|15213\"           │\n",
       "│ 5   │ \"6|42|M|executive|98101\"       │\n",
       "│ 6   │ \"7|57|M|administrator|91344\"   │\n",
       "│ 7   │ \"8|36|M|administrator|05201\"   │\n",
       "│ 8   │ \"9|29|M|student|01002\"         │\n",
       "│ 9   │ \"10|53|M|lawyer|90703\"         │\n",
       "│ 10  │ \"11|39|F|other|30329\"          │\n",
       "│ 11  │ \"12|28|F|other|06405\"          │\n",
       "⋮\n",
       "│ 931 │ \"932|58|M|educator|06437\"      │\n",
       "│ 932 │ \"933|28|M|student|48105\"       │\n",
       "│ 933 │ \"934|61|M|engineer|22902\"      │\n",
       "│ 934 │ \"935|42|M|doctor|66221\"        │\n",
       "│ 935 │ \"936|24|M|other|32789\"         │\n",
       "│ 936 │ \"937|48|M|educator|98072\"      │\n",
       "│ 937 │ \"938|38|F|technician|55038\"    │\n",
       "│ 938 │ \"939|26|F|student|33319\"       │\n",
       "│ 939 │ \"940|32|M|administrator|02215\" │\n",
       "│ 940 │ \"941|20|M|student|97229\"       │\n",
       "│ 941 │ \"942|48|F|librarian|78209\"     │\n",
       "│ 942 │ \"943|22|M|student|77841\"       │"
      ]
     },
     "execution_count": 2,
     "metadata": {},
     "output_type": "execute_result"
    }
   ],
   "source": [
    "df_delimiter = readtable(\"usersdata.txt\")"
   ]
  },
  {
   "cell_type": "code",
   "execution_count": 6,
   "metadata": {},
   "outputs": [
    {
     "data": {
      "text/html": [
       "<table class=\"data-frame\"><thead><tr><th></th><th>x1</th><th>x24</th><th>M</th><th>technician</th><th>x85711</th></tr></thead><tbody><tr><th>1</th><td>2</td><td>53</td><td>F</td><td>other</td><td>94043</td></tr><tr><th>2</th><td>3</td><td>23</td><td>M</td><td>writer</td><td>32067</td></tr><tr><th>3</th><td>4</td><td>24</td><td>M</td><td>technician</td><td>43537</td></tr><tr><th>4</th><td>5</td><td>33</td><td>F</td><td>other</td><td>15213</td></tr><tr><th>5</th><td>6</td><td>42</td><td>M</td><td>executive</td><td>98101</td></tr><tr><th>6</th><td>7</td><td>57</td><td>M</td><td>administrator</td><td>91344</td></tr><tr><th>7</th><td>8</td><td>36</td><td>M</td><td>administrator</td><td>05201</td></tr><tr><th>8</th><td>9</td><td>29</td><td>M</td><td>student</td><td>01002</td></tr><tr><th>9</th><td>10</td><td>53</td><td>M</td><td>lawyer</td><td>90703</td></tr><tr><th>10</th><td>11</td><td>39</td><td>F</td><td>other</td><td>30329</td></tr><tr><th>11</th><td>12</td><td>28</td><td>F</td><td>other</td><td>06405</td></tr><tr><th>12</th><td>13</td><td>47</td><td>M</td><td>educator</td><td>29206</td></tr><tr><th>13</th><td>14</td><td>45</td><td>M</td><td>scientist</td><td>55106</td></tr><tr><th>14</th><td>15</td><td>49</td><td>F</td><td>educator</td><td>97301</td></tr><tr><th>15</th><td>16</td><td>21</td><td>M</td><td>entertainment</td><td>10309</td></tr><tr><th>16</th><td>17</td><td>30</td><td>M</td><td>programmer</td><td>06355</td></tr><tr><th>17</th><td>18</td><td>35</td><td>F</td><td>other</td><td>37212</td></tr><tr><th>18</th><td>19</td><td>40</td><td>M</td><td>librarian</td><td>02138</td></tr><tr><th>19</th><td>20</td><td>42</td><td>F</td><td>homemaker</td><td>95660</td></tr><tr><th>20</th><td>21</td><td>26</td><td>M</td><td>writer</td><td>30068</td></tr><tr><th>21</th><td>22</td><td>25</td><td>M</td><td>writer</td><td>40206</td></tr><tr><th>22</th><td>23</td><td>30</td><td>F</td><td>artist</td><td>48197</td></tr><tr><th>23</th><td>24</td><td>21</td><td>F</td><td>artist</td><td>94533</td></tr><tr><th>24</th><td>25</td><td>39</td><td>M</td><td>engineer</td><td>55107</td></tr><tr><th>25</th><td>26</td><td>49</td><td>M</td><td>engineer</td><td>21044</td></tr><tr><th>26</th><td>27</td><td>40</td><td>F</td><td>librarian</td><td>30030</td></tr><tr><th>27</th><td>28</td><td>32</td><td>M</td><td>writer</td><td>55369</td></tr><tr><th>28</th><td>29</td><td>41</td><td>M</td><td>programmer</td><td>94043</td></tr><tr><th>29</th><td>30</td><td>7</td><td>M</td><td>student</td><td>55436</td></tr><tr><th>30</th><td>31</td><td>24</td><td>M</td><td>artist</td><td>10003</td></tr><tr><th>&vellip;</th><td>&vellip;</td><td>&vellip;</td><td>&vellip;</td><td>&vellip;</td><td>&vellip;</td></tr></tbody></table>"
      ],
      "text/plain": [
       "942×5 DataFrames.DataFrame\n",
       "│ Row │ x1  │ x24 │ M   │ technician      │ x85711  │\n",
       "├─────┼─────┼─────┼─────┼─────────────────┼─────────┤\n",
       "│ 1   │ 2   │ 53  │ \"F\" │ \"other\"         │ \"94043\" │\n",
       "│ 2   │ 3   │ 23  │ \"M\" │ \"writer\"        │ \"32067\" │\n",
       "│ 3   │ 4   │ 24  │ \"M\" │ \"technician\"    │ \"43537\" │\n",
       "│ 4   │ 5   │ 33  │ \"F\" │ \"other\"         │ \"15213\" │\n",
       "│ 5   │ 6   │ 42  │ \"M\" │ \"executive\"     │ \"98101\" │\n",
       "│ 6   │ 7   │ 57  │ \"M\" │ \"administrator\" │ \"91344\" │\n",
       "│ 7   │ 8   │ 36  │ \"M\" │ \"administrator\" │ \"05201\" │\n",
       "│ 8   │ 9   │ 29  │ \"M\" │ \"student\"       │ \"01002\" │\n",
       "│ 9   │ 10  │ 53  │ \"M\" │ \"lawyer\"        │ \"90703\" │\n",
       "│ 10  │ 11  │ 39  │ \"F\" │ \"other\"         │ \"30329\" │\n",
       "│ 11  │ 12  │ 28  │ \"F\" │ \"other\"         │ \"06405\" │\n",
       "⋮\n",
       "│ 931 │ 932 │ 58  │ \"M\" │ \"educator\"      │ \"06437\" │\n",
       "│ 932 │ 933 │ 28  │ \"M\" │ \"student\"       │ \"48105\" │\n",
       "│ 933 │ 934 │ 61  │ \"M\" │ \"engineer\"      │ \"22902\" │\n",
       "│ 934 │ 935 │ 42  │ \"M\" │ \"doctor\"        │ \"66221\" │\n",
       "│ 935 │ 936 │ 24  │ \"M\" │ \"other\"         │ \"32789\" │\n",
       "│ 936 │ 937 │ 48  │ \"M\" │ \"educator\"      │ \"98072\" │\n",
       "│ 937 │ 938 │ 38  │ \"F\" │ \"technician\"    │ \"55038\" │\n",
       "│ 938 │ 939 │ 26  │ \"F\" │ \"student\"       │ \"33319\" │\n",
       "│ 939 │ 940 │ 32  │ \"M\" │ \"administrator\" │ \"02215\" │\n",
       "│ 940 │ 941 │ 20  │ \"M\" │ \"student\"       │ \"97229\" │\n",
       "│ 941 │ 942 │ 48  │ \"F\" │ \"librarian\"     │ \"78209\" │\n",
       "│ 942 │ 943 │ 22  │ \"M\" │ \"student\"       │ \"77841\" │"
      ]
     },
     "execution_count": 6,
     "metadata": {},
     "output_type": "execute_result"
    }
   ],
   "source": [
    "df_delimiter = readtable(\"usersdata.txt\",separator='|')"
   ]
  },
  {
   "cell_type": "code",
   "execution_count": null,
   "metadata": {},
   "outputs": [],
   "source": [
    "#### Reading A From a Url \n",
    "## Requires Requests\n",
    "#using Requests"
   ]
  },
  {
   "cell_type": "code",
   "execution_count": 7,
   "metadata": {},
   "outputs": [
    {
     "data": {
      "text/plain": [
       "ResponseStream(Request(https://raw.githubusercontent.com/justmarkham/pandas-videos/master/data/chipotle.tsv, 3 headers, 0 bytes in body))"
      ]
     },
     "execution_count": 7,
     "metadata": {},
     "output_type": "execute_result"
    }
   ],
   "source": [
    "res = Requests.get_streaming(\"http://bit.ly/chiporders\")"
   ]
  },
  {
   "cell_type": "code",
   "execution_count": 8,
   "metadata": {},
   "outputs": [
    {
     "data": {
      "text/html": [
       "<table class=\"data-frame\"><thead><tr><th></th><th>order_id_quantity_item_name_choice_description_item_price</th></tr></thead><tbody><tr><th>1</th><td>1\t1\tChips and Fresh Tomato Salsa\tNULL\t$2.39</td></tr></tbody></table>"
      ],
      "text/plain": [
       "1×1 DataFrames.DataFrame\n",
       "│ Row │ order_id_quantity_item_name_choice_description_item_price │\n",
       "├─────┼───────────────────────────────────────────────────────────┤\n",
       "│ 1   │ \"1\\t1\\tChips and Fresh Tomato Salsa\\tNULL\\t\\$2.39\"                 │"
      ]
     },
     "execution_count": 8,
     "metadata": {},
     "output_type": "execute_result"
    }
   ],
   "source": [
    "df_streaming = readtable(res,nrows=1)"
   ]
  },
  {
   "cell_type": "code",
   "execution_count": null,
   "metadata": {},
   "outputs": [],
   "source": [
    "#### Reading A Selected Number of Rows"
   ]
  },
  {
   "cell_type": "code",
   "execution_count": 9,
   "metadata": {},
   "outputs": [
    {
     "data": {
      "text/html": [
       "<table class=\"data-frame\"><thead><tr><th></th><th>sepal_length</th><th>sepal_width</th><th>petal_length</th><th>petal_width</th><th>species</th></tr></thead><tbody><tr><th>1</th><td>5.1</td><td>3.5</td><td>1.4</td><td>0.2</td><td>setosa</td></tr><tr><th>2</th><td>4.9</td><td>3.0</td><td>1.4</td><td>0.2</td><td>setosa</td></tr><tr><th>3</th><td>4.7</td><td>3.2</td><td>1.3</td><td>0.2</td><td>setosa</td></tr><tr><th>4</th><td>4.6</td><td>3.1</td><td>1.5</td><td>0.2</td><td>setosa</td></tr><tr><th>5</th><td>5.0</td><td>3.6</td><td>1.4</td><td>0.2</td><td>setosa</td></tr><tr><th>6</th><td>5.4</td><td>3.9</td><td>1.7</td><td>0.4</td><td>setosa</td></tr><tr><th>7</th><td>4.6</td><td>3.4</td><td>1.4</td><td>0.3</td><td>setosa</td></tr><tr><th>8</th><td>5.0</td><td>3.4</td><td>1.5</td><td>0.2</td><td>setosa</td></tr><tr><th>9</th><td>4.4</td><td>2.9</td><td>1.4</td><td>0.2</td><td>setosa</td></tr><tr><th>10</th><td>4.9</td><td>3.1</td><td>1.5</td><td>0.1</td><td>setosa</td></tr></tbody></table>"
      ],
      "text/plain": [
       "10×5 DataFrames.DataFrame\n",
       "│ Row │ sepal_length │ sepal_width │ petal_length │ petal_width │ species  │\n",
       "├─────┼──────────────┼─────────────┼──────────────┼─────────────┼──────────┤\n",
       "│ 1   │ 5.1          │ 3.5         │ 1.4          │ 0.2         │ \"setosa\" │\n",
       "│ 2   │ 4.9          │ 3.0         │ 1.4          │ 0.2         │ \"setosa\" │\n",
       "│ 3   │ 4.7          │ 3.2         │ 1.3          │ 0.2         │ \"setosa\" │\n",
       "│ 4   │ 4.6          │ 3.1         │ 1.5          │ 0.2         │ \"setosa\" │\n",
       "│ 5   │ 5.0          │ 3.6         │ 1.4          │ 0.2         │ \"setosa\" │\n",
       "│ 6   │ 5.4          │ 3.9         │ 1.7          │ 0.4         │ \"setosa\" │\n",
       "│ 7   │ 4.6          │ 3.4         │ 1.4          │ 0.3         │ \"setosa\" │\n",
       "│ 8   │ 5.0          │ 3.4         │ 1.5          │ 0.2         │ \"setosa\" │\n",
       "│ 9   │ 4.4          │ 2.9         │ 1.4          │ 0.2         │ \"setosa\" │\n",
       "│ 10  │ 4.9          │ 3.1         │ 1.5          │ 0.1         │ \"setosa\" │"
      ]
     },
     "execution_count": 9,
     "metadata": {},
     "output_type": "execute_result"
    }
   ],
   "source": [
    "df_row_10 = readtable(\"iris.csv\",nrows=10)"
   ]
  },
  {
   "cell_type": "code",
   "execution_count": null,
   "metadata": {},
   "outputs": [],
   "source": [
    "# Reading Files with Missing Values\n",
    "df_missing = readtable(\"data.csv\",nastrings=[\"NA\", \"na\", \"n/a\", \"missing\"])"
   ]
  },
  {
   "cell_type": "code",
   "execution_count": null,
   "metadata": {},
   "outputs": [],
   "source": []
  },
  {
   "cell_type": "markdown",
   "metadata": {},
   "source": [
    "#### Basics\n",
    "+ head,tail,describe,size,length"
   ]
  },
  {
   "cell_type": "code",
   "execution_count": 10,
   "metadata": {},
   "outputs": [
    {
     "data": {
      "text/html": [
       "<table class=\"data-frame\"><thead><tr><th></th><th>sepal_length</th><th>sepal_width</th><th>petal_length</th><th>petal_width</th><th>species</th></tr></thead><tbody><tr><th>1</th><td>5.1</td><td>3.5</td><td>1.4</td><td>0.2</td><td>setosa</td></tr><tr><th>2</th><td>4.9</td><td>3.0</td><td>1.4</td><td>0.2</td><td>setosa</td></tr><tr><th>3</th><td>4.7</td><td>3.2</td><td>1.3</td><td>0.2</td><td>setosa</td></tr><tr><th>4</th><td>4.6</td><td>3.1</td><td>1.5</td><td>0.2</td><td>setosa</td></tr><tr><th>5</th><td>5.0</td><td>3.6</td><td>1.4</td><td>0.2</td><td>setosa</td></tr><tr><th>6</th><td>5.4</td><td>3.9</td><td>1.7</td><td>0.4</td><td>setosa</td></tr></tbody></table>"
      ],
      "text/plain": [
       "6×5 DataFrames.DataFrame\n",
       "│ Row │ sepal_length │ sepal_width │ petal_length │ petal_width │ species  │\n",
       "├─────┼──────────────┼─────────────┼──────────────┼─────────────┼──────────┤\n",
       "│ 1   │ 5.1          │ 3.5         │ 1.4          │ 0.2         │ \"setosa\" │\n",
       "│ 2   │ 4.9          │ 3.0         │ 1.4          │ 0.2         │ \"setosa\" │\n",
       "│ 3   │ 4.7          │ 3.2         │ 1.3          │ 0.2         │ \"setosa\" │\n",
       "│ 4   │ 4.6          │ 3.1         │ 1.5          │ 0.2         │ \"setosa\" │\n",
       "│ 5   │ 5.0          │ 3.6         │ 1.4          │ 0.2         │ \"setosa\" │\n",
       "│ 6   │ 5.4          │ 3.9         │ 1.7          │ 0.4         │ \"setosa\" │"
      ]
     },
     "execution_count": 10,
     "metadata": {},
     "output_type": "execute_result"
    }
   ],
   "source": [
    "# Prints the first 5 rows in the dataframe\n",
    "head(df)"
   ]
  },
  {
   "cell_type": "code",
   "execution_count": 11,
   "metadata": {},
   "outputs": [
    {
     "data": {
      "text/html": [
       "<table class=\"data-frame\"><thead><tr><th></th><th>sepal_length</th><th>sepal_width</th><th>petal_length</th><th>petal_width</th><th>species</th></tr></thead><tbody><tr><th>1</th><td>5.1</td><td>3.5</td><td>1.4</td><td>0.2</td><td>setosa</td></tr><tr><th>2</th><td>4.9</td><td>3.0</td><td>1.4</td><td>0.2</td><td>setosa</td></tr><tr><th>3</th><td>4.7</td><td>3.2</td><td>1.3</td><td>0.2</td><td>setosa</td></tr></tbody></table>"
      ],
      "text/plain": [
       "3×5 DataFrames.DataFrame\n",
       "│ Row │ sepal_length │ sepal_width │ petal_length │ petal_width │ species  │\n",
       "├─────┼──────────────┼─────────────┼──────────────┼─────────────┼──────────┤\n",
       "│ 1   │ 5.1          │ 3.5         │ 1.4          │ 0.2         │ \"setosa\" │\n",
       "│ 2   │ 4.9          │ 3.0         │ 1.4          │ 0.2         │ \"setosa\" │\n",
       "│ 3   │ 4.7          │ 3.2         │ 1.3          │ 0.2         │ \"setosa\" │"
      ]
     },
     "execution_count": 11,
     "metadata": {},
     "output_type": "execute_result"
    }
   ],
   "source": [
    "head(df,3)"
   ]
  },
  {
   "cell_type": "code",
   "execution_count": 12,
   "metadata": {},
   "outputs": [
    {
     "data": {
      "text/html": [
       "<table class=\"data-frame\"><thead><tr><th></th><th>sepal_length</th><th>sepal_width</th><th>petal_length</th><th>petal_width</th><th>species</th></tr></thead><tbody><tr><th>1</th><td>6.7</td><td>3.3</td><td>5.7</td><td>2.5</td><td>virginica</td></tr><tr><th>2</th><td>6.7</td><td>3.0</td><td>5.2</td><td>2.3</td><td>virginica</td></tr><tr><th>3</th><td>6.3</td><td>2.5</td><td>5.0</td><td>1.9</td><td>virginica</td></tr><tr><th>4</th><td>6.5</td><td>3.0</td><td>5.2</td><td>2.0</td><td>virginica</td></tr><tr><th>5</th><td>6.2</td><td>3.4</td><td>5.4</td><td>2.3</td><td>virginica</td></tr><tr><th>6</th><td>5.9</td><td>3.0</td><td>5.1</td><td>1.8</td><td>virginica</td></tr></tbody></table>"
      ],
      "text/plain": [
       "6×5 DataFrames.DataFrame\n",
       "│ Row │ sepal_length │ sepal_width │ petal_length │ petal_width │ species     │\n",
       "├─────┼──────────────┼─────────────┼──────────────┼─────────────┼─────────────┤\n",
       "│ 1   │ 6.7          │ 3.3         │ 5.7          │ 2.5         │ \"virginica\" │\n",
       "│ 2   │ 6.7          │ 3.0         │ 5.2          │ 2.3         │ \"virginica\" │\n",
       "│ 3   │ 6.3          │ 2.5         │ 5.0          │ 1.9         │ \"virginica\" │\n",
       "│ 4   │ 6.5          │ 3.0         │ 5.2          │ 2.0         │ \"virginica\" │\n",
       "│ 5   │ 6.2          │ 3.4         │ 5.4          │ 2.3         │ \"virginica\" │\n",
       "│ 6   │ 5.9          │ 3.0         │ 5.1          │ 1.8         │ \"virginica\" │"
      ]
     },
     "execution_count": 12,
     "metadata": {},
     "output_type": "execute_result"
    }
   ],
   "source": [
    "# Prints the last rows in the dataframe\n",
    "tail(df)"
   ]
  },
  {
   "cell_type": "code",
   "execution_count": 13,
   "metadata": {},
   "outputs": [
    {
     "data": {
      "text/html": [
       "<table class=\"data-frame\"><thead><tr><th></th><th>sepal_length</th><th>sepal_width</th><th>petal_length</th><th>petal_width</th><th>species</th></tr></thead><tbody><tr><th>1</th><td>6.7</td><td>3.1</td><td>5.6</td><td>2.4</td><td>virginica</td></tr><tr><th>2</th><td>6.9</td><td>3.1</td><td>5.1</td><td>2.3</td><td>virginica</td></tr><tr><th>3</th><td>5.8</td><td>2.7</td><td>5.1</td><td>1.9</td><td>virginica</td></tr><tr><th>4</th><td>6.8</td><td>3.2</td><td>5.9</td><td>2.3</td><td>virginica</td></tr><tr><th>5</th><td>6.7</td><td>3.3</td><td>5.7</td><td>2.5</td><td>virginica</td></tr><tr><th>6</th><td>6.7</td><td>3.0</td><td>5.2</td><td>2.3</td><td>virginica</td></tr><tr><th>7</th><td>6.3</td><td>2.5</td><td>5.0</td><td>1.9</td><td>virginica</td></tr><tr><th>8</th><td>6.5</td><td>3.0</td><td>5.2</td><td>2.0</td><td>virginica</td></tr><tr><th>9</th><td>6.2</td><td>3.4</td><td>5.4</td><td>2.3</td><td>virginica</td></tr><tr><th>10</th><td>5.9</td><td>3.0</td><td>5.1</td><td>1.8</td><td>virginica</td></tr></tbody></table>"
      ],
      "text/plain": [
       "10×5 DataFrames.DataFrame\n",
       "│ Row │ sepal_length │ sepal_width │ petal_length │ petal_width │ species     │\n",
       "├─────┼──────────────┼─────────────┼──────────────┼─────────────┼─────────────┤\n",
       "│ 1   │ 6.7          │ 3.1         │ 5.6          │ 2.4         │ \"virginica\" │\n",
       "│ 2   │ 6.9          │ 3.1         │ 5.1          │ 2.3         │ \"virginica\" │\n",
       "│ 3   │ 5.8          │ 2.7         │ 5.1          │ 1.9         │ \"virginica\" │\n",
       "│ 4   │ 6.8          │ 3.2         │ 5.9          │ 2.3         │ \"virginica\" │\n",
       "│ 5   │ 6.7          │ 3.3         │ 5.7          │ 2.5         │ \"virginica\" │\n",
       "│ 6   │ 6.7          │ 3.0         │ 5.2          │ 2.3         │ \"virginica\" │\n",
       "│ 7   │ 6.3          │ 2.5         │ 5.0          │ 1.9         │ \"virginica\" │\n",
       "│ 8   │ 6.5          │ 3.0         │ 5.2          │ 2.0         │ \"virginica\" │\n",
       "│ 9   │ 6.2          │ 3.4         │ 5.4          │ 2.3         │ \"virginica\" │\n",
       "│ 10  │ 5.9          │ 3.0         │ 5.1          │ 1.8         │ \"virginica\" │"
      ]
     },
     "execution_count": 13,
     "metadata": {},
     "output_type": "execute_result"
    }
   ],
   "source": [
    "tail(df,10)"
   ]
  },
  {
   "cell_type": "code",
   "execution_count": 14,
   "metadata": {},
   "outputs": [
    {
     "name": "stdout",
     "output_type": "stream",
     "text": [
      "sepal_length\n",
      "Summary Stats:\n",
      "Mean:           5.843333\n",
      "Minimum:        4.300000\n",
      "1st Quartile:   5.100000\n",
      "Median:         5.800000\n",
      "3rd Quartile:   6.400000\n",
      "Maximum:        7.900000\n",
      "Length:         150\n",
      "Type:           Float64\n",
      "Number Missing: 0\n",
      "% Missing:      0.000000\n",
      "\n",
      "sepal_width\n",
      "Summary Stats:\n",
      "Mean:           3.054000\n",
      "Minimum:        2.000000\n",
      "1st Quartile:   2.800000\n",
      "Median:         3.000000\n",
      "3rd Quartile:   3.300000\n",
      "Maximum:        4.400000\n",
      "Length:         150\n",
      "Type:           Float64\n",
      "Number Missing: 0\n",
      "% Missing:      0.000000\n",
      "\n",
      "petal_length\n",
      "Summary Stats:\n",
      "Mean:           3.758667\n",
      "Minimum:        1.000000\n",
      "1st Quartile:   1.600000\n",
      "Median:         4.350000\n",
      "3rd Quartile:   5.100000\n",
      "Maximum:        6.900000\n",
      "Length:         150\n",
      "Type:           Float64\n",
      "Number Missing: 0\n",
      "% Missing:      0.000000\n",
      "\n",
      "petal_width\n",
      "Summary Stats:\n",
      "Mean:           1.198667\n",
      "Minimum:        0.100000\n",
      "1st Quartile:   0.300000\n",
      "Median:         1.300000\n",
      "3rd Quartile:   1.800000\n",
      "Maximum:        2.500000\n",
      "Length:         150\n",
      "Type:           Float64\n",
      "Number Missing: 0\n",
      "% Missing:      0.000000\n",
      "\n",
      "species\n",
      "Summary Stats:\n",
      "Length:         150\n",
      "Type:           String\n",
      "Number Unique:  3\n",
      "Number Missing: 0\n",
      "% Missing:      0.000000\n",
      "\n"
     ]
    }
   ],
   "source": [
    "# Describe and gives a summary of the dataframe\n",
    "describe(df)"
   ]
  },
  {
   "cell_type": "code",
   "execution_count": 15,
   "metadata": {},
   "outputs": [
    {
     "data": {
      "text/plain": [
       "(150, 5)"
      ]
     },
     "execution_count": 15,
     "metadata": {},
     "output_type": "execute_result"
    }
   ],
   "source": [
    "# Gives the size of the dataframe ie number of columns and rows\n",
    "size(df)"
   ]
  },
  {
   "cell_type": "code",
   "execution_count": 16,
   "metadata": {},
   "outputs": [
    {
     "data": {
      "text/plain": [
       "5"
      ]
     },
     "execution_count": 16,
     "metadata": {},
     "output_type": "execute_result"
    }
   ],
   "source": [
    "# length of the columns\n",
    "length(df)"
   ]
  },
  {
   "cell_type": "code",
   "execution_count": 17,
   "metadata": {},
   "outputs": [
    {
     "data": {
      "text/plain": [
       "150"
      ]
     },
     "execution_count": 17,
     "metadata": {},
     "output_type": "execute_result"
    }
   ],
   "source": [
    "# number of rows\n",
    "nrow(df)"
   ]
  },
  {
   "cell_type": "code",
   "execution_count": 18,
   "metadata": {},
   "outputs": [
    {
     "data": {
      "text/plain": [
       "5"
      ]
     },
     "execution_count": 18,
     "metadata": {},
     "output_type": "execute_result"
    }
   ],
   "source": [
    "# number of columns\n",
    "ncol(df)"
   ]
  },
  {
   "cell_type": "markdown",
   "metadata": {},
   "source": [
    "#### Working with Columns"
   ]
  },
  {
   "cell_type": "code",
   "execution_count": 19,
   "metadata": {},
   "outputs": [
    {
     "data": {
      "text/plain": [
       "5-element Array{Symbol,1}:\n",
       " :sepal_length\n",
       " :sepal_width \n",
       " :petal_length\n",
       " :petal_width \n",
       " :species     "
      ]
     },
     "execution_count": 19,
     "metadata": {},
     "output_type": "execute_result"
    }
   ],
   "source": [
    "# Show the names of each column /column header\n",
    "names(df)"
   ]
  },
  {
   "cell_type": "code",
   "execution_count": 20,
   "metadata": {},
   "outputs": [
    {
     "name": "stdout",
     "output_type": "stream",
     "text": [
      "150×5 DataFrames.DataFrame\n",
      "│ Col # │ Name         │ Eltype  │ Missing │\n",
      "├───────┼──────────────┼─────────┼─────────┤\n",
      "│ 1     │ sepal_length │ Float64 │ 0       │\n",
      "│ 2     │ sepal_width  │ Float64 │ 0       │\n",
      "│ 3     │ petal_length │ Float64 │ 0       │\n",
      "│ 4     │ petal_width  │ Float64 │ 0       │\n",
      "│ 5     │ species      │ String  │ 0       │"
     ]
    }
   ],
   "source": [
    "# Show the type of data in each column\n",
    "# df.info() in python\n",
    "showcols(df)"
   ]
  },
  {
   "cell_type": "code",
   "execution_count": 21,
   "metadata": {},
   "outputs": [
    {
     "data": {
      "text/plain": [
       "4-element Array{Symbol,1}:\n",
       " :sepal_width \n",
       " :petal_length\n",
       " :petal_width \n",
       " :species     "
      ]
     },
     "execution_count": 21,
     "metadata": {},
     "output_type": "execute_result"
    }
   ],
   "source": [
    "# Selecting Specific Column Header\n",
    "# df.columns[2:5] in python\n",
    "names(df[2:5])"
   ]
  },
  {
   "cell_type": "code",
   "execution_count": 22,
   "metadata": {},
   "outputs": [
    {
     "data": {
      "text/plain": [
       "\"SYMBOL[:SEPAL_LENGTH, :SEPAL_WIDTH, :PETAL_LENGTH, :PETAL_WIDTH, :SPECIES]\""
      ]
     },
     "execution_count": 22,
     "metadata": {},
     "output_type": "execute_result"
    }
   ],
   "source": [
    "# Make the header name uppercase\n",
    "# py=> df.columns.str.upper()\n",
    "uppercase(string(names(df)))"
   ]
  },
  {
   "cell_type": "code",
   "execution_count": null,
   "metadata": {},
   "outputs": [],
   "source": [
    "#names!(df,[:First,:Second])\n"
   ]
  },
  {
   "cell_type": "markdown",
   "metadata": {},
   "source": [
    "#### Selecting Columns by Name or Symbol\n"
   ]
  },
  {
   "cell_type": "code",
   "execution_count": 23,
   "metadata": {},
   "outputs": [
    {
     "data": {
      "text/plain": [
       "150-element DataArrays.DataArray{Float64,1}:\n",
       " 5.1\n",
       " 4.9\n",
       " 4.7\n",
       " 4.6\n",
       " 5.0\n",
       " 5.4\n",
       " 4.6\n",
       " 5.0\n",
       " 4.4\n",
       " 4.9\n",
       " 5.4\n",
       " 4.8\n",
       " 4.8\n",
       " ⋮  \n",
       " 6.0\n",
       " 6.9\n",
       " 6.7\n",
       " 6.9\n",
       " 5.8\n",
       " 6.8\n",
       " 6.7\n",
       " 6.7\n",
       " 6.3\n",
       " 6.5\n",
       " 6.2\n",
       " 5.9"
      ]
     },
     "execution_count": 23,
     "metadata": {},
     "output_type": "execute_result"
    }
   ],
   "source": [
    "# Syntax  => DataFrame[:column_name]\n",
    "df[:sepal_length]\n"
   ]
  },
  {
   "cell_type": "code",
   "execution_count": 24,
   "metadata": {},
   "outputs": [
    {
     "data": {
      "text/plain": [
       "150-element DataArrays.DataArray{Float64,1}:\n",
       " 5.1\n",
       " 4.9\n",
       " 4.7\n",
       " 4.6\n",
       " 5.0\n",
       " 5.4\n",
       " 4.6\n",
       " 5.0\n",
       " 4.4\n",
       " 4.9\n",
       " 5.4\n",
       " 4.8\n",
       " 4.8\n",
       " ⋮  \n",
       " 6.0\n",
       " 6.9\n",
       " 6.7\n",
       " 6.9\n",
       " 5.8\n",
       " 6.8\n",
       " 6.7\n",
       " 6.7\n",
       " 6.3\n",
       " 6.5\n",
       " 6.2\n",
       " 5.9"
      ]
     },
     "execution_count": 24,
     "metadata": {},
     "output_type": "execute_result"
    }
   ],
   "source": [
    "df[Symbol(\"sepal_length\")]\n"
   ]
  },
  {
   "cell_type": "code",
   "execution_count": 26,
   "metadata": {},
   "outputs": [
    {
     "data": {
      "text/plain": [
       "150-element DataArrays.DataArray{Float64,1}:\n",
       " 1.4\n",
       " 1.4\n",
       " 1.3\n",
       " 1.5\n",
       " 1.4\n",
       " 1.7\n",
       " 1.4\n",
       " 1.5\n",
       " 1.4\n",
       " 1.5\n",
       " 1.5\n",
       " 1.6\n",
       " 1.4\n",
       " ⋮  \n",
       " 4.8\n",
       " 5.4\n",
       " 5.6\n",
       " 5.1\n",
       " 5.1\n",
       " 5.9\n",
       " 5.7\n",
       " 5.2\n",
       " 5.0\n",
       " 5.2\n",
       " 5.4\n",
       " 5.1"
      ]
     },
     "execution_count": 26,
     "metadata": {},
     "output_type": "execute_result"
    }
   ],
   "source": [
    "# Syntax  => DataFrame[column_number_or_index]\n",
    "df[3]"
   ]
  },
  {
   "cell_type": "markdown",
   "metadata": {},
   "source": [
    "#### Selecting Multiple Columns\n",
    "#### Range Selection"
   ]
  },
  {
   "cell_type": "code",
   "execution_count": 27,
   "metadata": {},
   "outputs": [
    {
     "data": {
      "text/html": [
       "<table class=\"data-frame\"><thead><tr><th></th><th>sepal_length</th><th>petal_length</th></tr></thead><tbody><tr><th>1</th><td>5.1</td><td>1.4</td></tr><tr><th>2</th><td>4.9</td><td>1.4</td></tr><tr><th>3</th><td>4.7</td><td>1.3</td></tr><tr><th>4</th><td>4.6</td><td>1.5</td></tr><tr><th>5</th><td>5.0</td><td>1.4</td></tr><tr><th>6</th><td>5.4</td><td>1.7</td></tr><tr><th>7</th><td>4.6</td><td>1.4</td></tr><tr><th>8</th><td>5.0</td><td>1.5</td></tr><tr><th>9</th><td>4.4</td><td>1.4</td></tr><tr><th>10</th><td>4.9</td><td>1.5</td></tr><tr><th>11</th><td>5.4</td><td>1.5</td></tr><tr><th>12</th><td>4.8</td><td>1.6</td></tr><tr><th>13</th><td>4.8</td><td>1.4</td></tr><tr><th>14</th><td>4.3</td><td>1.1</td></tr><tr><th>15</th><td>5.8</td><td>1.2</td></tr><tr><th>16</th><td>5.7</td><td>1.5</td></tr><tr><th>17</th><td>5.4</td><td>1.3</td></tr><tr><th>18</th><td>5.1</td><td>1.4</td></tr><tr><th>19</th><td>5.7</td><td>1.7</td></tr><tr><th>20</th><td>5.1</td><td>1.5</td></tr><tr><th>21</th><td>5.4</td><td>1.7</td></tr><tr><th>22</th><td>5.1</td><td>1.5</td></tr><tr><th>23</th><td>4.6</td><td>1.0</td></tr><tr><th>24</th><td>5.1</td><td>1.7</td></tr><tr><th>25</th><td>4.8</td><td>1.9</td></tr><tr><th>26</th><td>5.0</td><td>1.6</td></tr><tr><th>27</th><td>5.0</td><td>1.6</td></tr><tr><th>28</th><td>5.2</td><td>1.5</td></tr><tr><th>29</th><td>5.2</td><td>1.4</td></tr><tr><th>30</th><td>4.7</td><td>1.6</td></tr><tr><th>&vellip;</th><td>&vellip;</td><td>&vellip;</td></tr></tbody></table>"
      ],
      "text/plain": [
       "150×2 DataFrames.DataFrame\n",
       "│ Row │ sepal_length │ petal_length │\n",
       "├─────┼──────────────┼──────────────┤\n",
       "│ 1   │ 5.1          │ 1.4          │\n",
       "│ 2   │ 4.9          │ 1.4          │\n",
       "│ 3   │ 4.7          │ 1.3          │\n",
       "│ 4   │ 4.6          │ 1.5          │\n",
       "│ 5   │ 5.0          │ 1.4          │\n",
       "│ 6   │ 5.4          │ 1.7          │\n",
       "│ 7   │ 4.6          │ 1.4          │\n",
       "│ 8   │ 5.0          │ 1.5          │\n",
       "│ 9   │ 4.4          │ 1.4          │\n",
       "│ 10  │ 4.9          │ 1.5          │\n",
       "│ 11  │ 5.4          │ 1.5          │\n",
       "⋮\n",
       "│ 139 │ 6.0          │ 4.8          │\n",
       "│ 140 │ 6.9          │ 5.4          │\n",
       "│ 141 │ 6.7          │ 5.6          │\n",
       "│ 142 │ 6.9          │ 5.1          │\n",
       "│ 143 │ 5.8          │ 5.1          │\n",
       "│ 144 │ 6.8          │ 5.9          │\n",
       "│ 145 │ 6.7          │ 5.7          │\n",
       "│ 146 │ 6.7          │ 5.2          │\n",
       "│ 147 │ 6.3          │ 5.0          │\n",
       "│ 148 │ 6.5          │ 5.2          │\n",
       "│ 149 │ 6.2          │ 5.4          │\n",
       "│ 150 │ 5.9          │ 5.1          │"
      ]
     },
     "execution_count": 27,
     "metadata": {},
     "output_type": "execute_result"
    }
   ],
   "source": [
    "# Syntax  => DataFrame[[:column_nameA,:column_nameB]]\n",
    "# Syntax  => DataFrame[column_number1:column_number4]\n",
    "df[[:sepal_length,:petal_length]]\n"
   ]
  },
  {
   "cell_type": "code",
   "execution_count": 29,
   "metadata": {},
   "outputs": [
    {
     "data": {
      "text/html": [
       "<table class=\"data-frame\"><thead><tr><th></th><th>sepal_width</th><th>petal_length</th><th>petal_width</th></tr></thead><tbody><tr><th>1</th><td>3.5</td><td>1.4</td><td>0.2</td></tr><tr><th>2</th><td>3.0</td><td>1.4</td><td>0.2</td></tr><tr><th>3</th><td>3.2</td><td>1.3</td><td>0.2</td></tr><tr><th>4</th><td>3.1</td><td>1.5</td><td>0.2</td></tr><tr><th>5</th><td>3.6</td><td>1.4</td><td>0.2</td></tr><tr><th>6</th><td>3.9</td><td>1.7</td><td>0.4</td></tr><tr><th>7</th><td>3.4</td><td>1.4</td><td>0.3</td></tr><tr><th>8</th><td>3.4</td><td>1.5</td><td>0.2</td></tr><tr><th>9</th><td>2.9</td><td>1.4</td><td>0.2</td></tr><tr><th>10</th><td>3.1</td><td>1.5</td><td>0.1</td></tr><tr><th>11</th><td>3.7</td><td>1.5</td><td>0.2</td></tr><tr><th>12</th><td>3.4</td><td>1.6</td><td>0.2</td></tr><tr><th>13</th><td>3.0</td><td>1.4</td><td>0.1</td></tr><tr><th>14</th><td>3.0</td><td>1.1</td><td>0.1</td></tr><tr><th>15</th><td>4.0</td><td>1.2</td><td>0.2</td></tr><tr><th>16</th><td>4.4</td><td>1.5</td><td>0.4</td></tr><tr><th>17</th><td>3.9</td><td>1.3</td><td>0.4</td></tr><tr><th>18</th><td>3.5</td><td>1.4</td><td>0.3</td></tr><tr><th>19</th><td>3.8</td><td>1.7</td><td>0.3</td></tr><tr><th>20</th><td>3.8</td><td>1.5</td><td>0.3</td></tr><tr><th>21</th><td>3.4</td><td>1.7</td><td>0.2</td></tr><tr><th>22</th><td>3.7</td><td>1.5</td><td>0.4</td></tr><tr><th>23</th><td>3.6</td><td>1.0</td><td>0.2</td></tr><tr><th>24</th><td>3.3</td><td>1.7</td><td>0.5</td></tr><tr><th>25</th><td>3.4</td><td>1.9</td><td>0.2</td></tr><tr><th>26</th><td>3.0</td><td>1.6</td><td>0.2</td></tr><tr><th>27</th><td>3.4</td><td>1.6</td><td>0.4</td></tr><tr><th>28</th><td>3.5</td><td>1.5</td><td>0.2</td></tr><tr><th>29</th><td>3.4</td><td>1.4</td><td>0.2</td></tr><tr><th>30</th><td>3.2</td><td>1.6</td><td>0.2</td></tr><tr><th>&vellip;</th><td>&vellip;</td><td>&vellip;</td><td>&vellip;</td></tr></tbody></table>"
      ],
      "text/plain": [
       "150×3 DataFrames.DataFrame\n",
       "│ Row │ sepal_width │ petal_length │ petal_width │\n",
       "├─────┼─────────────┼──────────────┼─────────────┤\n",
       "│ 1   │ 3.5         │ 1.4          │ 0.2         │\n",
       "│ 2   │ 3.0         │ 1.4          │ 0.2         │\n",
       "│ 3   │ 3.2         │ 1.3          │ 0.2         │\n",
       "│ 4   │ 3.1         │ 1.5          │ 0.2         │\n",
       "│ 5   │ 3.6         │ 1.4          │ 0.2         │\n",
       "│ 6   │ 3.9         │ 1.7          │ 0.4         │\n",
       "│ 7   │ 3.4         │ 1.4          │ 0.3         │\n",
       "│ 8   │ 3.4         │ 1.5          │ 0.2         │\n",
       "│ 9   │ 2.9         │ 1.4          │ 0.2         │\n",
       "│ 10  │ 3.1         │ 1.5          │ 0.1         │\n",
       "│ 11  │ 3.7         │ 1.5          │ 0.2         │\n",
       "⋮\n",
       "│ 139 │ 3.0         │ 4.8          │ 1.8         │\n",
       "│ 140 │ 3.1         │ 5.4          │ 2.1         │\n",
       "│ 141 │ 3.1         │ 5.6          │ 2.4         │\n",
       "│ 142 │ 3.1         │ 5.1          │ 2.3         │\n",
       "│ 143 │ 2.7         │ 5.1          │ 1.9         │\n",
       "│ 144 │ 3.2         │ 5.9          │ 2.3         │\n",
       "│ 145 │ 3.3         │ 5.7          │ 2.5         │\n",
       "│ 146 │ 3.0         │ 5.2          │ 2.3         │\n",
       "│ 147 │ 2.5         │ 5.0          │ 1.9         │\n",
       "│ 148 │ 3.0         │ 5.2          │ 2.0         │\n",
       "│ 149 │ 3.4         │ 5.4          │ 2.3         │\n",
       "│ 150 │ 3.0         │ 5.1          │ 1.8         │"
      ]
     },
     "execution_count": 29,
     "metadata": {},
     "output_type": "execute_result"
    }
   ],
   "source": [
    "df[2:4]"
   ]
  },
  {
   "cell_type": "code",
   "execution_count": 30,
   "metadata": {},
   "outputs": [
    {
     "data": {
      "text/html": [
       "<table class=\"data-frame\"><thead><tr><th></th><th>sepal_length</th><th>petal_length</th></tr></thead><tbody><tr><th>1</th><td>5.1</td><td>1.4</td></tr><tr><th>2</th><td>4.9</td><td>1.4</td></tr><tr><th>3</th><td>4.7</td><td>1.3</td></tr><tr><th>4</th><td>4.6</td><td>1.5</td></tr><tr><th>5</th><td>5.0</td><td>1.4</td></tr><tr><th>6</th><td>5.4</td><td>1.7</td></tr><tr><th>7</th><td>4.6</td><td>1.4</td></tr><tr><th>8</th><td>5.0</td><td>1.5</td></tr><tr><th>9</th><td>4.4</td><td>1.4</td></tr><tr><th>10</th><td>4.9</td><td>1.5</td></tr><tr><th>11</th><td>5.4</td><td>1.5</td></tr><tr><th>12</th><td>4.8</td><td>1.6</td></tr><tr><th>13</th><td>4.8</td><td>1.4</td></tr><tr><th>14</th><td>4.3</td><td>1.1</td></tr><tr><th>15</th><td>5.8</td><td>1.2</td></tr><tr><th>16</th><td>5.7</td><td>1.5</td></tr><tr><th>17</th><td>5.4</td><td>1.3</td></tr><tr><th>18</th><td>5.1</td><td>1.4</td></tr><tr><th>19</th><td>5.7</td><td>1.7</td></tr><tr><th>20</th><td>5.1</td><td>1.5</td></tr><tr><th>21</th><td>5.4</td><td>1.7</td></tr><tr><th>22</th><td>5.1</td><td>1.5</td></tr><tr><th>23</th><td>4.6</td><td>1.0</td></tr><tr><th>24</th><td>5.1</td><td>1.7</td></tr><tr><th>25</th><td>4.8</td><td>1.9</td></tr><tr><th>26</th><td>5.0</td><td>1.6</td></tr><tr><th>27</th><td>5.0</td><td>1.6</td></tr><tr><th>28</th><td>5.2</td><td>1.5</td></tr><tr><th>29</th><td>5.2</td><td>1.4</td></tr><tr><th>30</th><td>4.7</td><td>1.6</td></tr><tr><th>&vellip;</th><td>&vellip;</td><td>&vellip;</td></tr></tbody></table>"
      ],
      "text/plain": [
       "150×2 DataFrames.DataFrame\n",
       "│ Row │ sepal_length │ petal_length │\n",
       "├─────┼──────────────┼──────────────┤\n",
       "│ 1   │ 5.1          │ 1.4          │\n",
       "│ 2   │ 4.9          │ 1.4          │\n",
       "│ 3   │ 4.7          │ 1.3          │\n",
       "│ 4   │ 4.6          │ 1.5          │\n",
       "│ 5   │ 5.0          │ 1.4          │\n",
       "│ 6   │ 5.4          │ 1.7          │\n",
       "│ 7   │ 4.6          │ 1.4          │\n",
       "│ 8   │ 5.0          │ 1.5          │\n",
       "│ 9   │ 4.4          │ 1.4          │\n",
       "│ 10  │ 4.9          │ 1.5          │\n",
       "│ 11  │ 5.4          │ 1.5          │\n",
       "⋮\n",
       "│ 139 │ 6.0          │ 4.8          │\n",
       "│ 140 │ 6.9          │ 5.4          │\n",
       "│ 141 │ 6.7          │ 5.6          │\n",
       "│ 142 │ 6.9          │ 5.1          │\n",
       "│ 143 │ 5.8          │ 5.1          │\n",
       "│ 144 │ 6.8          │ 5.9          │\n",
       "│ 145 │ 6.7          │ 5.7          │\n",
       "│ 146 │ 6.7          │ 5.2          │\n",
       "│ 147 │ 6.3          │ 5.0          │\n",
       "│ 148 │ 6.5          │ 5.2          │\n",
       "│ 149 │ 6.2          │ 5.4          │\n",
       "│ 150 │ 5.9          │ 5.1          │"
      ]
     },
     "execution_count": 30,
     "metadata": {},
     "output_type": "execute_result"
    }
   ],
   "source": [
    "# Syntax => DataFrame[row,column]\n",
    "# Select All Columns of Sepal...\n",
    "df[:,[:sepal_length,:petal_length]]"
   ]
  },
  {
   "cell_type": "code",
   "execution_count": null,
   "metadata": {},
   "outputs": [],
   "source": []
  },
  {
   "cell_type": "code",
   "execution_count": null,
   "metadata": {},
   "outputs": [],
   "source": []
  },
  {
   "cell_type": "markdown",
   "metadata": {},
   "source": [
    "#### Working On Rows"
   ]
  },
  {
   "cell_type": "code",
   "execution_count": 31,
   "metadata": {},
   "outputs": [
    {
     "data": {
      "text/plain": [
       "150"
      ]
     },
     "execution_count": 31,
     "metadata": {},
     "output_type": "execute_result"
    }
   ],
   "source": [
    "# Number of rows\n",
    "nrow(df)"
   ]
  },
  {
   "cell_type": "code",
   "execution_count": 33,
   "metadata": {},
   "outputs": [
    {
     "data": {
      "text/html": [
       "<table class=\"data-frame\"><thead><tr><th></th><th>sepal_length</th><th>sepal_width</th><th>petal_length</th><th>petal_width</th><th>species</th></tr></thead><tbody><tr><th>1</th><td>4.7</td><td>3.2</td><td>1.3</td><td>0.2</td><td>setosa</td></tr></tbody></table>"
      ],
      "text/plain": [
       "1×5 DataFrames.DataFrame\n",
       "│ Row │ sepal_length │ sepal_width │ petal_length │ petal_width │ species  │\n",
       "├─────┼──────────────┼─────────────┼──────────────┼─────────────┼──────────┤\n",
       "│ 1   │ 4.7          │ 3.2         │ 1.3          │ 0.2         │ \"setosa\" │"
      ]
     },
     "execution_count": 33,
     "metadata": {},
     "output_type": "execute_result"
    }
   ],
   "source": [
    "# Selecting a Row \n",
    "# Select row 2 with all it columns\n",
    "df[3,:]"
   ]
  },
  {
   "cell_type": "code",
   "execution_count": 35,
   "metadata": {},
   "outputs": [
    {
     "data": {
      "text/plain": [
       "1.3"
      ]
     },
     "execution_count": 35,
     "metadata": {},
     "output_type": "execute_result"
    }
   ],
   "source": [
    "# Select  row of a specific column\n",
    "df[3,3]"
   ]
  },
  {
   "cell_type": "code",
   "execution_count": 36,
   "metadata": {},
   "outputs": [
    {
     "data": {
      "text/html": [
       "<table class=\"data-frame\"><thead><tr><th></th><th>sepal_length</th><th>sepal_width</th><th>petal_length</th><th>petal_width</th><th>species</th></tr></thead><tbody><tr><th>1</th><td>4.9</td><td>3.0</td><td>1.4</td><td>0.2</td><td>setosa</td></tr></tbody></table>"
      ],
      "text/plain": [
       "1×5 DataFrames.DataFrame\n",
       "│ Row │ sepal_length │ sepal_width │ petal_length │ petal_width │ species  │\n",
       "├─────┼──────────────┼─────────────┼──────────────┼─────────────┼──────────┤\n",
       "│ 1   │ 4.9          │ 3.0         │ 1.4          │ 0.2         │ \"setosa\" │"
      ]
     },
     "execution_count": 36,
     "metadata": {},
     "output_type": "execute_result"
    }
   ],
   "source": [
    "# loc,iloc equivalent in Julia\n",
    "# Location Index Location\n",
    "#eg df.loc[2]\n",
    "df[2,:]\n"
   ]
  },
  {
   "cell_type": "code",
   "execution_count": 38,
   "metadata": {},
   "outputs": [
    {
     "data": {
      "text/html": [
       "<table class=\"data-frame\"><thead><tr><th></th><th>sepal_length</th><th>sepal_width</th><th>petal_length</th><th>petal_width</th><th>species</th></tr></thead><tbody><tr><th>1</th><td>5.1</td><td>3.5</td><td>1.4</td><td>0.2</td><td>setosa</td></tr><tr><th>2</th><td>4.7</td><td>3.2</td><td>1.3</td><td>0.2</td><td>setosa</td></tr><tr><th>3</th><td>5.8</td><td>4.0</td><td>1.2</td><td>0.2</td><td>setosa</td></tr></tbody></table>"
      ],
      "text/plain": [
       "3×5 DataFrames.DataFrame\n",
       "│ Row │ sepal_length │ sepal_width │ petal_length │ petal_width │ species  │\n",
       "├─────┼──────────────┼─────────────┼──────────────┼─────────────┼──────────┤\n",
       "│ 1   │ 5.1          │ 3.5         │ 1.4          │ 0.2         │ \"setosa\" │\n",
       "│ 2   │ 4.7          │ 3.2         │ 1.3          │ 0.2         │ \"setosa\" │\n",
       "│ 3   │ 5.8          │ 4.0         │ 1.2          │ 0.2         │ \"setosa\" │"
      ]
     },
     "execution_count": 38,
     "metadata": {},
     "output_type": "execute_result"
    }
   ],
   "source": [
    "# Selecting Specific Individual Rows and Columns\n",
    "# Syntax => DataFrame[[row1,row3],[columns]]\n",
    "#eg df.loc[0:2,:]\n",
    "#eg df.loc[[rows1,rows3],:]\n",
    "\n",
    "df[[1,3,15],:]\n"
   ]
  },
  {
   "cell_type": "code",
   "execution_count": 39,
   "metadata": {},
   "outputs": [
    {
     "data": {
      "text/html": [
       "<table class=\"data-frame\"><thead><tr><th></th><th>sepal_length</th><th>sepal_width</th></tr></thead><tbody><tr><th>1</th><td>4.9</td><td>3.0</td></tr><tr><th>2</th><td>4.6</td><td>3.1</td></tr><tr><th>3</th><td>5.4</td><td>3.9</td></tr></tbody></table>"
      ],
      "text/plain": [
       "3×2 DataFrames.DataFrame\n",
       "│ Row │ sepal_length │ sepal_width │\n",
       "├─────┼──────────────┼─────────────┤\n",
       "│ 1   │ 4.9          │ 3.0         │\n",
       "│ 2   │ 4.6          │ 3.1         │\n",
       "│ 3   │ 5.4          │ 3.9         │"
      ]
     },
     "execution_count": 39,
     "metadata": {},
     "output_type": "execute_result"
    }
   ],
   "source": [
    "# Select individual Row 2,4,6 of Columns Sepal_length and Sepal_Width]\n",
    "df[[2,4,6],[:sepal_length,:sepal_width]]"
   ]
  },
  {
   "cell_type": "code",
   "execution_count": 40,
   "metadata": {},
   "outputs": [
    {
     "data": {
      "text/html": [
       "<table class=\"data-frame\"><thead><tr><th></th><th>sepal_length</th><th>sepal_width</th><th>petal_length</th><th>petal_width</th><th>species</th></tr></thead><tbody><tr><th>1</th><td>5.0</td><td>3.6</td><td>1.4</td><td>0.2</td><td>setosa</td></tr><tr><th>2</th><td>5.4</td><td>3.9</td><td>1.7</td><td>0.4</td><td>setosa</td></tr><tr><th>3</th><td>4.6</td><td>3.4</td><td>1.4</td><td>0.3</td><td>setosa</td></tr><tr><th>4</th><td>5.0</td><td>3.4</td><td>1.5</td><td>0.2</td><td>setosa</td></tr><tr><th>5</th><td>4.4</td><td>2.9</td><td>1.4</td><td>0.2</td><td>setosa</td></tr><tr><th>6</th><td>4.9</td><td>3.1</td><td>1.5</td><td>0.1</td><td>setosa</td></tr></tbody></table>"
      ],
      "text/plain": [
       "6×5 DataFrames.DataFrame\n",
       "│ Row │ sepal_length │ sepal_width │ petal_length │ petal_width │ species  │\n",
       "├─────┼──────────────┼─────────────┼──────────────┼─────────────┼──────────┤\n",
       "│ 1   │ 5.0          │ 3.6         │ 1.4          │ 0.2         │ \"setosa\" │\n",
       "│ 2   │ 5.4          │ 3.9         │ 1.7          │ 0.4         │ \"setosa\" │\n",
       "│ 3   │ 4.6          │ 3.4         │ 1.4          │ 0.3         │ \"setosa\" │\n",
       "│ 4   │ 5.0          │ 3.4         │ 1.5          │ 0.2         │ \"setosa\" │\n",
       "│ 5   │ 4.4          │ 2.9         │ 1.4          │ 0.2         │ \"setosa\" │\n",
       "│ 6   │ 4.9          │ 3.1         │ 1.5          │ 0.1         │ \"setosa\" │"
      ]
     },
     "execution_count": 40,
     "metadata": {},
     "output_type": "execute_result"
    }
   ],
   "source": [
    "# Iloc \n",
    "#Range Selection of Columns and Rows\n",
    "#eg py => df.iloc[5:10]\n",
    "df[5:10,:]\n"
   ]
  },
  {
   "cell_type": "code",
   "execution_count": 41,
   "metadata": {},
   "outputs": [
    {
     "data": {
      "text/html": [
       "<table class=\"data-frame\"><thead><tr><th></th><th>sepal_width</th><th>petal_width</th></tr></thead><tbody><tr><th>1</th><td>3.2</td><td>0.2</td></tr></tbody></table>"
      ],
      "text/plain": [
       "1×2 DataFrames.DataFrame\n",
       "│ Row │ sepal_width │ petal_width │\n",
       "├─────┼─────────────┼─────────────┤\n",
       "│ 1   │ 3.2         │ 0.2         │"
      ]
     },
     "execution_count": 41,
     "metadata": {},
     "output_type": "execute_result"
    }
   ],
   "source": [
    "#Select 3rd Row of Columns 2 to 4\n",
    "# py=>df[df.columns[2:4]].iloc[3]\n",
    "df[3,[2,4]]\n"
   ]
  },
  {
   "cell_type": "code",
   "execution_count": 42,
   "metadata": {},
   "outputs": [
    {
     "data": {
      "text/html": [
       "<table class=\"data-frame\"><thead><tr><th></th><th>sepal_width</th><th>petal_length</th><th>petal_width</th></tr></thead><tbody><tr><th>1</th><td>3.2</td><td>1.3</td><td>0.2</td></tr></tbody></table>"
      ],
      "text/plain": [
       "1×3 DataFrames.DataFrame\n",
       "│ Row │ sepal_width │ petal_length │ petal_width │\n",
       "├─────┼─────────────┼──────────────┼─────────────┤\n",
       "│ 1   │ 3.2         │ 1.3          │ 0.2         │"
      ]
     },
     "execution_count": 42,
     "metadata": {},
     "output_type": "execute_result"
    }
   ],
   "source": [
    "df[3,names(df[2:4])]"
   ]
  },
  {
   "cell_type": "markdown",
   "metadata": {},
   "source": [
    "#### Iterating Over Rows and Columns\n",
    "* Iteration\n",
    "+ df.iteritems() Columns Index == eachcol\n",
    "+ df.iterrows() Row-index,Series == eachrows"
   ]
  },
  {
   "cell_type": "code",
   "execution_count": 43,
   "metadata": {},
   "outputs": [
    {
     "name": "stdout",
     "output_type": "stream",
     "text": [
      "DataFrameRow (row 1)\n",
      "sepal_length  5.1\n",
      "sepal_width   3.5\n",
      "petal_length  1.4\n",
      "petal_width   0.2\n",
      "species       setosa\n",
      "DataFrameRow (row 2)\n",
      "sepal_length  4.9\n",
      "sepal_width   3.0\n",
      "petal_length  1.4\n",
      "petal_width   0.2\n",
      "species       setosa\n",
      "DataFrameRow (row 3)\n",
      "sepal_length  4.7\n",
      "sepal_width   3.2\n",
      "petal_length  1.3\n",
      "petal_width   0.2\n",
      "species       setosa\n",
      "DataFrameRow (row 4)\n",
      "sepal_length  4.6\n",
      "sepal_width   3.1\n",
      "petal_length  1.5\n",
      "petal_width   0.2\n",
      "species       setosa\n",
      "DataFrameRow (row 5)\n",
      "sepal_length  5.0\n",
      "sepal_width   3.6\n",
      "petal_length  1.4\n",
      "petal_width   0.2\n",
      "species       setosa\n",
      "DataFrameRow (row 6)\n",
      "sepal_length  5.4\n",
      "sepal_width   3.9\n",
      "petal_length  1.7\n",
      "petal_width   0.4\n",
      "species       setosa\n",
      "DataFrameRow (row 7)\n",
      "sepal_length  4.6\n",
      "sepal_width   3.4\n",
      "petal_length  1.4\n",
      "petal_width   0.3\n",
      "species       setosa\n",
      "DataFrameRow (row 8)\n",
      "sepal_length  5.0\n",
      "sepal_width   3.4\n",
      "petal_length  1.5\n",
      "petal_width   0.2\n",
      "species       setosa\n",
      "DataFrameRow (row 9)\n",
      "sepal_length  4.4\n",
      "sepal_width   2.9\n",
      "petal_length  1.4\n",
      "petal_width   0.2\n",
      "species       setosa\n",
      "DataFrameRow (row 10)\n",
      "sepal_length  4.9\n",
      "sepal_width   3.1\n",
      "petal_length  1.5\n",
      "petal_width   0.1\n",
      "species       setosa\n",
      "DataFrameRow (row 11)\n",
      "sepal_length  5.4\n",
      "sepal_width   3.7\n",
      "petal_length  1.5\n",
      "petal_width   0.2\n",
      "species       setosa\n",
      "DataFrameRow (row 12)\n",
      "sepal_length  4.8\n",
      "sepal_width   3.4\n",
      "petal_length  1.6\n",
      "petal_width   0.2\n",
      "species       setosa\n",
      "DataFrameRow (row 13)\n",
      "sepal_length  4.8\n",
      "sepal_width   3.0\n",
      "petal_length  1.4\n",
      "petal_width   0.1\n",
      "species       setosa\n",
      "DataFrameRow (row 14)\n",
      "sepal_length  4.3\n",
      "sepal_width   3.0\n",
      "petal_length  1.1\n",
      "petal_width   0.1\n",
      "species       setosa\n",
      "DataFrameRow (row 15)\n",
      "sepal_length  5.8\n",
      "sepal_width   4.0\n",
      "petal_length  1.2\n",
      "petal_width   0.2\n",
      "species       setosa\n",
      "DataFrameRow (row 16)\n",
      "sepal_length  5.7\n",
      "sepal_width   4.4\n",
      "petal_length  1.5\n",
      "petal_width   0.4\n",
      "species       setosa\n",
      "DataFrameRow (row 17)\n",
      "sepal_length  5.4\n",
      "sepal_width   3.9\n",
      "petal_length  1.3\n",
      "petal_width   0.4\n",
      "species       setosa\n",
      "DataFrameRow (row 18)\n",
      "sepal_length  5.1\n",
      "sepal_width   3.5\n",
      "petal_length  1.4\n",
      "petal_width   0.3\n",
      "species       setosa\n",
      "DataFrameRow (row 19)\n",
      "sepal_length  5.7\n",
      "sepal_width   3.8\n",
      "petal_length  1.7\n",
      "petal_width   0.3\n",
      "species       setosa\n",
      "DataFrameRow (row 20)\n",
      "sepal_length  5.1\n",
      "sepal_width   3.8\n",
      "petal_length  1.5\n",
      "petal_width   0.3\n",
      "species       setosa\n",
      "DataFrameRow (row 21)\n",
      "sepal_length  5.4\n",
      "sepal_width   3.4\n",
      "petal_length  1.7\n",
      "petal_width   0.2\n",
      "species       setosa\n",
      "DataFrameRow (row 22)\n",
      "sepal_length  5.1\n",
      "sepal_width   3.7\n",
      "petal_length  1.5\n",
      "petal_width   0.4\n",
      "species       setosa\n",
      "DataFrameRow (row 23)\n",
      "sepal_length  4.6\n",
      "sepal_width   3.6\n",
      "petal_length  1.0\n",
      "petal_width   0.2\n",
      "species       setosa\n",
      "DataFrameRow (row 24)\n",
      "sepal_length  5.1\n",
      "sepal_width   3.3\n",
      "petal_length  1.7\n",
      "petal_width   0.5\n",
      "species       setosa\n",
      "DataFrameRow (row 25)\n",
      "sepal_length  4.8\n",
      "sepal_width   3.4\n",
      "petal_length  1.9\n",
      "petal_width   0.2\n",
      "species       setosa\n",
      "DataFrameRow (row 26)\n",
      "sepal_length  5.0\n",
      "sepal_width   3.0\n",
      "petal_length  1.6\n",
      "petal_width   0.2\n",
      "species       setosa\n",
      "DataFrameRow (row 27)\n",
      "sepal_length  5.0\n",
      "sepal_width   3.4\n",
      "petal_length  1.6\n",
      "petal_width   0.4\n",
      "species       setosa\n",
      "DataFrameRow (row 28)\n",
      "sepal_length  5.2\n",
      "sepal_width   3.5\n",
      "petal_length  1.5\n",
      "petal_width   0.2\n",
      "species       setosa\n",
      "DataFrameRow (row 29)\n",
      "sepal_length  5.2\n",
      "sepal_width   3.4\n",
      "petal_length  1.4\n",
      "petal_width   0.2\n",
      "species       setosa\n",
      "DataFrameRow (row 30)\n",
      "sepal_length  4.7\n",
      "sepal_width   3.2\n",
      "petal_length  1.6\n",
      "petal_width   0.2\n",
      "species       setosa\n",
      "DataFrameRow (row 31)\n",
      "sepal_length  4.8\n",
      "sepal_width   3.1\n",
      "petal_length  1.6\n",
      "petal_width   0.2\n",
      "species       setosa\n",
      "DataFrameRow (row 32)\n",
      "sepal_length  5.4\n",
      "sepal_width   3.4\n",
      "petal_length  1.5\n",
      "petal_width   0.4\n",
      "species       setosa\n",
      "DataFrameRow (row 33)\n",
      "sepal_length  5.2\n",
      "sepal_width   4.1\n",
      "petal_length  1.5\n",
      "petal_width   0.1\n",
      "species       setosa\n",
      "DataFrameRow (row 34)\n",
      "sepal_length  5.5\n",
      "sepal_width   4.2\n",
      "petal_length  1.4\n",
      "petal_width   0.2\n",
      "species       setosa\n",
      "DataFrameRow (row 35)\n",
      "sepal_length  4.9\n",
      "sepal_width   3.1\n",
      "petal_length  1.5\n",
      "petal_width   0.1\n",
      "species       setosa\n",
      "DataFrameRow (row 36)\n",
      "sepal_length  5.0\n",
      "sepal_width   3.2\n",
      "petal_length  1.2\n",
      "petal_width   0.2\n",
      "species       setosa\n",
      "DataFrameRow (row 37)\n",
      "sepal_length  5.5\n",
      "sepal_width   3.5\n",
      "petal_length  1.3\n",
      "petal_width   0.2\n",
      "species       setosa\n",
      "DataFrameRow (row 38)\n",
      "sepal_length  4.9\n",
      "sepal_width   3.1\n",
      "petal_length  1.5\n",
      "petal_width   0.1\n",
      "species       setosa\n",
      "DataFrameRow (row 39)\n",
      "sepal_length  4.4\n",
      "sepal_width   3.0\n",
      "petal_length  1.3\n",
      "petal_width   0.2\n",
      "species       setosa\n",
      "DataFrameRow (row 40)\n",
      "sepal_length  5.1\n",
      "sepal_width   3.4\n",
      "petal_length  1.5\n",
      "petal_width   0.2\n",
      "species       setosa\n",
      "DataFrameRow (row 41)\n",
      "sepal_length  5.0\n",
      "sepal_width   3.5\n",
      "petal_length  1.3\n",
      "petal_width   0.3\n",
      "species       setosa\n",
      "DataFrameRow (row 42)\n",
      "sepal_length  4.5\n",
      "sepal_width   2.3\n",
      "petal_length  1.3\n",
      "petal_width   0.3\n",
      "species       setosa\n",
      "DataFrameRow (row 43)\n",
      "sepal_length  4.4\n",
      "sepal_width   3.2\n",
      "petal_length  1.3\n",
      "petal_width   0.2\n",
      "species       setosa\n",
      "DataFrameRow (row 44)\n",
      "sepal_length  5.0\n",
      "sepal_width   3.5\n",
      "petal_length  1.6\n",
      "petal_width   0.6\n",
      "species       setosa\n",
      "DataFrameRow (row 45)\n",
      "sepal_length  5.1\n",
      "sepal_width   3.8\n",
      "petal_length  1.9\n",
      "petal_width   0.4\n",
      "species       setosa\n",
      "DataFrameRow (row 46)\n",
      "sepal_length  4.8\n",
      "sepal_width   3.0\n",
      "petal_length  1.4\n",
      "petal_width   0.3\n",
      "species       setosa\n",
      "DataFrameRow (row 47)\n",
      "sepal_length  5.1\n",
      "sepal_width   3.8\n",
      "petal_length  1.6\n",
      "petal_width   0.2\n",
      "species       setosa\n",
      "DataFrameRow (row 48)\n",
      "sepal_length  4.6\n",
      "sepal_width   3.2\n",
      "petal_length  1.4\n",
      "petal_width   0.2\n",
      "species       setosa\n",
      "DataFrameRow (row 49)\n",
      "sepal_length  5.3\n",
      "sepal_width   3.7\n",
      "petal_length  1.5\n",
      "petal_width   0.2\n",
      "species       setosa\n",
      "DataFrameRow (row 50)\n",
      "sepal_length  5.0\n",
      "sepal_width   3.3\n",
      "petal_length  1.4\n",
      "petal_width   0.2\n",
      "species       setosa\n",
      "DataFrameRow (row 51)\n",
      "sepal_length  7.0\n",
      "sepal_width   3.2\n",
      "petal_length  4.7\n",
      "petal_width   1.4\n",
      "species       versicolor\n",
      "DataFrameRow (row 52)\n",
      "sepal_length  6.4\n",
      "sepal_width   3.2\n",
      "petal_length  4.5\n",
      "petal_width   1.5\n",
      "species       versicolor\n",
      "DataFrameRow (row 53)\n",
      "sepal_length  6.9\n",
      "sepal_width   3.1\n",
      "petal_length  4.9\n",
      "petal_width   1.5\n",
      "species       versicolor\n",
      "DataFrameRow (row 54)\n",
      "sepal_length  5.5\n",
      "sepal_width   2.3\n",
      "petal_length  4.0\n",
      "petal_width   1.3\n",
      "species       versicolor\n",
      "DataFrameRow (row 55)\n",
      "sepal_length  6.5\n",
      "sepal_width   2.8\n",
      "petal_length  4.6\n",
      "petal_width   1.5\n",
      "species       versicolor\n",
      "DataFrameRow (row 56)\n",
      "sepal_length  5.7\n",
      "sepal_width   2.8\n",
      "petal_length  4.5\n",
      "petal_width   1.3\n",
      "species       versicolor\n",
      "DataFrameRow (row 57)\n",
      "sepal_length  6.3\n",
      "sepal_width   3.3\n",
      "petal_length  4.7\n",
      "petal_width   1.6\n",
      "species       versicolor\n",
      "DataFrameRow (row 58)\n",
      "sepal_length  4.9\n",
      "sepal_width   2.4\n",
      "petal_length  3.3\n",
      "petal_width   1.0\n",
      "species       versicolor\n",
      "DataFrameRow (row 59)\n",
      "sepal_length  6.6\n",
      "sepal_width   2.9\n",
      "petal_length  4.6\n",
      "petal_width   1.3\n",
      "species       versicolor\n",
      "DataFrameRow (row 60)\n",
      "sepal_length  5.2\n",
      "sepal_width   2.7\n",
      "petal_length  3.9\n",
      "petal_width   1.4\n",
      "species       versicolor\n",
      "DataFrameRow (row 61)\n",
      "sepal_length  5.0\n",
      "sepal_width   2.0\n",
      "petal_length  3.5\n",
      "petal_width   1.0\n",
      "species       versicolor\n",
      "DataFrameRow (row 62)\n",
      "sepal_length  5.9\n",
      "sepal_width   3.0\n",
      "petal_length  4.2\n",
      "petal_width   1.5\n",
      "species       versicolor\n",
      "DataFrameRow (row 63)\n",
      "sepal_length  6.0\n",
      "sepal_width   2.2\n",
      "petal_length  4.0\n",
      "petal_width   1.0\n",
      "species       versicolor\n",
      "DataFrameRow (row 64)\n",
      "sepal_length  6.1\n",
      "sepal_width   2.9\n",
      "petal_length  4.7\n",
      "petal_width   1.4\n",
      "species       versicolor\n",
      "DataFrameRow (row 65)\n",
      "sepal_length  5.6\n",
      "sepal_width   2.9\n",
      "petal_length  3.6\n",
      "petal_width   1.3\n",
      "species       versicolor\n",
      "DataFrameRow (row 66)\n",
      "sepal_length  6.7\n",
      "sepal_width   3.1\n",
      "petal_length  4.4\n",
      "petal_width   1.4\n",
      "species       versicolor\n",
      "DataFrameRow (row 67)\n",
      "sepal_length  5.6\n",
      "sepal_width   3.0\n",
      "petal_length  4.5\n",
      "petal_width   1.5\n",
      "species       versicolor\n",
      "DataFrameRow (row 68)\n",
      "sepal_length  5.8\n",
      "sepal_width   2.7\n",
      "petal_length  4.1\n",
      "petal_width   1.0\n",
      "species       versicolor\n",
      "DataFrameRow (row 69)\n",
      "sepal_length  6.2\n",
      "sepal_width   2.2\n",
      "petal_length  4.5\n",
      "petal_width   1.5\n",
      "species       versicolor\n",
      "DataFrameRow (row 70)\n",
      "sepal_length  5.6\n",
      "sepal_width   2.5\n",
      "petal_length  3.9\n",
      "petal_width   1.1\n",
      "species       versicolor\n",
      "DataFrameRow (row 71)\n",
      "sepal_length  5.9\n",
      "sepal_width   3.2\n",
      "petal_length  4.8\n",
      "petal_width   1.8\n",
      "species       versicolor\n",
      "DataFrameRow (row 72)\n",
      "sepal_length  6.1\n",
      "sepal_width   2.8\n",
      "petal_length  4.0\n",
      "petal_width   1.3\n",
      "species       versicolor\n",
      "DataFrameRow (row 73)\n",
      "sepal_length  6.3\n",
      "sepal_width   2.5\n",
      "petal_length  4.9\n",
      "petal_width   1.5\n",
      "species       versicolor\n",
      "DataFrameRow (row 74)\n",
      "sepal_length  6.1\n",
      "sepal_width   2.8\n",
      "petal_length  4.7\n",
      "petal_width   1.2\n",
      "species       versicolor\n",
      "DataFrameRow (row 75)\n",
      "sepal_length  6.4\n",
      "sepal_width   2.9\n",
      "petal_length  4.3\n",
      "petal_width   1.3\n",
      "species       versicolor\n",
      "DataFrameRow (row 76)\n",
      "sepal_length  6.6\n",
      "sepal_width   3.0\n",
      "petal_length  4.4\n",
      "petal_width   1.4\n",
      "species       versicolor\n",
      "DataFrameRow (row 77)\n",
      "sepal_length  6.8\n",
      "sepal_width   2.8\n",
      "petal_length  4.8\n",
      "petal_width   1.4\n",
      "species       versicolor\n",
      "DataFrameRow (row 78)\n",
      "sepal_length  6.7\n",
      "sepal_width   3.0\n",
      "petal_length  5.0\n",
      "petal_width   1.7\n",
      "species       versicolor\n",
      "DataFrameRow (row 79)\n",
      "sepal_length  6.0\n",
      "sepal_width   2.9\n",
      "petal_length  4.5\n",
      "petal_width   1.5\n",
      "species       versicolor\n",
      "DataFrameRow (row 80)\n",
      "sepal_length  5.7\n",
      "sepal_width   2.6\n",
      "petal_length  3.5\n",
      "petal_width   1.0\n",
      "species       versicolor\n",
      "DataFrameRow (row 81)\n",
      "sepal_length  5.5\n",
      "sepal_width   2.4\n",
      "petal_length  3.8\n",
      "petal_width   1.1\n",
      "species       versicolor\n",
      "DataFrameRow (row 82)\n",
      "sepal_length  5.5\n",
      "sepal_width   2.4\n",
      "petal_length  3.7\n",
      "petal_width   1.0\n",
      "species       versicolor\n",
      "DataFrameRow (row 83)\n",
      "sepal_length  5.8\n",
      "sepal_width   2.7\n",
      "petal_length  3.9\n",
      "petal_width   1.2\n",
      "species       versicolor\n",
      "DataFrameRow (row 84)\n",
      "sepal_length  6.0\n",
      "sepal_width   2.7\n",
      "petal_length  5.1\n",
      "petal_width   1.6\n",
      "species       versicolor\n",
      "DataFrameRow (row 85)\n",
      "sepal_length  5.4\n",
      "sepal_width   3.0\n",
      "petal_length  4.5\n",
      "petal_width   1.5\n",
      "species       versicolor\n",
      "DataFrameRow (row 86)\n",
      "sepal_length  6.0\n",
      "sepal_width   3.4\n",
      "petal_length  4.5\n",
      "petal_width   1.6\n",
      "species       versicolor\n",
      "DataFrameRow (row 87)\n",
      "sepal_length  6.7\n",
      "sepal_width   3.1\n",
      "petal_length  4.7\n",
      "petal_width   1.5\n",
      "species       versicolor\n",
      "DataFrameRow (row 88)\n",
      "sepal_length  6.3\n",
      "sepal_width   2.3\n",
      "petal_length  4.4\n",
      "petal_width   1.3\n",
      "species       versicolor\n",
      "DataFrameRow (row 89)\n",
      "sepal_length  5.6\n",
      "sepal_width   3.0\n",
      "petal_length  4.1\n",
      "petal_width   1.3\n",
      "species       versicolor\n",
      "DataFrameRow (row 90)\n",
      "sepal_length  5.5\n",
      "sepal_width   2.5\n",
      "petal_length  4.0\n",
      "petal_width   1.3\n",
      "species       versicolor\n",
      "DataFrameRow (row 91)\n",
      "sepal_length  5.5\n",
      "sepal_width   2.6\n",
      "petal_length  4.4\n",
      "petal_width   1.2\n",
      "species       versicolor\n",
      "DataFrameRow (row 92)\n",
      "sepal_length  6.1\n",
      "sepal_width   3.0\n",
      "petal_length  4.6\n",
      "petal_width   1.4\n",
      "species       versicolor\n",
      "DataFrameRow (row 93)\n",
      "sepal_length  5.8\n",
      "sepal_width   2.6\n",
      "petal_length  4.0\n",
      "petal_width   1.2\n",
      "species       versicolor\n",
      "DataFrameRow (row 94)\n",
      "sepal_length  5.0\n",
      "sepal_width   2.3\n",
      "petal_length  3.3\n",
      "petal_width   1.0\n",
      "species       versicolor\n",
      "DataFrameRow (row 95)\n",
      "sepal_length  5.6\n",
      "sepal_width   2.7\n",
      "petal_length  4.2\n",
      "petal_width   1.3\n",
      "species       versicolor\n",
      "DataFrameRow (row 96)\n",
      "sepal_length  5.7\n",
      "sepal_width   3.0\n",
      "petal_length  4.2\n",
      "petal_width   1.2\n",
      "species       versicolor\n",
      "DataFrameRow (row 97)\n",
      "sepal_length  5.7\n",
      "sepal_width   2.9\n",
      "petal_length  4.2\n",
      "petal_width   1.3\n",
      "species       versicolor\n",
      "DataFrameRow (row 98)\n",
      "sepal_length  6.2\n",
      "sepal_width   2.9\n",
      "petal_length  4.3\n",
      "petal_width   1.3\n",
      "species       versicolor\n",
      "DataFrameRow (row 99)\n",
      "sepal_length  5.1\n",
      "sepal_width   2.5\n",
      "petal_length  3.0\n",
      "petal_width   1.1\n",
      "species       versicolor\n",
      "DataFrameRow (row 100)\n",
      "sepal_length  5.7\n",
      "sepal_width   2.8\n",
      "petal_length  4.1\n",
      "petal_width   1.3\n",
      "species       versicolor\n",
      "DataFrameRow (row 101)\n",
      "sepal_length  6.3\n",
      "sepal_width   3.3\n",
      "petal_length  6.0\n",
      "petal_width   2.5\n",
      "species       virginica\n",
      "DataFrameRow (row 102)\n",
      "sepal_length  5.8\n",
      "sepal_width   2.7\n",
      "petal_length  5.1\n",
      "petal_width   1.9\n",
      "species       virginica\n",
      "DataFrameRow (row 103)\n",
      "sepal_length  7.1\n",
      "sepal_width   3.0\n",
      "petal_length  5.9\n",
      "petal_width   2.1\n",
      "species       virginica\n",
      "DataFrameRow (row 104)\n",
      "sepal_length  6.3\n",
      "sepal_width   2.9\n",
      "petal_length  5.6\n",
      "petal_width   1.8\n",
      "species       virginica\n",
      "DataFrameRow (row 105)\n",
      "sepal_length  6.5\n",
      "sepal_width   3.0\n",
      "petal_length  5.8\n",
      "petal_width   2.2\n",
      "species       virginica\n",
      "DataFrameRow (row 106)\n",
      "sepal_length  7.6\n",
      "sepal_width   3.0\n",
      "petal_length  6.6\n",
      "petal_width   2.1\n",
      "species       virginica\n",
      "DataFrameRow (row 107)\n",
      "sepal_length  4.9\n",
      "sepal_width   2.5\n",
      "petal_length  4.5\n",
      "petal_width   1.7\n",
      "species       virginica\n",
      "DataFrameRow (row 108)\n",
      "sepal_length  7.3\n",
      "sepal_width   2.9\n",
      "petal_length  6.3\n",
      "petal_width   1.8\n",
      "species       virginica\n",
      "DataFrameRow (row 109)\n",
      "sepal_length  6.7\n",
      "sepal_width   2.5\n",
      "petal_length  5.8\n",
      "petal_width   1.8\n",
      "species       virginica\n",
      "DataFrameRow (row 110)\n",
      "sepal_length  7.2\n",
      "sepal_width   3.6\n",
      "petal_length  6.1\n",
      "petal_width   2.5\n",
      "species       virginica\n",
      "DataFrameRow (row 111)\n",
      "sepal_length  6.5\n",
      "sepal_width   3.2\n",
      "petal_length  5.1\n",
      "petal_width   2.0\n",
      "species       virginica\n",
      "DataFrameRow (row 112)\n",
      "sepal_length  6.4\n",
      "sepal_width   2.7\n",
      "petal_length  5.3\n",
      "petal_width   1.9\n",
      "species       virginica\n",
      "DataFrameRow (row 113)\n",
      "sepal_length  6.8\n",
      "sepal_width   3.0\n",
      "petal_length  5.5\n",
      "petal_width   2.1\n",
      "species       virginica\n",
      "DataFrameRow (row 114)\n",
      "sepal_length  5.7\n",
      "sepal_width   2.5\n",
      "petal_length  5.0\n",
      "petal_width   2.0\n",
      "species       virginica\n",
      "DataFrameRow (row 115)\n",
      "sepal_length  5.8\n",
      "sepal_width   2.8\n",
      "petal_length  5.1\n",
      "petal_width   2.4\n",
      "species       virginica\n",
      "DataFrameRow (row 116)\n",
      "sepal_length  6.4\n",
      "sepal_width   3.2\n",
      "petal_length  5.3\n",
      "petal_width   2.3\n",
      "species       virginica\n",
      "DataFrameRow (row 117)\n",
      "sepal_length  6.5\n",
      "sepal_width   3.0\n",
      "petal_length  5.5\n",
      "petal_width   1.8\n",
      "species       virginica\n",
      "DataFrameRow (row 118)\n",
      "sepal_length  7.7\n",
      "sepal_width   3.8\n",
      "petal_length  6.7\n",
      "petal_width   2.2\n",
      "species       virginica\n",
      "DataFrameRow (row 119)\n",
      "sepal_length  7.7\n",
      "sepal_width   2.6\n",
      "petal_length  6.9\n",
      "petal_width   2.3\n",
      "species       virginica\n",
      "DataFrameRow (row 120)\n",
      "sepal_length  6.0\n",
      "sepal_width   2.2\n",
      "petal_length  5.0\n",
      "petal_width   1.5\n",
      "species       virginica\n",
      "DataFrameRow (row 121)\n",
      "sepal_length  6.9\n",
      "sepal_width   3.2\n",
      "petal_length  5.7\n",
      "petal_width   2.3\n",
      "species       virginica\n",
      "DataFrameRow (row 122)\n",
      "sepal_length  5.6\n",
      "sepal_width   2.8\n",
      "petal_length  4.9\n",
      "petal_width   2.0\n",
      "species       virginica\n",
      "DataFrameRow (row 123)\n",
      "sepal_length  7.7\n",
      "sepal_width   2.8\n",
      "petal_length  6.7\n",
      "petal_width   2.0\n",
      "species       virginica\n",
      "DataFrameRow (row 124)\n",
      "sepal_length  6.3\n",
      "sepal_width   2.7\n",
      "petal_length  4.9\n",
      "petal_width   1.8\n",
      "species       virginica\n",
      "DataFrameRow (row 125)\n",
      "sepal_length  6.7\n",
      "sepal_width   3.3\n",
      "petal_length  5.7\n",
      "petal_width   2.1\n",
      "species       virginica\n",
      "DataFrameRow (row 126)\n",
      "sepal_length  7.2\n",
      "sepal_width   3.2\n",
      "petal_length  6.0\n",
      "petal_width   1.8\n",
      "species       virginica\n",
      "DataFrameRow (row 127)\n",
      "sepal_length  6.2\n",
      "sepal_width   2.8\n",
      "petal_length  4.8\n",
      "petal_width   1.8\n",
      "species       virginica\n",
      "DataFrameRow (row 128)\n",
      "sepal_length  6.1\n",
      "sepal_width   3.0\n",
      "petal_length  4.9\n",
      "petal_width   1.8\n",
      "species       virginica\n",
      "DataFrameRow (row 129)\n",
      "sepal_length  6.4\n",
      "sepal_width   2.8\n",
      "petal_length  5.6\n",
      "petal_width   2.1\n",
      "species       virginica\n",
      "DataFrameRow (row 130)\n",
      "sepal_length  7.2\n",
      "sepal_width   3.0\n",
      "petal_length  5.8\n",
      "petal_width   1.6\n",
      "species       virginica\n",
      "DataFrameRow (row 131)\n",
      "sepal_length  7.4\n",
      "sepal_width   2.8\n",
      "petal_length  6.1\n",
      "petal_width   1.9\n",
      "species       virginica\n",
      "DataFrameRow (row 132)\n",
      "sepal_length  7.9\n",
      "sepal_width   3.8\n",
      "petal_length  6.4\n",
      "petal_width   2.0\n",
      "species       virginica\n",
      "DataFrameRow (row 133)\n",
      "sepal_length  6.4\n",
      "sepal_width   2.8\n",
      "petal_length  5.6\n",
      "petal_width   2.2\n",
      "species       virginica\n",
      "DataFrameRow (row 134)\n",
      "sepal_length  6.3\n",
      "sepal_width   2.8\n",
      "petal_length  5.1\n",
      "petal_width   1.5\n",
      "species       virginica\n",
      "DataFrameRow (row 135)\n",
      "sepal_length  6.1\n",
      "sepal_width   2.6\n",
      "petal_length  5.6\n",
      "petal_width   1.4\n",
      "species       virginica\n",
      "DataFrameRow (row 136)\n",
      "sepal_length  7.7\n",
      "sepal_width   3.0\n",
      "petal_length  6.1\n",
      "petal_width   2.3\n",
      "species       virginica\n",
      "DataFrameRow (row 137)\n",
      "sepal_length  6.3\n",
      "sepal_width   3.4\n",
      "petal_length  5.6\n",
      "petal_width   2.4\n",
      "species       virginica\n",
      "DataFrameRow (row 138)\n",
      "sepal_length  6.4\n",
      "sepal_width   3.1\n",
      "petal_length  5.5\n",
      "petal_width   1.8\n",
      "species       virginica\n",
      "DataFrameRow (row 139)\n",
      "sepal_length  6.0\n",
      "sepal_width   3.0\n",
      "petal_length  4.8\n",
      "petal_width   1.8\n",
      "species       virginica\n",
      "DataFrameRow (row 140)\n",
      "sepal_length  6.9\n",
      "sepal_width   3.1\n",
      "petal_length  5.4\n",
      "petal_width   2.1\n",
      "species       virginica\n",
      "DataFrameRow (row 141)\n",
      "sepal_length  6.7\n",
      "sepal_width   3.1\n",
      "petal_length  5.6\n",
      "petal_width   2.4\n",
      "species       virginica\n",
      "DataFrameRow (row 142)\n",
      "sepal_length  6.9\n",
      "sepal_width   3.1\n",
      "petal_length  5.1\n",
      "petal_width   2.3\n",
      "species       virginica\n",
      "DataFrameRow (row 143)\n",
      "sepal_length  5.8\n",
      "sepal_width   2.7\n",
      "petal_length  5.1\n",
      "petal_width   1.9\n",
      "species       virginica\n",
      "DataFrameRow (row 144)\n",
      "sepal_length  6.8\n",
      "sepal_width   3.2\n",
      "petal_length  5.9\n",
      "petal_width   2.3\n",
      "species       virginica\n",
      "DataFrameRow (row 145)\n",
      "sepal_length  6.7\n",
      "sepal_width   3.3\n",
      "petal_length  5.7\n",
      "petal_width   2.5\n",
      "species       virginica\n",
      "DataFrameRow (row 146)\n",
      "sepal_length  6.7\n",
      "sepal_width   3.0\n",
      "petal_length  5.2\n",
      "petal_width   2.3\n",
      "species       virginica\n",
      "DataFrameRow (row 147)\n",
      "sepal_length  6.3\n",
      "sepal_width   2.5\n",
      "petal_length  5.0\n",
      "petal_width   1.9\n",
      "species       virginica\n",
      "DataFrameRow (row 148)\n",
      "sepal_length  6.5\n",
      "sepal_width   3.0\n",
      "petal_length  5.2\n",
      "petal_width   2.0\n",
      "species       virginica\n",
      "DataFrameRow (row 149)\n",
      "sepal_length  6.2\n",
      "sepal_width   3.4\n",
      "petal_length  5.4\n",
      "petal_width   2.3\n",
      "species       virginica\n",
      "DataFrameRow (row 150)\n",
      "sepal_length  5.9\n",
      "sepal_width   3.0\n",
      "petal_length  5.1\n",
      "petal_width   1.8\n",
      "species       virginica\n"
     ]
    }
   ],
   "source": [
    "for i in eachrow(df)\n",
    "    print(i)\n",
    "end"
   ]
  },
  {
   "cell_type": "code",
   "execution_count": 44,
   "metadata": {},
   "outputs": [
    {
     "name": "stdout",
     "output_type": "stream",
     "text": [
      "(:sepal_length, [5.1, 4.9, 4.7, 4.6, 5.0, 5.4, 4.6, 5.0, 4.4, 4.9, 5.4, 4.8, 4.8, 4.3, 5.8, 5.7, 5.4, 5.1, 5.7, 5.1, 5.4, 5.1, 4.6, 5.1, 4.8, 5.0, 5.0, 5.2, 5.2, 4.7, 4.8, 5.4, 5.2, 5.5, 4.9, 5.0, 5.5, 4.9, 4.4, 5.1, 5.0, 4.5, 4.4, 5.0, 5.1, 4.8, 5.1, 4.6, 5.3, 5.0, 7.0, 6.4, 6.9, 5.5, 6.5, 5.7, 6.3, 4.9, 6.6, 5.2, 5.0, 5.9, 6.0, 6.1, 5.6, 6.7, 5.6, 5.8, 6.2, 5.6, 5.9, 6.1, 6.3, 6.1, 6.4, 6.6, 6.8, 6.7, 6.0, 5.7, 5.5, 5.5, 5.8, 6.0, 5.4, 6.0, 6.7, 6.3, 5.6, 5.5, 5.5, 6.1, 5.8, 5.0, 5.6, 5.7, 5.7, 6.2, 5.1, 5.7, 6.3, 5.8, 7.1, 6.3, 6.5, 7.6, 4.9, 7.3, 6.7, 7.2, 6.5, 6.4, 6.8, 5.7, 5.8, 6.4, 6.5, 7.7, 7.7, 6.0, 6.9, 5.6, 7.7, 6.3, 6.7, 7.2, 6.2, 6.1, 6.4, 7.2, 7.4, 7.9, 6.4, 6.3, 6.1, 7.7, 6.3, 6.4, 6.0, 6.9, 6.7, 6.9, 5.8, 6.8, 6.7, 6.7, 6.3, 6.5, 6.2, 5.9])\n",
      "(:sepal_width, [3.5, 3.0, 3.2, 3.1, 3.6, 3.9, 3.4, 3.4, 2.9, 3.1, 3.7, 3.4, 3.0, 3.0, 4.0, 4.4, 3.9, 3.5, 3.8, 3.8, 3.4, 3.7, 3.6, 3.3, 3.4, 3.0, 3.4, 3.5, 3.4, 3.2, 3.1, 3.4, 4.1, 4.2, 3.1, 3.2, 3.5, 3.1, 3.0, 3.4, 3.5, 2.3, 3.2, 3.5, 3.8, 3.0, 3.8, 3.2, 3.7, 3.3, 3.2, 3.2, 3.1, 2.3, 2.8, 2.8, 3.3, 2.4, 2.9, 2.7, 2.0, 3.0, 2.2, 2.9, 2.9, 3.1, 3.0, 2.7, 2.2, 2.5, 3.2, 2.8, 2.5, 2.8, 2.9, 3.0, 2.8, 3.0, 2.9, 2.6, 2.4, 2.4, 2.7, 2.7, 3.0, 3.4, 3.1, 2.3, 3.0, 2.5, 2.6, 3.0, 2.6, 2.3, 2.7, 3.0, 2.9, 2.9, 2.5, 2.8, 3.3, 2.7, 3.0, 2.9, 3.0, 3.0, 2.5, 2.9, 2.5, 3.6, 3.2, 2.7, 3.0, 2.5, 2.8, 3.2, 3.0, 3.8, 2.6, 2.2, 3.2, 2.8, 2.8, 2.7, 3.3, 3.2, 2.8, 3.0, 2.8, 3.0, 2.8, 3.8, 2.8, 2.8, 2.6, 3.0, 3.4, 3.1, 3.0, 3.1, 3.1, 3.1, 2.7, 3.2, 3.3, 3.0, 2.5, 3.0, 3.4, 3.0])\n",
      "(:petal_length, [1.4, 1.4, 1.3, 1.5, 1.4, 1.7, 1.4, 1.5, 1.4, 1.5, 1.5, 1.6, 1.4, 1.1, 1.2, 1.5, 1.3, 1.4, 1.7, 1.5, 1.7, 1.5, 1.0, 1.7, 1.9, 1.6, 1.6, 1.5, 1.4, 1.6, 1.6, 1.5, 1.5, 1.4, 1.5, 1.2, 1.3, 1.5, 1.3, 1.5, 1.3, 1.3, 1.3, 1.6, 1.9, 1.4, 1.6, 1.4, 1.5, 1.4, 4.7, 4.5, 4.9, 4.0, 4.6, 4.5, 4.7, 3.3, 4.6, 3.9, 3.5, 4.2, 4.0, 4.7, 3.6, 4.4, 4.5, 4.1, 4.5, 3.9, 4.8, 4.0, 4.9, 4.7, 4.3, 4.4, 4.8, 5.0, 4.5, 3.5, 3.8, 3.7, 3.9, 5.1, 4.5, 4.5, 4.7, 4.4, 4.1, 4.0, 4.4, 4.6, 4.0, 3.3, 4.2, 4.2, 4.2, 4.3, 3.0, 4.1, 6.0, 5.1, 5.9, 5.6, 5.8, 6.6, 4.5, 6.3, 5.8, 6.1, 5.1, 5.3, 5.5, 5.0, 5.1, 5.3, 5.5, 6.7, 6.9, 5.0, 5.7, 4.9, 6.7, 4.9, 5.7, 6.0, 4.8, 4.9, 5.6, 5.8, 6.1, 6.4, 5.6, 5.1, 5.6, 6.1, 5.6, 5.5, 4.8, 5.4, 5.6, 5.1, 5.1, 5.9, 5.7, 5.2, 5.0, 5.2, 5.4, 5.1])\n",
      "(:petal_width, [0.2, 0.2, 0.2, 0.2, 0.2, 0.4, 0.3, 0.2, 0.2, 0.1, 0.2, 0.2, 0.1, 0.1, 0.2, 0.4, 0.4, 0.3, 0.3, 0.3, 0.2, 0.4, 0.2, 0.5, 0.2, 0.2, 0.4, 0.2, 0.2, 0.2, 0.2, 0.4, 0.1, 0.2, 0.1, 0.2, 0.2, 0.1, 0.2, 0.2, 0.3, 0.3, 0.2, 0.6, 0.4, 0.3, 0.2, 0.2, 0.2, 0.2, 1.4, 1.5, 1.5, 1.3, 1.5, 1.3, 1.6, 1.0, 1.3, 1.4, 1.0, 1.5, 1.0, 1.4, 1.3, 1.4, 1.5, 1.0, 1.5, 1.1, 1.8, 1.3, 1.5, 1.2, 1.3, 1.4, 1.4, 1.7, 1.5, 1.0, 1.1, 1.0, 1.2, 1.6, 1.5, 1.6, 1.5, 1.3, 1.3, 1.3, 1.2, 1.4, 1.2, 1.0, 1.3, 1.2, 1.3, 1.3, 1.1, 1.3, 2.5, 1.9, 2.1, 1.8, 2.2, 2.1, 1.7, 1.8, 1.8, 2.5, 2.0, 1.9, 2.1, 2.0, 2.4, 2.3, 1.8, 2.2, 2.3, 1.5, 2.3, 2.0, 2.0, 1.8, 2.1, 1.8, 1.8, 1.8, 2.1, 1.6, 1.9, 2.0, 2.2, 1.5, 1.4, 2.3, 2.4, 1.8, 1.8, 2.1, 2.4, 2.3, 1.9, 2.3, 2.5, 2.3, 1.9, 2.0, 2.3, 1.8])\n",
      "(:species, String[\"setosa\", \"setosa\", \"setosa\", \"setosa\", \"setosa\", \"setosa\", \"setosa\", \"setosa\", \"setosa\", \"setosa\", \"setosa\", \"setosa\", \"setosa\", \"setosa\", \"setosa\", \"setosa\", \"setosa\", \"setosa\", \"setosa\", \"setosa\", \"setosa\", \"setosa\", \"setosa\", \"setosa\", \"setosa\", \"setosa\", \"setosa\", \"setosa\", \"setosa\", \"setosa\", \"setosa\", \"setosa\", \"setosa\", \"setosa\", \"setosa\", \"setosa\", \"setosa\", \"setosa\", \"setosa\", \"setosa\", \"setosa\", \"setosa\", \"setosa\", \"setosa\", \"setosa\", \"setosa\", \"setosa\", \"setosa\", \"setosa\", \"setosa\", \"versicolor\", \"versicolor\", \"versicolor\", \"versicolor\", \"versicolor\", \"versicolor\", \"versicolor\", \"versicolor\", \"versicolor\", \"versicolor\", \"versicolor\", \"versicolor\", \"versicolor\", \"versicolor\", \"versicolor\", \"versicolor\", \"versicolor\", \"versicolor\", \"versicolor\", \"versicolor\", \"versicolor\", \"versicolor\", \"versicolor\", \"versicolor\", \"versicolor\", \"versicolor\", \"versicolor\", \"versicolor\", \"versicolor\", \"versicolor\", \"versicolor\", \"versicolor\", \"versicolor\", \"versicolor\", \"versicolor\", \"versicolor\", \"versicolor\", \"versicolor\", \"versicolor\", \"versicolor\", \"versicolor\", \"versicolor\", \"versicolor\", \"versicolor\", \"versicolor\", \"versicolor\", \"versicolor\", \"versicolor\", \"versicolor\", \"versicolor\", \"virginica\", \"virginica\", \"virginica\", \"virginica\", \"virginica\", \"virginica\", \"virginica\", \"virginica\", \"virginica\", \"virginica\", \"virginica\", \"virginica\", \"virginica\", \"virginica\", \"virginica\", \"virginica\", \"virginica\", \"virginica\", \"virginica\", \"virginica\", \"virginica\", \"virginica\", \"virginica\", \"virginica\", \"virginica\", \"virginica\", \"virginica\", \"virginica\", \"virginica\", \"virginica\", \"virginica\", \"virginica\", \"virginica\", \"virginica\", \"virginica\", \"virginica\", \"virginica\", \"virginica\", \"virginica\", \"virginica\", \"virginica\", \"virginica\", \"virginica\", \"virginica\", \"virginica\", \"virginica\", \"virginica\", \"virginica\", \"virginica\", \"virginica\"])\n"
     ]
    }
   ],
   "source": [
    "for i in eachcol(df)\n",
    "    println(i)\n",
    "end"
   ]
  },
  {
   "cell_type": "code",
   "execution_count": null,
   "metadata": {},
   "outputs": [],
   "source": [
    "THANKS FOR WATCHING\n",
    "# Jesus Saves @ JCharisTech\n",
    "# Credits for Streaming Data =>Justmarkham"
   ]
  }
 ],
 "metadata": {
  "kernelspec": {
   "display_name": "Julia 0.6.1",
   "language": "julia",
   "name": "julia-0.6"
  },
  "language_info": {
   "file_extension": ".jl",
   "mimetype": "application/julia",
   "name": "julia",
   "version": "0.6.1"
  }
 },
 "nbformat": 4,
 "nbformat_minor": 2
}
