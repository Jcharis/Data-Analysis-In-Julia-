{
 "cells": [
  {
   "cell_type": "markdown",
   "metadata": {},
   "source": [
    "## Data Analysis In Julia With DataFrames\n",
    "### How to Join and Merge DataFrames\n",
    "+ Join two or more dataset \n",
    "+ Merge two or more dataset\n",
    "-- join()\n",
    "+ Just like database join and pandas merge\n",
    "\n",
    "+ Pkg.add(\"DataFrames\")"
   ]
  },
  {
   "cell_type": "code",
   "execution_count": null,
   "metadata": {},
   "outputs": [],
   "source": [
    "using DataFrames"
   ]
  },
  {
   "cell_type": "code",
   "execution_count": 2,
   "metadata": {},
   "outputs": [
    {
     "data": {
      "text/html": [
       "<table class=\"data-frame\"><thead><tr><th></th><th>ID</th><th>amount</th></tr></thead><tbody><tr><th>1</th><td>1</td><td>2050</td></tr><tr><th>2</th><td>2</td><td>3000</td></tr><tr><th>3</th><td>3</td><td>3500</td></tr><tr><th>4</th><td>4</td><td>3500</td></tr><tr><th>5</th><td>5</td><td>2500</td></tr><tr><th>6</th><td>6</td><td>3400</td></tr><tr><th>7</th><td>8</td><td>2700</td></tr><tr><th>8</th><td>23</td><td>4500</td></tr></tbody></table>"
      ],
      "text/plain": [
       "8×2 DataFrames.DataFrame\n",
       "│ Row │ ID │ amount │\n",
       "├─────┼────┼────────┤\n",
       "│ 1   │ 1  │ 2050   │\n",
       "│ 2   │ 2  │ 3000   │\n",
       "│ 3   │ 3  │ 3500   │\n",
       "│ 4   │ 4  │ 3500   │\n",
       "│ 5   │ 5  │ 2500   │\n",
       "│ 6   │ 6  │ 3400   │\n",
       "│ 7   │ 8  │ 2700   │\n",
       "│ 8   │ 23 │ 4500   │"
      ]
     },
     "execution_count": 2,
     "metadata": {},
     "output_type": "execute_result"
    }
   ],
   "source": [
    "# Loading our dataset\n",
    "employer = DataFrame( ID = [01,02,03,04,05,09,11,20],\n",
    "    name=[\"Matthews\",\"Daniella\",\"Kofi\",\"Vladmir\",\"Jean\",\"James\",\"Ayo\",\"Bill\"])\n",
    "\n",
    "salary = DataFrame(ID = [01,02,03,04,05,06,08,23],\n",
    "    amount=[2050,3000,3500,3500,2500,3400,2700,4500])\n",
    "\n"
   ]
  },
  {
   "cell_type": "markdown",
   "metadata": {},
   "source": [
    "#### Joining DataFrames\n",
    "+ syntax => join(Dataframe1,Dataframe2,on=:Column/key to join on,kind=:how to join it)"
   ]
  },
  {
   "cell_type": "code",
   "execution_count": 3,
   "metadata": {},
   "outputs": [
    {
     "data": {
      "text/html": [
       "<table class=\"data-frame\"><thead><tr><th></th><th>ID</th><th>name</th><th>amount</th></tr></thead><tbody><tr><th>1</th><td>1</td><td>Matthews</td><td>2050</td></tr><tr><th>2</th><td>2</td><td>Daniella</td><td>3000</td></tr><tr><th>3</th><td>3</td><td>Kofi</td><td>3500</td></tr><tr><th>4</th><td>4</td><td>Vladmir</td><td>3500</td></tr><tr><th>5</th><td>5</td><td>Jean</td><td>2500</td></tr></tbody></table>"
      ],
      "text/plain": [
       "5×3 DataFrames.DataFrame\n",
       "│ Row │ ID │ name       │ amount │\n",
       "├─────┼────┼────────────┼────────┤\n",
       "│ 1   │ 1  │ \"Matthews\" │ 2050   │\n",
       "│ 2   │ 2  │ \"Daniella\" │ 3000   │\n",
       "│ 3   │ 3  │ \"Kofi\"     │ 3500   │\n",
       "│ 4   │ 4  │ \"Vladmir\"  │ 3500   │\n",
       "│ 5   │ 5  │ \"Jean\"     │ 2500   │"
      ]
     },
     "execution_count": 3,
     "metadata": {},
     "output_type": "execute_result"
    }
   ],
   "source": [
    "# left Dataframe ,Right Dataframe\n",
    "join(employer,salary,on=:ID)"
   ]
  },
  {
   "cell_type": "code",
   "execution_count": 4,
   "metadata": {},
   "outputs": [
    {
     "data": {
      "text/html": [
       "<table class=\"data-frame\"><thead><tr><th></th><th>ID</th><th>name</th><th>amount</th></tr></thead><tbody><tr><th>1</th><td>1</td><td>Matthews</td><td>2050</td></tr><tr><th>2</th><td>2</td><td>Daniella</td><td>3000</td></tr><tr><th>3</th><td>3</td><td>Kofi</td><td>3500</td></tr><tr><th>4</th><td>4</td><td>Vladmir</td><td>3500</td></tr><tr><th>5</th><td>5</td><td>Jean</td><td>2500</td></tr><tr><th>6</th><td>9</td><td>James</td><td>NA</td></tr><tr><th>7</th><td>11</td><td>Ayo</td><td>NA</td></tr><tr><th>8</th><td>20</td><td>Bill</td><td>NA</td></tr></tbody></table>"
      ],
      "text/plain": [
       "8×3 DataFrames.DataFrame\n",
       "│ Row │ ID │ name       │ amount │\n",
       "├─────┼────┼────────────┼────────┤\n",
       "│ 1   │ 1  │ \"Matthews\" │ 2050   │\n",
       "│ 2   │ 2  │ \"Daniella\" │ 3000   │\n",
       "│ 3   │ 3  │ \"Kofi\"     │ 3500   │\n",
       "│ 4   │ 4  │ \"Vladmir\"  │ 3500   │\n",
       "│ 5   │ 5  │ \"Jean\"     │ 2500   │\n",
       "│ 6   │ 9  │ \"James\"    │ NA     │\n",
       "│ 7   │ 11 │ \"Ayo\"      │ NA     │\n",
       "│ 8   │ 20 │ \"Bill\"     │ NA     │"
      ]
     },
     "execution_count": 4,
     "metadata": {},
     "output_type": "execute_result"
    }
   ],
   "source": [
    "# Places NA for columns with dissimilar ID/key\n",
    "# Kind of Merging or Joining : Left\n",
    "join(employer,salary,on=:ID,kind=:left)"
   ]
  },
  {
   "cell_type": "code",
   "execution_count": 5,
   "metadata": {},
   "outputs": [
    {
     "data": {
      "text/html": [
       "<table class=\"data-frame\"><thead><tr><th></th><th>name</th><th>ID</th><th>amount</th></tr></thead><tbody><tr><th>1</th><td>Matthews</td><td>1</td><td>2050</td></tr><tr><th>2</th><td>Daniella</td><td>2</td><td>3000</td></tr><tr><th>3</th><td>Kofi</td><td>3</td><td>3500</td></tr><tr><th>4</th><td>Vladmir</td><td>4</td><td>3500</td></tr><tr><th>5</th><td>Jean</td><td>5</td><td>2500</td></tr><tr><th>6</th><td>NA</td><td>6</td><td>3400</td></tr><tr><th>7</th><td>NA</td><td>8</td><td>2700</td></tr><tr><th>8</th><td>NA</td><td>23</td><td>4500</td></tr></tbody></table>"
      ],
      "text/plain": [
       "8×3 DataFrames.DataFrame\n",
       "│ Row │ name       │ ID │ amount │\n",
       "├─────┼────────────┼────┼────────┤\n",
       "│ 1   │ \"Matthews\" │ 1  │ 2050   │\n",
       "│ 2   │ \"Daniella\" │ 2  │ 3000   │\n",
       "│ 3   │ \"Kofi\"     │ 3  │ 3500   │\n",
       "│ 4   │ \"Vladmir\"  │ 4  │ 3500   │\n",
       "│ 5   │ \"Jean\"     │ 5  │ 2500   │\n",
       "│ 6   │ NA         │ 6  │ 3400   │\n",
       "│ 7   │ NA         │ 8  │ 2700   │\n",
       "│ 8   │ NA         │ 23 │ 4500   │"
      ]
     },
     "execution_count": 5,
     "metadata": {},
     "output_type": "execute_result"
    }
   ],
   "source": [
    "# Places NA for columns with dissimilar ID/key\n",
    "# Kind of Merging or Joining : Right\n",
    "join(employer,salary,on=:ID,kind=:right)"
   ]
  },
  {
   "cell_type": "code",
   "execution_count": 6,
   "metadata": {},
   "outputs": [
    {
     "data": {
      "text/html": [
       "<table class=\"data-frame\"><thead><tr><th></th><th>ID</th><th>name</th><th>amount</th></tr></thead><tbody><tr><th>1</th><td>1</td><td>Matthews</td><td>2050</td></tr><tr><th>2</th><td>2</td><td>Daniella</td><td>3000</td></tr><tr><th>3</th><td>3</td><td>Kofi</td><td>3500</td></tr><tr><th>4</th><td>4</td><td>Vladmir</td><td>3500</td></tr><tr><th>5</th><td>5</td><td>Jean</td><td>2500</td></tr><tr><th>6</th><td>9</td><td>James</td><td>NA</td></tr><tr><th>7</th><td>11</td><td>Ayo</td><td>NA</td></tr><tr><th>8</th><td>20</td><td>Bill</td><td>NA</td></tr><tr><th>9</th><td>6</td><td>NA</td><td>3400</td></tr><tr><th>10</th><td>8</td><td>NA</td><td>2700</td></tr><tr><th>11</th><td>23</td><td>NA</td><td>4500</td></tr></tbody></table>"
      ],
      "text/plain": [
       "11×3 DataFrames.DataFrame\n",
       "│ Row │ ID │ name       │ amount │\n",
       "├─────┼────┼────────────┼────────┤\n",
       "│ 1   │ 1  │ \"Matthews\" │ 2050   │\n",
       "│ 2   │ 2  │ \"Daniella\" │ 3000   │\n",
       "│ 3   │ 3  │ \"Kofi\"     │ 3500   │\n",
       "│ 4   │ 4  │ \"Vladmir\"  │ 3500   │\n",
       "│ 5   │ 5  │ \"Jean\"     │ 2500   │\n",
       "│ 6   │ 9  │ \"James\"    │ NA     │\n",
       "│ 7   │ 11 │ \"Ayo\"      │ NA     │\n",
       "│ 8   │ 20 │ \"Bill\"     │ NA     │\n",
       "│ 9   │ 6  │ NA         │ 3400   │\n",
       "│ 10  │ 8  │ NA         │ 2700   │\n",
       "│ 11  │ 23 │ NA         │ 4500   │"
      ]
     },
     "execution_count": 6,
     "metadata": {},
     "output_type": "execute_result"
    }
   ],
   "source": [
    "# Kind of Merging or Joining : Outer,Union\n",
    "join(employer,salary,on=:ID,kind=:outer)"
   ]
  },
  {
   "cell_type": "code",
   "execution_count": 7,
   "metadata": {},
   "outputs": [
    {
     "data": {
      "text/html": [
       "<table class=\"data-frame\"><thead><tr><th></th><th>ID</th><th>name</th><th>amount</th></tr></thead><tbody><tr><th>1</th><td>1</td><td>Matthews</td><td>2050</td></tr><tr><th>2</th><td>2</td><td>Daniella</td><td>3000</td></tr><tr><th>3</th><td>3</td><td>Kofi</td><td>3500</td></tr><tr><th>4</th><td>4</td><td>Vladmir</td><td>3500</td></tr><tr><th>5</th><td>5</td><td>Jean</td><td>2500</td></tr></tbody></table>"
      ],
      "text/plain": [
       "5×3 DataFrames.DataFrame\n",
       "│ Row │ ID │ name       │ amount │\n",
       "├─────┼────┼────────────┼────────┤\n",
       "│ 1   │ 1  │ \"Matthews\" │ 2050   │\n",
       "│ 2   │ 2  │ \"Daniella\" │ 3000   │\n",
       "│ 3   │ 3  │ \"Kofi\"     │ 3500   │\n",
       "│ 4   │ 4  │ \"Vladmir\"  │ 3500   │\n",
       "│ 5   │ 5  │ \"Jean\"     │ 2500   │"
      ]
     },
     "execution_count": 7,
     "metadata": {},
     "output_type": "execute_result"
    }
   ],
   "source": [
    "join(employer,salary,on=:ID,kind=:inner)"
   ]
  },
  {
   "cell_type": "markdown",
   "metadata": {},
   "source": [
    "#### Joining Without Key\n",
    "+ crosstab"
   ]
  },
  {
   "cell_type": "code",
   "execution_count": 8,
   "metadata": {},
   "outputs": [
    {
     "data": {
      "text/html": [
       "<table class=\"data-frame\"><thead><tr><th></th><th>ID</th><th>name</th><th>ID_1</th><th>amount</th></tr></thead><tbody><tr><th>1</th><td>1</td><td>Matthews</td><td>1</td><td>2050</td></tr><tr><th>2</th><td>1</td><td>Matthews</td><td>2</td><td>3000</td></tr><tr><th>3</th><td>1</td><td>Matthews</td><td>3</td><td>3500</td></tr><tr><th>4</th><td>1</td><td>Matthews</td><td>4</td><td>3500</td></tr><tr><th>5</th><td>1</td><td>Matthews</td><td>5</td><td>2500</td></tr><tr><th>6</th><td>1</td><td>Matthews</td><td>6</td><td>3400</td></tr><tr><th>7</th><td>1</td><td>Matthews</td><td>8</td><td>2700</td></tr><tr><th>8</th><td>1</td><td>Matthews</td><td>23</td><td>4500</td></tr><tr><th>9</th><td>2</td><td>Daniella</td><td>1</td><td>2050</td></tr><tr><th>10</th><td>2</td><td>Daniella</td><td>2</td><td>3000</td></tr><tr><th>11</th><td>2</td><td>Daniella</td><td>3</td><td>3500</td></tr><tr><th>12</th><td>2</td><td>Daniella</td><td>4</td><td>3500</td></tr><tr><th>13</th><td>2</td><td>Daniella</td><td>5</td><td>2500</td></tr><tr><th>14</th><td>2</td><td>Daniella</td><td>6</td><td>3400</td></tr><tr><th>15</th><td>2</td><td>Daniella</td><td>8</td><td>2700</td></tr><tr><th>16</th><td>2</td><td>Daniella</td><td>23</td><td>4500</td></tr><tr><th>17</th><td>3</td><td>Kofi</td><td>1</td><td>2050</td></tr><tr><th>18</th><td>3</td><td>Kofi</td><td>2</td><td>3000</td></tr><tr><th>19</th><td>3</td><td>Kofi</td><td>3</td><td>3500</td></tr><tr><th>20</th><td>3</td><td>Kofi</td><td>4</td><td>3500</td></tr><tr><th>21</th><td>3</td><td>Kofi</td><td>5</td><td>2500</td></tr><tr><th>22</th><td>3</td><td>Kofi</td><td>6</td><td>3400</td></tr><tr><th>23</th><td>3</td><td>Kofi</td><td>8</td><td>2700</td></tr><tr><th>24</th><td>3</td><td>Kofi</td><td>23</td><td>4500</td></tr><tr><th>25</th><td>4</td><td>Vladmir</td><td>1</td><td>2050</td></tr><tr><th>26</th><td>4</td><td>Vladmir</td><td>2</td><td>3000</td></tr><tr><th>27</th><td>4</td><td>Vladmir</td><td>3</td><td>3500</td></tr><tr><th>28</th><td>4</td><td>Vladmir</td><td>4</td><td>3500</td></tr><tr><th>29</th><td>4</td><td>Vladmir</td><td>5</td><td>2500</td></tr><tr><th>30</th><td>4</td><td>Vladmir</td><td>6</td><td>3400</td></tr><tr><th>&vellip;</th><td>&vellip;</td><td>&vellip;</td><td>&vellip;</td><td>&vellip;</td></tr></tbody></table>"
      ],
      "text/plain": [
       "64×4 DataFrames.DataFrame\n",
       "│ Row │ ID │ name       │ ID_1 │ amount │\n",
       "├─────┼────┼────────────┼──────┼────────┤\n",
       "│ 1   │ 1  │ \"Matthews\" │ 1    │ 2050   │\n",
       "│ 2   │ 1  │ \"Matthews\" │ 2    │ 3000   │\n",
       "│ 3   │ 1  │ \"Matthews\" │ 3    │ 3500   │\n",
       "│ 4   │ 1  │ \"Matthews\" │ 4    │ 3500   │\n",
       "│ 5   │ 1  │ \"Matthews\" │ 5    │ 2500   │\n",
       "│ 6   │ 1  │ \"Matthews\" │ 6    │ 3400   │\n",
       "│ 7   │ 1  │ \"Matthews\" │ 8    │ 2700   │\n",
       "│ 8   │ 1  │ \"Matthews\" │ 23   │ 4500   │\n",
       "│ 9   │ 2  │ \"Daniella\" │ 1    │ 2050   │\n",
       "│ 10  │ 2  │ \"Daniella\" │ 2    │ 3000   │\n",
       "│ 11  │ 2  │ \"Daniella\" │ 3    │ 3500   │\n",
       "⋮\n",
       "│ 53  │ 11 │ \"Ayo\"      │ 5    │ 2500   │\n",
       "│ 54  │ 11 │ \"Ayo\"      │ 6    │ 3400   │\n",
       "│ 55  │ 11 │ \"Ayo\"      │ 8    │ 2700   │\n",
       "│ 56  │ 11 │ \"Ayo\"      │ 23   │ 4500   │\n",
       "│ 57  │ 20 │ \"Bill\"     │ 1    │ 2050   │\n",
       "│ 58  │ 20 │ \"Bill\"     │ 2    │ 3000   │\n",
       "│ 59  │ 20 │ \"Bill\"     │ 3    │ 3500   │\n",
       "│ 60  │ 20 │ \"Bill\"     │ 4    │ 3500   │\n",
       "│ 61  │ 20 │ \"Bill\"     │ 5    │ 2500   │\n",
       "│ 62  │ 20 │ \"Bill\"     │ 6    │ 3400   │\n",
       "│ 63  │ 20 │ \"Bill\"     │ 8    │ 2700   │\n",
       "│ 64  │ 20 │ \"Bill\"     │ 23   │ 4500   │"
      ]
     },
     "execution_count": 8,
     "metadata": {},
     "output_type": "execute_result"
    }
   ],
   "source": [
    "join(employer,salary,kind=:cross)"
   ]
  },
  {
   "cell_type": "code",
   "execution_count": 9,
   "metadata": {},
   "outputs": [
    {
     "data": {
      "text/html": [
       "<table class=\"data-frame\"><thead><tr><th></th><th>ID</th><th>name</th></tr></thead><tbody><tr><th>1</th><td>9</td><td>James</td></tr><tr><th>2</th><td>11</td><td>Ayo</td></tr><tr><th>3</th><td>20</td><td>Bill</td></tr></tbody></table>"
      ],
      "text/plain": [
       "3×2 DataFrames.DataFrame\n",
       "│ Row │ ID │ name    │\n",
       "├─────┼────┼─────────┤\n",
       "│ 1   │ 9  │ \"James\" │\n",
       "│ 2   │ 11 │ \"Ayo\"   │\n",
       "│ 3   │ 20 │ \"Bill\"  │"
      ]
     },
     "execution_count": 9,
     "metadata": {},
     "output_type": "execute_result"
    }
   ],
   "source": [
    "# :anti => return rows that do not match with the keys\n",
    "join(employer,salary,on=:ID,kind=:anti)"
   ]
  },
  {
   "cell_type": "code",
   "execution_count": 10,
   "metadata": {},
   "outputs": [
    {
     "data": {
      "text/html": [
       "<table class=\"data-frame\"><thead><tr><th></th><th>ID</th><th>name</th></tr></thead><tbody><tr><th>1</th><td>1</td><td>Matthews</td></tr><tr><th>2</th><td>2</td><td>Daniella</td></tr><tr><th>3</th><td>3</td><td>Kofi</td></tr><tr><th>4</th><td>4</td><td>Vladmir</td></tr><tr><th>5</th><td>5</td><td>Jean</td></tr></tbody></table>"
      ],
      "text/plain": [
       "5×2 DataFrames.DataFrame\n",
       "│ Row │ ID │ name       │\n",
       "├─────┼────┼────────────┤\n",
       "│ 1   │ 1  │ \"Matthews\" │\n",
       "│ 2   │ 2  │ \"Daniella\" │\n",
       "│ 3   │ 3  │ \"Kofi\"     │\n",
       "│ 4   │ 4  │ \"Vladmir\"  │\n",
       "│ 5   │ 5  │ \"Jean\"     │"
      ]
     },
     "execution_count": 10,
     "metadata": {},
     "output_type": "execute_result"
    }
   ],
   "source": [
    "# :semi => rows that match keys\n",
    "join(employer,salary,on=:ID,kind=:semi)\n"
   ]
  },
  {
   "cell_type": "markdown",
   "metadata": {},
   "source": [
    " ### Practice with Real DataSet\n",
    "#### + From Datahub.io"
   ]
  },
  {
   "cell_type": "code",
   "execution_count": null,
   "metadata": {},
   "outputs": [],
   "source": [
    "using Requests"
   ]
  },
  {
   "cell_type": "code",
   "execution_count": 12,
   "metadata": {},
   "outputs": [
    {
     "data": {
      "text/html": [
       "<table class=\"data-frame\"><thead><tr><th></th><th>Symbol</th><th>Name</th><th>Sector</th></tr></thead><tbody><tr><th>1</th><td>MMM</td><td>3M Company</td><td>Industrials</td></tr><tr><th>2</th><td>ABT</td><td>Abbott Laboratories</td><td>Health Care</td></tr><tr><th>3</th><td>ABBV</td><td>AbbVie</td><td>Health Care</td></tr><tr><th>4</th><td>ACN</td><td>Accenture plc</td><td>Information Technology</td></tr><tr><th>5</th><td>ATVI</td><td>Activision Blizzard</td><td>Information Technology</td></tr><tr><th>6</th><td>AYI</td><td>Acuity Brands Inc</td><td>Industrials</td></tr><tr><th>7</th><td>ADBE</td><td>Adobe Systems Inc</td><td>Information Technology</td></tr><tr><th>8</th><td>AAP</td><td>Advance Auto Parts</td><td>Consumer Discretionary</td></tr><tr><th>9</th><td>AES</td><td>AES Corp</td><td>Utilities</td></tr><tr><th>10</th><td>AET</td><td>Aetna Inc</td><td>Health Care</td></tr><tr><th>11</th><td>AMG</td><td>Affiliated Managers Group Inc</td><td>Financials</td></tr><tr><th>12</th><td>AFL</td><td>AFLAC Inc</td><td>Financials</td></tr><tr><th>13</th><td>A</td><td>Agilent Technologies Inc</td><td>Health Care</td></tr><tr><th>14</th><td>APD</td><td>Air Products &amp; Chemicals Inc</td><td>Materials</td></tr><tr><th>15</th><td>AKAM</td><td>Akamai Technologies Inc</td><td>Information Technology</td></tr><tr><th>16</th><td>ALK</td><td>Alaska Air Group Inc</td><td>Industrials</td></tr><tr><th>17</th><td>ALB</td><td>Albemarle Corp</td><td>Materials</td></tr><tr><th>18</th><td>ALXN</td><td>Alexion Pharmaceuticals</td><td>Health Care</td></tr><tr><th>19</th><td>ALLE</td><td>Allegion</td><td>Industrials</td></tr><tr><th>20</th><td>AGN</td><td>Allergan, Plc</td><td>Health Care</td></tr><tr><th>21</th><td>ADS</td><td>Alliance Data Systems</td><td>Information Technology</td></tr><tr><th>22</th><td>LNT</td><td>Alliant Energy Corp</td><td>Utilities</td></tr><tr><th>23</th><td>ALL</td><td>Allstate Corp</td><td>Financials</td></tr><tr><th>24</th><td>GOOGL</td><td>Alphabet Inc Class A</td><td>Information Technology</td></tr><tr><th>25</th><td>GOOG</td><td>Alphabet Inc Class C</td><td>Information Technology</td></tr><tr><th>26</th><td>MO</td><td>Altria Group Inc</td><td>Consumer Staples</td></tr><tr><th>27</th><td>AMZN</td><td>Amazon.com Inc</td><td>Consumer Discretionary</td></tr><tr><th>28</th><td>AEE</td><td>Ameren Corp</td><td>Utilities</td></tr><tr><th>29</th><td>AAL</td><td>American Airlines Group</td><td>Industrials</td></tr><tr><th>30</th><td>AEP</td><td>American Electric Power</td><td>Utilities</td></tr><tr><th>&vellip;</th><td>&vellip;</td><td>&vellip;</td><td>&vellip;</td></tr></tbody></table>"
      ],
      "text/plain": [
       "505×3 DataFrames.DataFrame\n",
       "│ Row │ Symbol │ Name                            │ Sector                   │\n",
       "├─────┼────────┼─────────────────────────────────┼──────────────────────────┤\n",
       "│ 1   │ \"MMM\"  │ \"3M Company\"                    │ \"Industrials\"            │\n",
       "│ 2   │ \"ABT\"  │ \"Abbott Laboratories\"           │ \"Health Care\"            │\n",
       "│ 3   │ \"ABBV\" │ \"AbbVie\"                        │ \"Health Care\"            │\n",
       "│ 4   │ \"ACN\"  │ \"Accenture plc\"                 │ \"Information Technology\" │\n",
       "│ 5   │ \"ATVI\" │ \"Activision Blizzard\"           │ \"Information Technology\" │\n",
       "│ 6   │ \"AYI\"  │ \"Acuity Brands Inc\"             │ \"Industrials\"            │\n",
       "│ 7   │ \"ADBE\" │ \"Adobe Systems Inc\"             │ \"Information Technology\" │\n",
       "│ 8   │ \"AAP\"  │ \"Advance Auto Parts\"            │ \"Consumer Discretionary\" │\n",
       "│ 9   │ \"AES\"  │ \"AES Corp\"                      │ \"Utilities\"              │\n",
       "│ 10  │ \"AET\"  │ \"Aetna Inc\"                     │ \"Health Care\"            │\n",
       "│ 11  │ \"AMG\"  │ \"Affiliated Managers Group Inc\" │ \"Financials\"             │\n",
       "⋮\n",
       "│ 494 │ \"WYN\"  │ \"Wyndham Worldwide\"             │ \"Consumer Discretionary\" │\n",
       "│ 495 │ \"WYNN\" │ \"Wynn Resorts Ltd\"              │ \"Consumer Discretionary\" │\n",
       "│ 496 │ \"XEL\"  │ \"Xcel Energy Inc\"               │ \"Utilities\"              │\n",
       "│ 497 │ \"XRX\"  │ \"Xerox Corp.\"                   │ \"Information Technology\" │\n",
       "│ 498 │ \"XLNX\" │ \"Xilinx Inc\"                    │ \"Information Technology\" │\n",
       "│ 499 │ \"XL\"   │ \"XL Capital\"                    │ \"Financials\"             │\n",
       "│ 500 │ \"XYL\"  │ \"Xylem Inc.\"                    │ \"Industrials\"            │\n",
       "│ 501 │ \"YHOO\" │ \"Yahoo Inc.\"                    │ \"Information Technology\" │\n",
       "│ 502 │ \"YUM\"  │ \"Yum! Brands Inc\"               │ \"Consumer Discretionary\" │\n",
       "│ 503 │ \"ZBH\"  │ \"Zimmer Biomet Holdings\"        │ \"Health Care\"            │\n",
       "│ 504 │ \"ZION\" │ \"Zions Bancorp\"                 │ \"Financials\"             │\n",
       "│ 505 │ \"ZTS\"  │ \"Zoetis\"                        │ \"Health Care\"            │"
      ]
     },
     "execution_count": 12,
     "metadata": {},
     "output_type": "execute_result"
    }
   ],
   "source": [
    "resp_cons = get_streaming(\"https://pkgstore.datahub.io/core/s-and-p-500-companies/constituents_csv/data/d477849c9626b01a22abb4dc58571a8e/constituents_csv.csv\")\n",
    "constituent = readtable(resp_cons)"
   ]
  },
  {
   "cell_type": "code",
   "execution_count": 13,
   "metadata": {},
   "outputs": [
    {
     "data": {
      "text/html": [
       "<table class=\"data-frame\"><thead><tr><th></th><th>Symbol</th><th>Name</th><th>Sector</th><th>Price</th><th>Dividend_Yield</th><th>Price_Earnings</th><th>Earnings_Share</th><th>Book_Value</th><th>x52_week_low</th><th>x52_week_high</th><th>Market_Cap</th><th>EBITDA</th><th>Price_Sales</th><th>Price_Book</th><th>SEC_Filings</th></tr></thead><tbody><tr><th>1</th><td>MMM</td><td>3M Company</td><td>Industrials</td><td>189.09</td><td>2.48</td><td>23.17</td><td>8.16</td><td>17.26</td><td>158.28</td><td>190.54</td><td>112.74</td><td>8.7</td><td>3.74</td><td>10.95</td><td>http://www.sec.gov/cgi-bin/browse-edgar?action=getcompany&amp;CIK=MMM</td></tr><tr><th>2</th><td>ABT</td><td>Abbott Laboratories</td><td>Health Care</td><td>45.0</td><td>2.34</td><td>48.03</td><td>0.94</td><td>13.94</td><td>36.76</td><td>45.83</td><td>77.76</td><td>4.59</td><td>3.74</td><td>3.24</td><td>http://www.sec.gov/cgi-bin/browse-edgar?action=getcompany&amp;CIK=ABT</td></tr><tr><th>3</th><td>ABBV</td><td>AbbVie</td><td>Health Care</td><td>63.69</td><td>4.04</td><td>17.55</td><td>3.63</td><td>2.91</td><td>54.41</td><td>68.12</td><td>101.52</td><td>10.95</td><td>3.95</td><td>21.83</td><td>http://www.sec.gov/cgi-bin/browse-edgar?action=getcompany&amp;CIK=ABBV</td></tr><tr><th>4</th><td>ACN</td><td>Accenture plc</td><td>Information Technology</td><td>124.14</td><td>1.96</td><td>18.37</td><td>6.76</td><td>11.95</td><td>102.1</td><td>125.72</td><td>77.29</td><td>5.66</td><td>2.3</td><td>10.32</td><td>http://www.sec.gov/cgi-bin/browse-edgar?action=getcompany&amp;CIK=ACN</td></tr><tr><th>5</th><td>ATVI</td><td>Activision Blizzard</td><td>Information Technology</td><td>48.06</td><td>0.64</td><td>37.55</td><td>1.28</td><td>12.23</td><td>30.37</td><td>48.36</td><td>36.13</td><td>2.14</td><td>5.44</td><td>3.91</td><td>http://www.sec.gov/cgi-bin/browse-edgar?action=getcompany&amp;CIK=ATVI</td></tr><tr><th>6</th><td>AYI</td><td>Acuity Brands Inc</td><td>Industrials</td><td>205.41</td><td>0.25</td><td>29.68</td><td>6.92</td><td>39.5</td><td>193.06</td><td>280.89</td><td>9.0</td><td>0.5862</td><td>2.64</td><td>5.19</td><td>http://www.sec.gov/cgi-bin/browse-edgar?action=getcompany&amp;CIK=AYI</td></tr><tr><th>7</th><td>ADBE</td><td>Adobe Systems Inc</td><td>Information Technology</td><td>119.98</td><td>0.0</td><td>51.72</td><td>2.32</td><td>15.02</td><td>83.25</td><td>120.69</td><td>59.28</td><td>1.82</td><td>10.14</td><td>8.0</td><td>http://www.sec.gov/cgi-bin/browse-edgar?action=getcompany&amp;CIK=ADBE</td></tr><tr><th>8</th><td>AAP</td><td>Advance Auto Parts</td><td>Consumer Discretionary</td><td>151.99</td><td>0.15</td><td>24.51</td><td>6.2</td><td>39.66</td><td>132.98</td><td>177.83</td><td>11.18</td><td>1.12</td><td>1.19</td><td>3.89</td><td>http://www.sec.gov/cgi-bin/browse-edgar?action=getcompany&amp;CIK=AAP</td></tr><tr><th>9</th><td>AES</td><td>AES Corp</td><td>Utilities</td><td>11.33</td><td>4.16</td><td>NA</td><td>-1.71</td><td>4.24</td><td>10.27</td><td>13.32</td><td>7.47</td><td>3.42</td><td>0.56</td><td>2.72</td><td>http://www.sec.gov/cgi-bin/browse-edgar?action=getcompany&amp;CIK=AES</td></tr><tr><th>10</th><td>AET</td><td>Aetna Inc</td><td>Health Care</td><td>130.59</td><td>1.53</td><td>20.37</td><td>6.41</td><td>50.84</td><td>104.59</td><td>136.5</td><td>45.93</td><td>6.2</td><td>0.73</td><td>2.58</td><td>http://www.sec.gov/cgi-bin/browse-edgar?action=getcompany&amp;CIK=AET</td></tr><tr><th>11</th><td>AMG</td><td>Affiliated Managers Group Inc</td><td>Financials</td><td>166.56</td><td>0.47</td><td>19.44</td><td>8.57</td><td>63.84</td><td>130.48</td><td>179.85</td><td>9.44</td><td>0.835</td><td>4.32</td><td>2.62</td><td>http://www.sec.gov/cgi-bin/browse-edgar?action=getcompany&amp;CIK=AMG</td></tr><tr><th>12</th><td>AFL</td><td>AFLAC Inc</td><td>Financials</td><td>71.95</td><td>2.38</td><td>11.21</td><td>6.42</td><td>50.47</td><td>59.66</td><td>74.5</td><td>28.88</td><td>4.78</td><td>1.27</td><td>1.43</td><td>http://www.sec.gov/cgi-bin/browse-edgar?action=getcompany&amp;CIK=AFL</td></tr><tr><th>13</th><td>A</td><td>Agilent Technologies Inc</td><td>Health Care</td><td>51.21</td><td>1.02</td><td>32.85</td><td>1.56</td><td>13.35</td><td>37.62</td><td>52.26</td><td>16.49</td><td>0.942</td><td>3.89</td><td>3.84</td><td>http://www.sec.gov/cgi-bin/browse-edgar?action=getcompany&amp;CIK=A</td></tr><tr><th>14</th><td>APD</td><td>Air Products &amp; Chemicals Inc</td><td>Materials</td><td>139.64</td><td>2.72</td><td>53.77</td><td>2.6</td><td>32.91</td><td>123.05</td><td>150.45</td><td>30.38</td><td>3.13</td><td>3.18</td><td>4.23</td><td>http://www.sec.gov/cgi-bin/browse-edgar?action=getcompany&amp;CIK=APD</td></tr><tr><th>15</th><td>AKAM</td><td>Akamai Technologies Inc</td><td>Information Technology</td><td>63.3</td><td>NA</td><td>35.36</td><td>1.79</td><td>18.61</td><td>47.8</td><td>71.64</td><td>10.96</td><td>0.70798</td><td>4.67</td><td>3.39</td><td>http://www.sec.gov/cgi-bin/browse-edgar?action=getcompany&amp;CIK=AKAM</td></tr><tr><th>16</th><td>ALK</td><td>Alaska Air Group Inc</td><td>Industrials</td><td>95.12</td><td>1.21</td><td>14.54</td><td>6.54</td><td>23.77</td><td>54.51</td><td>101.43</td><td>11.74</td><td>1.82</td><td>2.01</td><td>4.07</td><td>http://www.sec.gov/cgi-bin/browse-edgar?action=getcompany&amp;CIK=ALK</td></tr><tr><th>17</th><td>ALB</td><td>Albemarle Corp</td><td>Materials</td><td>103.79</td><td>1.22</td><td>18.26</td><td>5.68</td><td>33.73</td><td>58.6</td><td>105.2</td><td>11.68</td><td>0.70201</td><td>4.29</td><td>3.03</td><td>http://www.sec.gov/cgi-bin/browse-edgar?action=getcompany&amp;CIK=ALB</td></tr><tr><th>18</th><td>ALXN</td><td>Alexion Pharmaceuticals</td><td>Health Care</td><td>129.18</td><td>NA</td><td>73.4</td><td>1.76</td><td>38.81</td><td>109.12</td><td>162.0</td><td>29.02</td><td>1.17</td><td>9.71</td><td>3.44</td><td>http://www.sec.gov/cgi-bin/browse-edgar?action=getcompany&amp;CIK=ALXN</td></tr><tr><th>19</th><td>ALLE</td><td>Allegion</td><td>Industrials</td><td>72.86</td><td>0.87</td><td>30.87</td><td>2.36</td><td>1.19</td><td>61.47</td><td>75.0</td><td>6.96</td><td>0.4789</td><td>3.12</td><td>61.57</td><td>http://www.sec.gov/cgi-bin/browse-edgar?action=getcompany&amp;CIK=ALLE</td></tr><tr><th>20</th><td>AGN</td><td>Allergan, Plc</td><td>Health Care</td><td>239.6</td><td>1.14</td><td>6.28</td><td>38.18</td><td>212.79</td><td>184.5</td><td>299.11</td><td>80.32</td><td>6.1</td><td>5.58</td><td>1.14</td><td>http://www.sec.gov/cgi-bin/browse-edgar?action=getcompany&amp;CIK=AGN</td></tr><tr><th>21</th><td>ADS</td><td>Alliance Data Systems</td><td>Information Technology</td><td>245.05</td><td>0.85</td><td>33.39</td><td>7.34</td><td>28.89</td><td>185.02</td><td>249.22</td><td>13.7</td><td>1.46</td><td>1.92</td><td>8.5</td><td>http://www.sec.gov/cgi-bin/browse-edgar?action=getcompany&amp;CIK=ADS</td></tr><tr><th>22</th><td>LNT</td><td>Alliant Energy Corp</td><td>Utilities</td><td>39.28</td><td>3.22</td><td>24.01</td><td>1.64</td><td>16.96</td><td>34.04</td><td>40.99</td><td>8.94</td><td>1.03</td><td>2.69</td><td>2.31</td><td>http://www.sec.gov/cgi-bin/browse-edgar?action=getcompany&amp;CIK=LNT</td></tr><tr><th>23</th><td>ALL</td><td>Allstate Corp</td><td>Financials</td><td>81.46</td><td>1.66</td><td>17.44</td><td>4.67</td><td>51.44</td><td>63.73</td><td>83.05</td><td>29.74</td><td>3.46</td><td>0.81</td><td>1.58</td><td>http://www.sec.gov/cgi-bin/browse-edgar?action=getcompany&amp;CIK=ALL</td></tr><tr><th>24</th><td>GOOGL</td><td>Alphabet Inc Class A</td><td>Information Technology</td><td>851.15</td><td>NA</td><td>30.53</td><td>27.88</td><td>201.12</td><td>672.66</td><td>867.0</td><td>588.5</td><td>29.86</td><td>6.49</td><td>4.21</td><td>http://www.sec.gov/cgi-bin/browse-edgar?action=getcompany&amp;CIK=GOOGL</td></tr><tr><th>25</th><td>GOOG</td><td>Alphabet Inc Class C</td><td>Information Technology</td><td>831.91</td><td>NA</td><td>29.84</td><td>27.88</td><td>201.12</td><td>663.28</td><td>841.95</td><td>575.2</td><td>29.86</td><td>6.34</td><td>4.12</td><td>http://www.sec.gov/cgi-bin/browse-edgar?action=getcompany&amp;CIK=GOOG</td></tr><tr><th>26</th><td>MO</td><td>Altria Group Inc</td><td>Consumer Staples</td><td>76.1</td><td>3.23</td><td>10.45</td><td>7.28</td><td>6.58</td><td>59.48</td><td>76.3</td><td>147.64</td><td>9.5</td><td>7.58</td><td>11.48</td><td>http://www.sec.gov/cgi-bin/browse-edgar?action=getcompany&amp;CIK=MO</td></tr><tr><th>27</th><td>AMZN</td><td>Amazon.com Inc</td><td>Consumer Discretionary</td><td>846.02</td><td>NA</td><td>172.66</td><td>4.9</td><td>40.43</td><td>538.58</td><td>860.86</td><td>403.7</td><td>11.67</td><td>2.97</td><td>20.94</td><td>http://www.sec.gov/cgi-bin/browse-edgar?action=getcompany&amp;CIK=AMZN</td></tr><tr><th>28</th><td>AEE</td><td>Ameren Corp</td><td>Utilities</td><td>54.82</td><td>3.21</td><td>20.46</td><td>2.68</td><td>29.28</td><td>46.29</td><td>55.51</td><td>13.3</td><td>2.3</td><td>2.27</td><td>1.87</td><td>http://www.sec.gov/cgi-bin/browse-edgar?action=getcompany&amp;CIK=AEE</td></tr><tr><th>29</th><td>AAL</td><td>American Airlines Group</td><td>Industrials</td><td>44.84</td><td>0.85</td><td>9.32</td><td>4.81</td><td>7.46</td><td>24.85</td><td>50.64</td><td>22.61</td><td>7.83</td><td>0.57</td><td>6.07</td><td>http://www.sec.gov/cgi-bin/browse-edgar?action=getcompany&amp;CIK=AAL</td></tr><tr><th>30</th><td>AEP</td><td>American Electric Power</td><td>Utilities</td><td>66.24</td><td>3.55</td><td>53.29</td><td>1.24</td><td>35.38</td><td>57.89</td><td>71.32</td><td>32.57</td><td>5.29</td><td>1.99</td><td>1.88</td><td>http://www.sec.gov/cgi-bin/browse-edgar?action=getcompany&amp;CIK=AEP</td></tr><tr><th>&vellip;</th><td>&vellip;</td><td>&vellip;</td><td>&vellip;</td><td>&vellip;</td><td>&vellip;</td><td>&vellip;</td><td>&vellip;</td><td>&vellip;</td><td>&vellip;</td><td>&vellip;</td><td>&vellip;</td><td>&vellip;</td><td>&vellip;</td><td>&vellip;</td><td>&vellip;</td></tr></tbody></table>"
      ],
      "text/plain": [
       "505×15 DataFrames.DataFrame\n",
       "│ Row │ Symbol │ Name                            │ Sector                   │\n",
       "├─────┼────────┼─────────────────────────────────┼──────────────────────────┤\n",
       "│ 1   │ \"MMM\"  │ \"3M Company\"                    │ \"Industrials\"            │\n",
       "│ 2   │ \"ABT\"  │ \"Abbott Laboratories\"           │ \"Health Care\"            │\n",
       "│ 3   │ \"ABBV\" │ \"AbbVie\"                        │ \"Health Care\"            │\n",
       "│ 4   │ \"ACN\"  │ \"Accenture plc\"                 │ \"Information Technology\" │\n",
       "│ 5   │ \"ATVI\" │ \"Activision Blizzard\"           │ \"Information Technology\" │\n",
       "│ 6   │ \"AYI\"  │ \"Acuity Brands Inc\"             │ \"Industrials\"            │\n",
       "│ 7   │ \"ADBE\" │ \"Adobe Systems Inc\"             │ \"Information Technology\" │\n",
       "│ 8   │ \"AAP\"  │ \"Advance Auto Parts\"            │ \"Consumer Discretionary\" │\n",
       "│ 9   │ \"AES\"  │ \"AES Corp\"                      │ \"Utilities\"              │\n",
       "│ 10  │ \"AET\"  │ \"Aetna Inc\"                     │ \"Health Care\"            │\n",
       "│ 11  │ \"AMG\"  │ \"Affiliated Managers Group Inc\" │ \"Financials\"             │\n",
       "⋮\n",
       "│ 494 │ \"WYN\"  │ \"Wyndham Worldwide\"             │ \"Consumer Discretionary\" │\n",
       "│ 495 │ \"WYNN\" │ \"Wynn Resorts Ltd\"              │ \"Consumer Discretionary\" │\n",
       "│ 496 │ \"XEL\"  │ \"Xcel Energy Inc\"               │ \"Utilities\"              │\n",
       "│ 497 │ \"XRX\"  │ \"Xerox Corp.\"                   │ \"Information Technology\" │\n",
       "│ 498 │ \"XLNX\" │ \"Xilinx Inc\"                    │ \"Information Technology\" │\n",
       "│ 499 │ \"XL\"   │ \"XL Capital\"                    │ \"Financials\"             │\n",
       "│ 500 │ \"XYL\"  │ \"Xylem Inc.\"                    │ \"Industrials\"            │\n",
       "│ 501 │ \"YHOO\" │ \"Yahoo Inc.\"                    │ \"Information Technology\" │\n",
       "│ 502 │ \"YUM\"  │ \"Yum! Brands Inc\"               │ \"Consumer Discretionary\" │\n",
       "│ 503 │ \"ZBH\"  │ \"Zimmer Biomet Holdings\"        │ \"Health Care\"            │\n",
       "│ 504 │ \"ZION\" │ \"Zions Bancorp\"                 │ \"Financials\"             │\n",
       "│ 505 │ \"ZTS\"  │ \"Zoetis\"                        │ \"Health Care\"            │\n",
       "\n",
       "│ Row │ Price  │ Dividend_Yield │ Price_Earnings │ Earnings_Share │ Book_Value │\n",
       "├─────┼────────┼────────────────┼────────────────┼────────────────┼────────────┤\n",
       "│ 1   │ 189.09 │ 2.48           │ 23.17          │ 8.16           │ 17.26      │\n",
       "│ 2   │ 45.0   │ 2.34           │ 48.03          │ 0.94           │ 13.94      │\n",
       "│ 3   │ 63.69  │ 4.04           │ 17.55          │ 3.63           │ 2.91       │\n",
       "│ 4   │ 124.14 │ 1.96           │ 18.37          │ 6.76           │ 11.95      │\n",
       "│ 5   │ 48.06  │ 0.64           │ 37.55          │ 1.28           │ 12.23      │\n",
       "│ 6   │ 205.41 │ 0.25           │ 29.68          │ 6.92           │ 39.5       │\n",
       "│ 7   │ 119.98 │ 0.0            │ 51.72          │ 2.32           │ 15.02      │\n",
       "│ 8   │ 151.99 │ 0.15           │ 24.51          │ 6.2            │ 39.66      │\n",
       "│ 9   │ 11.33  │ 4.16           │ NA             │ -1.71          │ 4.24       │\n",
       "│ 10  │ 130.59 │ 1.53           │ 20.37          │ 6.41           │ 50.84      │\n",
       "│ 11  │ 166.56 │ 0.47           │ 19.44          │ 8.57           │ 63.84      │\n",
       "⋮\n",
       "│ 494 │ 82.19  │ 2.52           │ 14.86          │ 5.53           │ 6.76       │\n",
       "│ 495 │ 99.46  │ 1.98           │ 41.79          │ 2.38           │ 1.55       │\n",
       "│ 496 │ 43.82  │ 3.29           │ 19.85          │ 2.21           │ 21.73      │\n",
       "│ 497 │ 7.36   │ 3.4            │ NA             │ -0.49          │ 4.74       │\n",
       "│ 498 │ 58.75  │ 2.25           │ 25.77          │ 2.28           │ 9.97       │\n",
       "│ 499 │ 40.13  │ 2.18           │ 25.72          │ 1.56           │ 40.99      │\n",
       "│ 500 │ 48.78  │ 1.48           │ 33.64          │ 1.45           │ 12.21      │\n",
       "│ 501 │ 45.73  │ NA             │ NA             │ -0.23          │ 32.5       │\n",
       "│ 502 │ 64.02  │ 2.66           │ 15.83          │ 4.04           │ -15.93     │\n",
       "│ 503 │ 117.07 │ 0.81           │ 77.53          │ 1.51           │ 48.2       │\n",
       "│ 504 │ 45.28  │ 0.71           │ 22.75          │ 1.99           │ 34.1       │\n",
       "│ 505 │ 53.07  │ 0.79           │ 32.16          │ 1.65           │ 3.02       │\n",
       "\n",
       "│ Row │ x52_week_low │ x52_week_high │ Market_Cap │ EBITDA  │ Price_Sales │\n",
       "├─────┼──────────────┼───────────────┼────────────┼─────────┼─────────────┤\n",
       "│ 1   │ 158.28       │ 190.54        │ 112.74     │ 8.7     │ 3.74        │\n",
       "│ 2   │ 36.76        │ 45.83         │ 77.76      │ 4.59    │ 3.74        │\n",
       "│ 3   │ 54.41        │ 68.12         │ 101.52     │ 10.95   │ 3.95        │\n",
       "│ 4   │ 102.1        │ 125.72        │ 77.29      │ 5.66    │ 2.3         │\n",
       "│ 5   │ 30.37        │ 48.36         │ 36.13      │ 2.14    │ 5.44        │\n",
       "│ 6   │ 193.06       │ 280.89        │ 9.0        │ 0.5862  │ 2.64        │\n",
       "│ 7   │ 83.25        │ 120.69        │ 59.28      │ 1.82    │ 10.14       │\n",
       "│ 8   │ 132.98       │ 177.83        │ 11.18      │ 1.12    │ 1.19        │\n",
       "│ 9   │ 10.27        │ 13.32         │ 7.47       │ 3.42    │ 0.56        │\n",
       "│ 10  │ 104.59       │ 136.5         │ 45.93      │ 6.2     │ 0.73        │\n",
       "│ 11  │ 130.48       │ 179.85        │ 9.44       │ 0.835   │ 4.32        │\n",
       "⋮\n",
       "│ 494 │ 62.6         │ 86.72         │ 8.63       │ 1.31    │ 1.68        │\n",
       "│ 495 │ 79.77        │ 109.5         │ 10.11      │ 0.95059 │ 2.28        │\n",
       "│ 496 │ 38.0         │ 45.42         │ 22.23      │ 3.65    │ 1.99        │\n",
       "│ 497 │ 6.46         │ 11.39         │ 7.48       │ 1.52    │ 0.7         │\n",
       "│ 498 │ 41.53        │ 62.24         │ 14.62      │ 0.76713 │ 6.33        │\n",
       "│ 499 │ 30.33        │ 41.39         │ 10.63      │ 1.1     │ 1.0         │\n",
       "│ 500 │ 37.58        │ 54.99         │ 8.75       │ 0.615   │ 2.31        │\n",
       "│ 501 │ 32.09        │ 46.72         │ 43.74      │ 0.2268  │ 8.45        │\n",
       "│ 502 │ 59.57        │ 91.99         │ 22.65      │ 1.96    │ 3.59        │\n",
       "│ 503 │ 95.63        │ 133.21        │ 23.54      │ 2.8     │ 3.07        │\n",
       "│ 504 │ 23.02        │ 48.33         │ 9.17       │ 0.0     │ 4.01        │\n",
       "│ 505 │ 39.35        │ 56.5          │ 26.11      │ 1.7     │ 5.34        │\n",
       "\n",
       "│ Row │ Price_Book │\n",
       "├─────┼────────────┤\n",
       "│ 1   │ 10.95      │\n",
       "│ 2   │ 3.24       │\n",
       "│ 3   │ 21.83      │\n",
       "│ 4   │ 10.32      │\n",
       "│ 5   │ 3.91       │\n",
       "│ 6   │ 5.19       │\n",
       "│ 7   │ 8.0        │\n",
       "│ 8   │ 3.89       │\n",
       "│ 9   │ 2.72       │\n",
       "│ 10  │ 2.58       │\n",
       "│ 11  │ 2.62       │\n",
       "⋮\n",
       "│ 494 │ 12.17      │\n",
       "│ 495 │ 64.59      │\n",
       "│ 496 │ 2.01       │\n",
       "│ 497 │ 1.57       │\n",
       "│ 498 │ 5.9        │\n",
       "│ 499 │ 0.97       │\n",
       "│ 500 │ 3.97       │\n",
       "│ 501 │ 1.4        │\n",
       "│ 502 │ NA         │\n",
       "│ 503 │ 2.43       │\n",
       "│ 504 │ 1.33       │\n",
       "│ 505 │ 17.59      │\n",
       "\n",
       "│ Row │ SEC_Filings                                                          │\n",
       "├─────┼──────────────────────────────────────────────────────────────────────┤\n",
       "│ 1   │ \"http://www.sec.gov/cgi-bin/browse-edgar?action=getcompany&CIK=MMM\"  │\n",
       "│ 2   │ \"http://www.sec.gov/cgi-bin/browse-edgar?action=getcompany&CIK=ABT\"  │\n",
       "│ 3   │ \"http://www.sec.gov/cgi-bin/browse-edgar?action=getcompany&CIK=ABBV\" │\n",
       "│ 4   │ \"http://www.sec.gov/cgi-bin/browse-edgar?action=getcompany&CIK=ACN\"  │\n",
       "│ 5   │ \"http://www.sec.gov/cgi-bin/browse-edgar?action=getcompany&CIK=ATVI\" │\n",
       "│ 6   │ \"http://www.sec.gov/cgi-bin/browse-edgar?action=getcompany&CIK=AYI\"  │\n",
       "│ 7   │ \"http://www.sec.gov/cgi-bin/browse-edgar?action=getcompany&CIK=ADBE\" │\n",
       "│ 8   │ \"http://www.sec.gov/cgi-bin/browse-edgar?action=getcompany&CIK=AAP\"  │\n",
       "│ 9   │ \"http://www.sec.gov/cgi-bin/browse-edgar?action=getcompany&CIK=AES\"  │\n",
       "│ 10  │ \"http://www.sec.gov/cgi-bin/browse-edgar?action=getcompany&CIK=AET\"  │\n",
       "│ 11  │ \"http://www.sec.gov/cgi-bin/browse-edgar?action=getcompany&CIK=AMG\"  │\n",
       "⋮\n",
       "│ 494 │ \"http://www.sec.gov/cgi-bin/browse-edgar?action=getcompany&CIK=WYN\"  │\n",
       "│ 495 │ \"http://www.sec.gov/cgi-bin/browse-edgar?action=getcompany&CIK=WYNN\" │\n",
       "│ 496 │ \"http://www.sec.gov/cgi-bin/browse-edgar?action=getcompany&CIK=XEL\"  │\n",
       "│ 497 │ \"http://www.sec.gov/cgi-bin/browse-edgar?action=getcompany&CIK=XRX\"  │\n",
       "│ 498 │ \"http://www.sec.gov/cgi-bin/browse-edgar?action=getcompany&CIK=XLNX\" │\n",
       "│ 499 │ \"http://www.sec.gov/cgi-bin/browse-edgar?action=getcompany&CIK=XL\"   │\n",
       "│ 500 │ \"http://www.sec.gov/cgi-bin/browse-edgar?action=getcompany&CIK=XYL\"  │\n",
       "│ 501 │ \"http://www.sec.gov/cgi-bin/browse-edgar?action=getcompany&CIK=YHOO\" │\n",
       "│ 502 │ \"http://www.sec.gov/cgi-bin/browse-edgar?action=getcompany&CIK=YUM\"  │\n",
       "│ 503 │ \"http://www.sec.gov/cgi-bin/browse-edgar?action=getcompany&CIK=ZBH\"  │\n",
       "│ 504 │ \"http://www.sec.gov/cgi-bin/browse-edgar?action=getcompany&CIK=ZION\" │\n",
       "│ 505 │ \"http://www.sec.gov/cgi-bin/browse-edgar?action=getcompany&CIK=ZTS\"  │"
      ]
     },
     "execution_count": 13,
     "metadata": {},
     "output_type": "execute_result"
    }
   ],
   "source": [
    "resp_cons_financ = get_streaming(\"https://pkgstore.datahub.io/core/s-and-p-500-companies/constituents-financials_csv/data/958f8529199d73e1e143e91513f04840/constituents-financials_csv.csv\")\n",
    "constituent_finan = readtable(resp_cons_financ)"
   ]
  },
  {
   "cell_type": "code",
   "execution_count": 14,
   "metadata": {},
   "outputs": [
    {
     "data": {
      "text/html": [
       "<table class=\"data-frame\"><thead><tr><th></th><th>Symbol</th><th>Name</th><th>Sector</th><th>Symbol_1</th><th>Sector_1</th><th>Price</th><th>Dividend_Yield</th><th>Price_Earnings</th><th>Earnings_Share</th><th>Book_Value</th><th>x52_week_low</th><th>x52_week_high</th><th>Market_Cap</th><th>EBITDA</th><th>Price_Sales</th><th>Price_Book</th><th>SEC_Filings</th></tr></thead><tbody><tr><th>1</th><td>MMM</td><td>3M Company</td><td>Industrials</td><td>MMM</td><td>Industrials</td><td>189.09</td><td>2.48</td><td>23.17</td><td>8.16</td><td>17.26</td><td>158.28</td><td>190.54</td><td>112.74</td><td>8.7</td><td>3.74</td><td>10.95</td><td>http://www.sec.gov/cgi-bin/browse-edgar?action=getcompany&amp;CIK=MMM</td></tr><tr><th>2</th><td>AES</td><td>AES Corp</td><td>Utilities</td><td>AES</td><td>Utilities</td><td>11.33</td><td>4.16</td><td>NA</td><td>-1.71</td><td>4.24</td><td>10.27</td><td>13.32</td><td>7.47</td><td>3.42</td><td>0.56</td><td>2.72</td><td>http://www.sec.gov/cgi-bin/browse-edgar?action=getcompany&amp;CIK=AES</td></tr><tr><th>3</th><td>AFL</td><td>AFLAC Inc</td><td>Financials</td><td>AFL</td><td>Financials</td><td>71.95</td><td>2.38</td><td>11.21</td><td>6.42</td><td>50.47</td><td>59.66</td><td>74.5</td><td>28.88</td><td>4.78</td><td>1.27</td><td>1.43</td><td>http://www.sec.gov/cgi-bin/browse-edgar?action=getcompany&amp;CIK=AFL</td></tr><tr><th>4</th><td>AME</td><td>AMETEK Inc</td><td>Industrials</td><td>AME</td><td>Industrials</td><td>54.51</td><td>0.66</td><td>24.89</td><td>2.19</td><td>14.2</td><td>43.28</td><td>55.48</td><td>12.51</td><td>1.01</td><td>3.26</td><td>3.85</td><td>http://www.sec.gov/cgi-bin/browse-edgar?action=getcompany&amp;CIK=AME</td></tr><tr><th>5</th><td>T</td><td>AT&amp;T Inc</td><td>Telecommunications Services</td><td>T</td><td>Telecommunications Services</td><td>41.88</td><td>4.67</td><td>19.95</td><td>2.1</td><td>20.06</td><td>36.1</td><td>43.89</td><td>257.21</td><td>49.74</td><td>1.57</td><td>2.09</td><td>http://www.sec.gov/cgi-bin/browse-edgar?action=getcompany&amp;CIK=T</td></tr><tr><th>6</th><td>ABBV</td><td>AbbVie</td><td>Health Care</td><td>ABBV</td><td>Health Care</td><td>63.69</td><td>4.04</td><td>17.55</td><td>3.63</td><td>2.91</td><td>54.41</td><td>68.12</td><td>101.52</td><td>10.95</td><td>3.95</td><td>21.83</td><td>http://www.sec.gov/cgi-bin/browse-edgar?action=getcompany&amp;CIK=ABBV</td></tr><tr><th>7</th><td>ABT</td><td>Abbott Laboratories</td><td>Health Care</td><td>ABT</td><td>Health Care</td><td>45.0</td><td>2.34</td><td>48.03</td><td>0.94</td><td>13.94</td><td>36.76</td><td>45.83</td><td>77.76</td><td>4.59</td><td>3.74</td><td>3.24</td><td>http://www.sec.gov/cgi-bin/browse-edgar?action=getcompany&amp;CIK=ABT</td></tr><tr><th>8</th><td>ACN</td><td>Accenture plc</td><td>Information Technology</td><td>ACN</td><td>Information Technology</td><td>124.14</td><td>1.96</td><td>18.37</td><td>6.76</td><td>11.95</td><td>102.1</td><td>125.72</td><td>77.29</td><td>5.66</td><td>2.3</td><td>10.32</td><td>http://www.sec.gov/cgi-bin/browse-edgar?action=getcompany&amp;CIK=ACN</td></tr><tr><th>9</th><td>ATVI</td><td>Activision Blizzard</td><td>Information Technology</td><td>ATVI</td><td>Information Technology</td><td>48.06</td><td>0.64</td><td>37.55</td><td>1.28</td><td>12.23</td><td>30.37</td><td>48.36</td><td>36.13</td><td>2.14</td><td>5.44</td><td>3.91</td><td>http://www.sec.gov/cgi-bin/browse-edgar?action=getcompany&amp;CIK=ATVI</td></tr><tr><th>10</th><td>AYI</td><td>Acuity Brands Inc</td><td>Industrials</td><td>AYI</td><td>Industrials</td><td>205.41</td><td>0.25</td><td>29.68</td><td>6.92</td><td>39.5</td><td>193.06</td><td>280.89</td><td>9.0</td><td>0.5862</td><td>2.64</td><td>5.19</td><td>http://www.sec.gov/cgi-bin/browse-edgar?action=getcompany&amp;CIK=AYI</td></tr><tr><th>11</th><td>ADBE</td><td>Adobe Systems Inc</td><td>Information Technology</td><td>ADBE</td><td>Information Technology</td><td>119.98</td><td>0.0</td><td>51.72</td><td>2.32</td><td>15.02</td><td>83.25</td><td>120.69</td><td>59.28</td><td>1.82</td><td>10.14</td><td>8.0</td><td>http://www.sec.gov/cgi-bin/browse-edgar?action=getcompany&amp;CIK=ADBE</td></tr><tr><th>12</th><td>AAP</td><td>Advance Auto Parts</td><td>Consumer Discretionary</td><td>AAP</td><td>Consumer Discretionary</td><td>151.99</td><td>0.15</td><td>24.51</td><td>6.2</td><td>39.66</td><td>132.98</td><td>177.83</td><td>11.18</td><td>1.12</td><td>1.19</td><td>3.89</td><td>http://www.sec.gov/cgi-bin/browse-edgar?action=getcompany&amp;CIK=AAP</td></tr><tr><th>13</th><td>AET</td><td>Aetna Inc</td><td>Health Care</td><td>AET</td><td>Health Care</td><td>130.59</td><td>1.53</td><td>20.37</td><td>6.41</td><td>50.84</td><td>104.59</td><td>136.5</td><td>45.93</td><td>6.2</td><td>0.73</td><td>2.58</td><td>http://www.sec.gov/cgi-bin/browse-edgar?action=getcompany&amp;CIK=AET</td></tr><tr><th>14</th><td>AMG</td><td>Affiliated Managers Group Inc</td><td>Financials</td><td>AMG</td><td>Financials</td><td>166.56</td><td>0.47</td><td>19.44</td><td>8.57</td><td>63.84</td><td>130.48</td><td>179.85</td><td>9.44</td><td>0.835</td><td>4.32</td><td>2.62</td><td>http://www.sec.gov/cgi-bin/browse-edgar?action=getcompany&amp;CIK=AMG</td></tr><tr><th>15</th><td>A</td><td>Agilent Technologies Inc</td><td>Health Care</td><td>A</td><td>Health Care</td><td>51.21</td><td>1.02</td><td>32.85</td><td>1.56</td><td>13.35</td><td>37.62</td><td>52.26</td><td>16.49</td><td>0.942</td><td>3.89</td><td>3.84</td><td>http://www.sec.gov/cgi-bin/browse-edgar?action=getcompany&amp;CIK=A</td></tr><tr><th>16</th><td>APD</td><td>Air Products &amp; Chemicals Inc</td><td>Materials</td><td>APD</td><td>Materials</td><td>139.64</td><td>2.72</td><td>53.77</td><td>2.6</td><td>32.91</td><td>123.05</td><td>150.45</td><td>30.38</td><td>3.13</td><td>3.18</td><td>4.23</td><td>http://www.sec.gov/cgi-bin/browse-edgar?action=getcompany&amp;CIK=APD</td></tr><tr><th>17</th><td>AKAM</td><td>Akamai Technologies Inc</td><td>Information Technology</td><td>AKAM</td><td>Information Technology</td><td>63.3</td><td>NA</td><td>35.36</td><td>1.79</td><td>18.61</td><td>47.8</td><td>71.64</td><td>10.96</td><td>0.70798</td><td>4.67</td><td>3.39</td><td>http://www.sec.gov/cgi-bin/browse-edgar?action=getcompany&amp;CIK=AKAM</td></tr><tr><th>18</th><td>ALK</td><td>Alaska Air Group Inc</td><td>Industrials</td><td>ALK</td><td>Industrials</td><td>95.12</td><td>1.21</td><td>14.54</td><td>6.54</td><td>23.77</td><td>54.51</td><td>101.43</td><td>11.74</td><td>1.82</td><td>2.01</td><td>4.07</td><td>http://www.sec.gov/cgi-bin/browse-edgar?action=getcompany&amp;CIK=ALK</td></tr><tr><th>19</th><td>ALB</td><td>Albemarle Corp</td><td>Materials</td><td>ALB</td><td>Materials</td><td>103.79</td><td>1.22</td><td>18.26</td><td>5.68</td><td>33.73</td><td>58.6</td><td>105.2</td><td>11.68</td><td>0.70201</td><td>4.29</td><td>3.03</td><td>http://www.sec.gov/cgi-bin/browse-edgar?action=getcompany&amp;CIK=ALB</td></tr><tr><th>20</th><td>ALXN</td><td>Alexion Pharmaceuticals</td><td>Health Care</td><td>ALXN</td><td>Health Care</td><td>129.18</td><td>NA</td><td>73.4</td><td>1.76</td><td>38.81</td><td>109.12</td><td>162.0</td><td>29.02</td><td>1.17</td><td>9.71</td><td>3.44</td><td>http://www.sec.gov/cgi-bin/browse-edgar?action=getcompany&amp;CIK=ALXN</td></tr><tr><th>21</th><td>ALLE</td><td>Allegion</td><td>Industrials</td><td>ALLE</td><td>Industrials</td><td>72.86</td><td>0.87</td><td>30.87</td><td>2.36</td><td>1.19</td><td>61.47</td><td>75.0</td><td>6.96</td><td>0.4789</td><td>3.12</td><td>61.57</td><td>http://www.sec.gov/cgi-bin/browse-edgar?action=getcompany&amp;CIK=ALLE</td></tr><tr><th>22</th><td>AGN</td><td>Allergan, Plc</td><td>Health Care</td><td>AGN</td><td>Health Care</td><td>239.6</td><td>1.14</td><td>6.28</td><td>38.18</td><td>212.79</td><td>184.5</td><td>299.11</td><td>80.32</td><td>6.1</td><td>5.58</td><td>1.14</td><td>http://www.sec.gov/cgi-bin/browse-edgar?action=getcompany&amp;CIK=AGN</td></tr><tr><th>23</th><td>ADS</td><td>Alliance Data Systems</td><td>Information Technology</td><td>ADS</td><td>Information Technology</td><td>245.05</td><td>0.85</td><td>33.39</td><td>7.34</td><td>28.89</td><td>185.02</td><td>249.22</td><td>13.7</td><td>1.46</td><td>1.92</td><td>8.5</td><td>http://www.sec.gov/cgi-bin/browse-edgar?action=getcompany&amp;CIK=ADS</td></tr><tr><th>24</th><td>LNT</td><td>Alliant Energy Corp</td><td>Utilities</td><td>LNT</td><td>Utilities</td><td>39.28</td><td>3.22</td><td>24.01</td><td>1.64</td><td>16.96</td><td>34.04</td><td>40.99</td><td>8.94</td><td>1.03</td><td>2.69</td><td>2.31</td><td>http://www.sec.gov/cgi-bin/browse-edgar?action=getcompany&amp;CIK=LNT</td></tr><tr><th>25</th><td>ALL</td><td>Allstate Corp</td><td>Financials</td><td>ALL</td><td>Financials</td><td>81.46</td><td>1.66</td><td>17.44</td><td>4.67</td><td>51.44</td><td>63.73</td><td>83.05</td><td>29.74</td><td>3.46</td><td>0.81</td><td>1.58</td><td>http://www.sec.gov/cgi-bin/browse-edgar?action=getcompany&amp;CIK=ALL</td></tr><tr><th>26</th><td>GOOGL</td><td>Alphabet Inc Class A</td><td>Information Technology</td><td>GOOGL</td><td>Information Technology</td><td>851.15</td><td>NA</td><td>30.53</td><td>27.88</td><td>201.12</td><td>672.66</td><td>867.0</td><td>588.5</td><td>29.86</td><td>6.49</td><td>4.21</td><td>http://www.sec.gov/cgi-bin/browse-edgar?action=getcompany&amp;CIK=GOOGL</td></tr><tr><th>27</th><td>GOOG</td><td>Alphabet Inc Class C</td><td>Information Technology</td><td>GOOG</td><td>Information Technology</td><td>831.91</td><td>NA</td><td>29.84</td><td>27.88</td><td>201.12</td><td>663.28</td><td>841.95</td><td>575.2</td><td>29.86</td><td>6.34</td><td>4.12</td><td>http://www.sec.gov/cgi-bin/browse-edgar?action=getcompany&amp;CIK=GOOG</td></tr><tr><th>28</th><td>MO</td><td>Altria Group Inc</td><td>Consumer Staples</td><td>MO</td><td>Consumer Staples</td><td>76.1</td><td>3.23</td><td>10.45</td><td>7.28</td><td>6.58</td><td>59.48</td><td>76.3</td><td>147.64</td><td>9.5</td><td>7.58</td><td>11.48</td><td>http://www.sec.gov/cgi-bin/browse-edgar?action=getcompany&amp;CIK=MO</td></tr><tr><th>29</th><td>AMZN</td><td>Amazon.com Inc</td><td>Consumer Discretionary</td><td>AMZN</td><td>Consumer Discretionary</td><td>846.02</td><td>NA</td><td>172.66</td><td>4.9</td><td>40.43</td><td>538.58</td><td>860.86</td><td>403.7</td><td>11.67</td><td>2.97</td><td>20.94</td><td>http://www.sec.gov/cgi-bin/browse-edgar?action=getcompany&amp;CIK=AMZN</td></tr><tr><th>30</th><td>AEE</td><td>Ameren Corp</td><td>Utilities</td><td>AEE</td><td>Utilities</td><td>54.82</td><td>3.21</td><td>20.46</td><td>2.68</td><td>29.28</td><td>46.29</td><td>55.51</td><td>13.3</td><td>2.3</td><td>2.27</td><td>1.87</td><td>http://www.sec.gov/cgi-bin/browse-edgar?action=getcompany&amp;CIK=AEE</td></tr><tr><th>&vellip;</th><td>&vellip;</td><td>&vellip;</td><td>&vellip;</td><td>&vellip;</td><td>&vellip;</td><td>&vellip;</td><td>&vellip;</td><td>&vellip;</td><td>&vellip;</td><td>&vellip;</td><td>&vellip;</td><td>&vellip;</td><td>&vellip;</td><td>&vellip;</td><td>&vellip;</td><td>&vellip;</td><td>&vellip;</td></tr></tbody></table>"
      ],
      "text/plain": [
       "507×17 DataFrames.DataFrame\n",
       "│ Row │ Symbol │ Name                     │ Sector                        │\n",
       "├─────┼────────┼──────────────────────────┼───────────────────────────────┤\n",
       "│ 1   │ \"MMM\"  │ \"3M Company\"             │ \"Industrials\"                 │\n",
       "│ 2   │ \"AES\"  │ \"AES Corp\"               │ \"Utilities\"                   │\n",
       "│ 3   │ \"AFL\"  │ \"AFLAC Inc\"              │ \"Financials\"                  │\n",
       "│ 4   │ \"AME\"  │ \"AMETEK Inc\"             │ \"Industrials\"                 │\n",
       "│ 5   │ \"T\"    │ \"AT&T Inc\"               │ \"Telecommunications Services\" │\n",
       "│ 6   │ \"ABBV\" │ \"AbbVie\"                 │ \"Health Care\"                 │\n",
       "│ 7   │ \"ABT\"  │ \"Abbott Laboratories\"    │ \"Health Care\"                 │\n",
       "│ 8   │ \"ACN\"  │ \"Accenture plc\"          │ \"Information Technology\"      │\n",
       "│ 9   │ \"ATVI\" │ \"Activision Blizzard\"    │ \"Information Technology\"      │\n",
       "│ 10  │ \"AYI\"  │ \"Acuity Brands Inc\"      │ \"Industrials\"                 │\n",
       "│ 11  │ \"ADBE\" │ \"Adobe Systems Inc\"      │ \"Information Technology\"      │\n",
       "⋮\n",
       "│ 496 │ \"WYNN\" │ \"Wynn Resorts Ltd\"       │ \"Consumer Discretionary\"      │\n",
       "│ 497 │ \"XL\"   │ \"XL Capital\"             │ \"Financials\"                  │\n",
       "│ 498 │ \"XEL\"  │ \"Xcel Energy Inc\"        │ \"Utilities\"                   │\n",
       "│ 499 │ \"XRX\"  │ \"Xerox Corp.\"            │ \"Information Technology\"      │\n",
       "│ 500 │ \"XLNX\" │ \"Xilinx Inc\"             │ \"Information Technology\"      │\n",
       "│ 501 │ \"XYL\"  │ \"Xylem Inc.\"             │ \"Industrials\"                 │\n",
       "│ 502 │ \"YHOO\" │ \"Yahoo Inc.\"             │ \"Information Technology\"      │\n",
       "│ 503 │ \"YUM\"  │ \"Yum! Brands Inc\"        │ \"Consumer Discretionary\"      │\n",
       "│ 504 │ \"ZBH\"  │ \"Zimmer Biomet Holdings\" │ \"Health Care\"                 │\n",
       "│ 505 │ \"ZION\" │ \"Zions Bancorp\"          │ \"Financials\"                  │\n",
       "│ 506 │ \"ZTS\"  │ \"Zoetis\"                 │ \"Health Care\"                 │\n",
       "│ 507 │ \"EBAY\" │ \"eBay Inc.\"              │ \"Information Technology\"      │\n",
       "\n",
       "│ Row │ Symbol_1 │ Sector_1                      │ Price  │ Dividend_Yield │\n",
       "├─────┼──────────┼───────────────────────────────┼────────┼────────────────┤\n",
       "│ 1   │ \"MMM\"    │ \"Industrials\"                 │ 189.09 │ 2.48           │\n",
       "│ 2   │ \"AES\"    │ \"Utilities\"                   │ 11.33  │ 4.16           │\n",
       "│ 3   │ \"AFL\"    │ \"Financials\"                  │ 71.95  │ 2.38           │\n",
       "│ 4   │ \"AME\"    │ \"Industrials\"                 │ 54.51  │ 0.66           │\n",
       "│ 5   │ \"T\"      │ \"Telecommunications Services\" │ 41.88  │ 4.67           │\n",
       "│ 6   │ \"ABBV\"   │ \"Health Care\"                 │ 63.69  │ 4.04           │\n",
       "│ 7   │ \"ABT\"    │ \"Health Care\"                 │ 45.0   │ 2.34           │\n",
       "│ 8   │ \"ACN\"    │ \"Information Technology\"      │ 124.14 │ 1.96           │\n",
       "│ 9   │ \"ATVI\"   │ \"Information Technology\"      │ 48.06  │ 0.64           │\n",
       "│ 10  │ \"AYI\"    │ \"Industrials\"                 │ 205.41 │ 0.25           │\n",
       "│ 11  │ \"ADBE\"   │ \"Information Technology\"      │ 119.98 │ 0.0            │\n",
       "⋮\n",
       "│ 496 │ \"WYNN\"   │ \"Consumer Discretionary\"      │ 99.46  │ 1.98           │\n",
       "│ 497 │ \"XL\"     │ \"Financials\"                  │ 40.13  │ 2.18           │\n",
       "│ 498 │ \"XEL\"    │ \"Utilities\"                   │ 43.82  │ 3.29           │\n",
       "│ 499 │ \"XRX\"    │ \"Information Technology\"      │ 7.36   │ 3.4            │\n",
       "│ 500 │ \"XLNX\"   │ \"Information Technology\"      │ 58.75  │ 2.25           │\n",
       "│ 501 │ \"XYL\"    │ \"Industrials\"                 │ 48.78  │ 1.48           │\n",
       "│ 502 │ \"YHOO\"   │ \"Information Technology\"      │ 45.73  │ NA             │\n",
       "│ 503 │ \"YUM\"    │ \"Consumer Discretionary\"      │ 64.02  │ 2.66           │\n",
       "│ 504 │ \"ZBH\"    │ \"Health Care\"                 │ 117.07 │ 0.81           │\n",
       "│ 505 │ \"ZION\"   │ \"Financials\"                  │ 45.28  │ 0.71           │\n",
       "│ 506 │ \"ZTS\"    │ \"Health Care\"                 │ 53.07  │ 0.79           │\n",
       "│ 507 │ \"EBAY\"   │ \"Information Technology\"      │ 33.47  │ NA             │\n",
       "\n",
       "│ Row │ Price_Earnings │ Earnings_Share │ Book_Value │ x52_week_low │\n",
       "├─────┼────────────────┼────────────────┼────────────┼──────────────┤\n",
       "│ 1   │ 23.17          │ 8.16           │ 17.26      │ 158.28       │\n",
       "│ 2   │ NA             │ -1.71          │ 4.24       │ 10.27        │\n",
       "│ 3   │ 11.21          │ 6.42           │ 50.47      │ 59.66        │\n",
       "│ 4   │ 24.89          │ 2.19           │ 14.2       │ 43.28        │\n",
       "│ 5   │ 19.95          │ 2.1            │ 20.06      │ 36.1         │\n",
       "│ 6   │ 17.55          │ 3.63           │ 2.91       │ 54.41        │\n",
       "│ 7   │ 48.03          │ 0.94           │ 13.94      │ 36.76        │\n",
       "│ 8   │ 18.37          │ 6.76           │ 11.95      │ 102.1        │\n",
       "│ 9   │ 37.55          │ 1.28           │ 12.23      │ 30.37        │\n",
       "│ 10  │ 29.68          │ 6.92           │ 39.5       │ 193.06       │\n",
       "│ 11  │ 51.72          │ 2.32           │ 15.02      │ 83.25        │\n",
       "⋮\n",
       "│ 496 │ 41.79          │ 2.38           │ 1.55       │ 79.77        │\n",
       "│ 497 │ 25.72          │ 1.56           │ 40.99      │ 30.33        │\n",
       "│ 498 │ 19.85          │ 2.21           │ 21.73      │ 38.0         │\n",
       "│ 499 │ NA             │ -0.49          │ 4.74       │ 6.46         │\n",
       "│ 500 │ 25.77          │ 2.28           │ 9.97       │ 41.53        │\n",
       "│ 501 │ 33.64          │ 1.45           │ 12.21      │ 37.58        │\n",
       "│ 502 │ NA             │ -0.23          │ 32.5       │ 32.09        │\n",
       "│ 503 │ 15.83          │ 4.04           │ -15.93     │ 59.57        │\n",
       "│ 504 │ 77.53          │ 1.51           │ 48.2       │ 95.63        │\n",
       "│ 505 │ 22.75          │ 1.99           │ 34.1       │ 23.02        │\n",
       "│ 506 │ 32.16          │ 1.65           │ 3.02       │ 39.35        │\n",
       "│ 507 │ 5.27           │ 6.35           │ 9.69       │ 22.3         │\n",
       "\n",
       "│ Row │ x52_week_high │ Market_Cap │ EBITDA  │ Price_Sales │ Price_Book │\n",
       "├─────┼───────────────┼────────────┼─────────┼─────────────┼────────────┤\n",
       "│ 1   │ 190.54        │ 112.74     │ 8.7     │ 3.74        │ 10.95      │\n",
       "│ 2   │ 13.32         │ 7.47       │ 3.42    │ 0.56        │ 2.72       │\n",
       "│ 3   │ 74.5          │ 28.88      │ 4.78    │ 1.27        │ 1.43       │\n",
       "│ 4   │ 55.48         │ 12.51      │ 1.01    │ 3.26        │ 3.85       │\n",
       "│ 5   │ 43.89         │ 257.21     │ 49.74   │ 1.57        │ 2.09       │\n",
       "│ 6   │ 68.12         │ 101.52     │ 10.95   │ 3.95        │ 21.83      │\n",
       "│ 7   │ 45.83         │ 77.76      │ 4.59    │ 3.74        │ 3.24       │\n",
       "│ 8   │ 125.72        │ 77.29      │ 5.66    │ 2.3         │ 10.32      │\n",
       "│ 9   │ 48.36         │ 36.13      │ 2.14    │ 5.44        │ 3.91       │\n",
       "│ 10  │ 280.89        │ 9.0        │ 0.5862  │ 2.64        │ 5.19       │\n",
       "│ 11  │ 120.69        │ 59.28      │ 1.82    │ 10.14       │ 8.0        │\n",
       "⋮\n",
       "│ 496 │ 109.5         │ 10.11      │ 0.95059 │ 2.28        │ 64.59      │\n",
       "│ 497 │ 41.39         │ 10.63      │ 1.1     │ 1.0         │ 0.97       │\n",
       "│ 498 │ 45.42         │ 22.23      │ 3.65    │ 1.99        │ 2.01       │\n",
       "│ 499 │ 11.39         │ 7.48       │ 1.52    │ 0.7         │ 1.57       │\n",
       "│ 500 │ 62.24         │ 14.62      │ 0.76713 │ 6.33        │ 5.9        │\n",
       "│ 501 │ 54.99         │ 8.75       │ 0.615   │ 2.31        │ 3.97       │\n",
       "│ 502 │ 46.72         │ 43.74      │ 0.2268  │ 8.45        │ 1.4        │\n",
       "│ 503 │ 91.99         │ 22.65      │ 1.96    │ 3.59        │ NA         │\n",
       "│ 504 │ 133.21        │ 23.54      │ 2.8     │ 3.07        │ 2.43       │\n",
       "│ 505 │ 48.33         │ 9.17       │ 0.0     │ 4.01        │ 1.33       │\n",
       "│ 506 │ 56.5          │ 26.11      │ 1.7     │ 5.34        │ 17.59      │\n",
       "│ 507 │ 34.43         │ 36.38      │ 3.01    │ 4.07        │ 3.47       │\n",
       "\n",
       "│ Row │ SEC_Filings                                                          │\n",
       "├─────┼──────────────────────────────────────────────────────────────────────┤\n",
       "│ 1   │ \"http://www.sec.gov/cgi-bin/browse-edgar?action=getcompany&CIK=MMM\"  │\n",
       "│ 2   │ \"http://www.sec.gov/cgi-bin/browse-edgar?action=getcompany&CIK=AES\"  │\n",
       "│ 3   │ \"http://www.sec.gov/cgi-bin/browse-edgar?action=getcompany&CIK=AFL\"  │\n",
       "│ 4   │ \"http://www.sec.gov/cgi-bin/browse-edgar?action=getcompany&CIK=AME\"  │\n",
       "│ 5   │ \"http://www.sec.gov/cgi-bin/browse-edgar?action=getcompany&CIK=T\"    │\n",
       "│ 6   │ \"http://www.sec.gov/cgi-bin/browse-edgar?action=getcompany&CIK=ABBV\" │\n",
       "│ 7   │ \"http://www.sec.gov/cgi-bin/browse-edgar?action=getcompany&CIK=ABT\"  │\n",
       "│ 8   │ \"http://www.sec.gov/cgi-bin/browse-edgar?action=getcompany&CIK=ACN\"  │\n",
       "│ 9   │ \"http://www.sec.gov/cgi-bin/browse-edgar?action=getcompany&CIK=ATVI\" │\n",
       "│ 10  │ \"http://www.sec.gov/cgi-bin/browse-edgar?action=getcompany&CIK=AYI\"  │\n",
       "│ 11  │ \"http://www.sec.gov/cgi-bin/browse-edgar?action=getcompany&CIK=ADBE\" │\n",
       "⋮\n",
       "│ 496 │ \"http://www.sec.gov/cgi-bin/browse-edgar?action=getcompany&CIK=WYNN\" │\n",
       "│ 497 │ \"http://www.sec.gov/cgi-bin/browse-edgar?action=getcompany&CIK=XL\"   │\n",
       "│ 498 │ \"http://www.sec.gov/cgi-bin/browse-edgar?action=getcompany&CIK=XEL\"  │\n",
       "│ 499 │ \"http://www.sec.gov/cgi-bin/browse-edgar?action=getcompany&CIK=XRX\"  │\n",
       "│ 500 │ \"http://www.sec.gov/cgi-bin/browse-edgar?action=getcompany&CIK=XLNX\" │\n",
       "│ 501 │ \"http://www.sec.gov/cgi-bin/browse-edgar?action=getcompany&CIK=XYL\"  │\n",
       "│ 502 │ \"http://www.sec.gov/cgi-bin/browse-edgar?action=getcompany&CIK=YHOO\" │\n",
       "│ 503 │ \"http://www.sec.gov/cgi-bin/browse-edgar?action=getcompany&CIK=YUM\"  │\n",
       "│ 504 │ \"http://www.sec.gov/cgi-bin/browse-edgar?action=getcompany&CIK=ZBH\"  │\n",
       "│ 505 │ \"http://www.sec.gov/cgi-bin/browse-edgar?action=getcompany&CIK=ZION\" │\n",
       "│ 506 │ \"http://www.sec.gov/cgi-bin/browse-edgar?action=getcompany&CIK=ZTS\"  │\n",
       "│ 507 │ \"http://www.sec.gov/cgi-bin/browse-edgar?action=getcompany&CIK=EBAY\" │"
      ]
     },
     "execution_count": 14,
     "metadata": {},
     "output_type": "execute_result"
    }
   ],
   "source": [
    "df2 = join(constituent,constituent_finan,on=:Name,kind=:inner)"
   ]
  },
  {
   "cell_type": "code",
   "execution_count": 15,
   "metadata": {},
   "outputs": [
    {
     "name": "stdout",
     "output_type": "stream",
     "text": [
      "507×17 DataFrames.DataFrame\n",
      "│ Col # │ Name           │ Eltype  │ Missing │\n",
      "├───────┼────────────────┼─────────┼─────────┤\n",
      "│ 1     │ Symbol         │ String  │ 0       │\n",
      "│ 2     │ Name           │ String  │ 0       │\n",
      "│ 3     │ Sector         │ String  │ 0       │\n",
      "│ 4     │ Symbol_1       │ String  │ 0       │\n",
      "│ 5     │ Sector_1       │ String  │ 0       │\n",
      "│ 6     │ Price          │ Float64 │ 2       │\n",
      "│ 7     │ Dividend_Yield │ Float64 │ 68      │\n",
      "│ 8     │ Price_Earnings │ Float64 │ 56      │\n",
      "│ 9     │ Earnings_Share │ Float64 │ 1       │\n",
      "│ 10    │ Book_Value     │ Float64 │ 2       │\n",
      "│ 11    │ x52_week_low   │ Float64 │ 2       │\n",
      "│ 12    │ x52_week_high  │ Float64 │ 2       │\n",
      "│ 13    │ Market_Cap     │ Float64 │ 2       │\n",
      "│ 14    │ EBITDA         │ Float64 │ 2       │\n",
      "│ 15    │ Price_Sales    │ Float64 │ 2       │\n",
      "│ 16    │ Price_Book     │ Float64 │ 21      │\n",
      "│ 17    │ SEC_Filings    │ String  │ 0       │"
     ]
    }
   ],
   "source": [
    "showcols(df2)"
   ]
  },
  {
   "cell_type": "code",
   "execution_count": 18,
   "metadata": {},
   "outputs": [
    {
     "data": {
      "text/html": [
       "<table class=\"data-frame\"><thead><tr><th></th><th>ID</th><th>name</th></tr></thead><tbody><tr><th>1</th><td>1</td><td>Matthews</td></tr><tr><th>2</th><td>2</td><td>Daniella</td></tr><tr><th>3</th><td>3</td><td>Kofi</td></tr><tr><th>4</th><td>4</td><td>Vladmir</td></tr><tr><th>5</th><td>5</td><td>Jean</td></tr><tr><th>6</th><td>9</td><td>James</td></tr><tr><th>7</th><td>11</td><td>Ayo</td></tr><tr><th>8</th><td>20</td><td>Bill</td></tr><tr><th>9</th><td>30</td><td>Jes</td></tr><tr><th>10</th><td>204</td><td>Mary</td></tr></tbody></table>"
      ],
      "text/plain": [
       "10×2 DataFrames.DataFrame\n",
       "│ Row │ ID  │ name       │\n",
       "├─────┼─────┼────────────┤\n",
       "│ 1   │ 1   │ \"Matthews\" │\n",
       "│ 2   │ 2   │ \"Daniella\" │\n",
       "│ 3   │ 3   │ \"Kofi\"     │\n",
       "│ 4   │ 4   │ \"Vladmir\"  │\n",
       "│ 5   │ 5   │ \"Jean\"     │\n",
       "│ 6   │ 9   │ \"James\"    │\n",
       "│ 7   │ 11  │ \"Ayo\"      │\n",
       "│ 8   │ 20  │ \"Bill\"     │\n",
       "│ 9   │ 30  │ \"Jes\"      │\n",
       "│ 10  │ 204 │ \"Mary\"     │"
      ]
     },
     "execution_count": 18,
     "metadata": {},
     "output_type": "execute_result"
    }
   ],
   "source": [
    "employer1 = DataFrame( ID = [01,02,03,04,05,09,11,20,30,204],\n",
    "    name=[\"Matthews\",\"Daniella\",\"Kofi\",\"Vladmir\",\"Jean\",\"James\",\"Ayo\",\"Bill\",\"Jes\",\"Mary\"])"
   ]
  },
  {
   "cell_type": "code",
   "execution_count": null,
   "metadata": {},
   "outputs": [],
   "source": [
    "# Difference Between join and append!"
   ]
  },
  {
   "cell_type": "code",
   "execution_count": 19,
   "metadata": {},
   "outputs": [
    {
     "data": {
      "text/html": [
       "<table class=\"data-frame\"><thead><tr><th></th><th>ID</th><th>name</th></tr></thead><tbody><tr><th>1</th><td>1</td><td>Matthews</td></tr><tr><th>2</th><td>2</td><td>Daniella</td></tr><tr><th>3</th><td>3</td><td>Kofi</td></tr><tr><th>4</th><td>4</td><td>Vladmir</td></tr><tr><th>5</th><td>5</td><td>Jean</td></tr><tr><th>6</th><td>9</td><td>James</td></tr><tr><th>7</th><td>11</td><td>Ayo</td></tr><tr><th>8</th><td>20</td><td>Bill</td></tr><tr><th>9</th><td>30</td><td>Jes</td></tr><tr><th>10</th><td>204</td><td>Mary</td></tr><tr><th>11</th><td>1</td><td>Matthews</td></tr><tr><th>12</th><td>2</td><td>Daniella</td></tr><tr><th>13</th><td>3</td><td>Kofi</td></tr><tr><th>14</th><td>4</td><td>Vladmir</td></tr><tr><th>15</th><td>5</td><td>Jean</td></tr><tr><th>16</th><td>9</td><td>James</td></tr><tr><th>17</th><td>11</td><td>Ayo</td></tr><tr><th>18</th><td>20</td><td>Bill</td></tr><tr><th>19</th><td>30</td><td>Jes</td></tr><tr><th>20</th><td>204</td><td>Mary</td></tr></tbody></table>"
      ],
      "text/plain": [
       "20×2 DataFrames.DataFrame\n",
       "│ Row │ ID  │ name       │\n",
       "├─────┼─────┼────────────┤\n",
       "│ 1   │ 1   │ \"Matthews\" │\n",
       "│ 2   │ 2   │ \"Daniella\" │\n",
       "│ 3   │ 3   │ \"Kofi\"     │\n",
       "│ 4   │ 4   │ \"Vladmir\"  │\n",
       "│ 5   │ 5   │ \"Jean\"     │\n",
       "│ 6   │ 9   │ \"James\"    │\n",
       "│ 7   │ 11  │ \"Ayo\"      │\n",
       "│ 8   │ 20  │ \"Bill\"     │\n",
       "│ 9   │ 30  │ \"Jes\"      │\n",
       "│ 10  │ 204 │ \"Mary\"     │\n",
       "│ 11  │ 1   │ \"Matthews\" │\n",
       "│ 12  │ 2   │ \"Daniella\" │\n",
       "│ 13  │ 3   │ \"Kofi\"     │\n",
       "│ 14  │ 4   │ \"Vladmir\"  │\n",
       "│ 15  │ 5   │ \"Jean\"     │\n",
       "│ 16  │ 9   │ \"James\"    │\n",
       "│ 17  │ 11  │ \"Ayo\"      │\n",
       "│ 18  │ 20  │ \"Bill\"     │\n",
       "│ 19  │ 30  │ \"Jes\"      │\n",
       "│ 20  │ 204 │ \"Mary\"     │"
      ]
     },
     "execution_count": 19,
     "metadata": {},
     "output_type": "execute_result"
    }
   ],
   "source": [
    "append!(employer,employer1)"
   ]
  },
  {
   "cell_type": "code",
   "execution_count": null,
   "metadata": {},
   "outputs": [],
   "source": [
    "# THANKS\n",
    "# J-Secur1ty @JCharisTech\n",
    "# Jesus Saves"
   ]
  }
 ],
 "metadata": {
  "kernelspec": {
   "display_name": "Julia 0.6.1",
   "language": "julia",
   "name": "julia-0.6"
  },
  "language_info": {
   "file_extension": ".jl",
   "mimetype": "application/julia",
   "name": "julia",
   "version": "0.6.1"
  }
 },
 "nbformat": 4,
 "nbformat_minor": 2
}
